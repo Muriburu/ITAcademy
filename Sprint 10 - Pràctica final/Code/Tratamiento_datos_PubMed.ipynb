{
 "cells": [
  {
   "cell_type": "markdown",
   "id": "d269bcd7",
   "metadata": {},
   "source": [
    "# **Publicaciones PubMed**"
   ]
  },
  {
   "cell_type": "code",
   "execution_count": 47,
   "id": "aa2695bc",
   "metadata": {},
   "outputs": [],
   "source": [
    "\"\"\"1º Importo las librerías que creo que puedo necesitar en esta tarea.\"\"\"\n",
    "\n",
    "# Manejo de datos\n",
    "import pandas as pd  # Análisis y manipulación de datos en tablas\n",
    "\n",
    "# Visualización de datos\n",
    "import matplotlib.pyplot as plt  # Gráficos básicos en 2D"
   ]
  },
  {
   "cell_type": "code",
   "execution_count": 48,
   "id": "3f74e2dd",
   "metadata": {},
   "outputs": [
    {
     "data": {
      "application/vnd.microsoft.datawrangler.viewer.v0+json": {
       "columns": [
        {
         "name": "index",
         "rawType": "int64",
         "type": "integer"
        },
        {
         "name": "pmid",
         "rawType": "int64",
         "type": "integer"
        },
        {
         "name": "title",
         "rawType": "object",
         "type": "unknown"
        },
        {
         "name": "pub_year",
         "rawType": "int64",
         "type": "integer"
        },
        {
         "name": "pubtype",
         "rawType": "object",
         "type": "string"
        },
        {
         "name": "journal",
         "rawType": "object",
         "type": "string"
        }
       ],
       "conversionMethod": "pd.DataFrame",
       "ref": "bb951448-bf4f-4508-b9b4-6fc29fdda547",
       "rows": [
        [
         "0",
         "19973918",
         "A Case of a Rare Disease of the Long Bones terminating in Sarcoma of the Femur.",
         "1909",
         "Journal Article",
         "Proceedings of the Royal Society of Medicine"
        ],
        [
         "1",
         "19979883",
         "A Rare Disease in Two Brothers.",
         "1917",
         "Journal Article",
         "Proceedings of the Royal Society of Medicine"
        ],
        [
         "2",
         "30438855",
         "A Rare Disease of the Conjunctiva, with Spontaneous Cure.",
         "1933",
         "Journal Article",
         "Glasgow medical journal"
        ],
        [
         "3",
         "20282579",
         "Sandifort's Observationes, chapter I, concerning a very rare disease of the heart.",
         "1946",
         "Biography; Journal Article",
         "Bulletin of the history of medicine"
        ],
        [
         "4",
         "20985704",
         "Chronic erosive, granulomatous, atrophic gastritis; a case report of a rare disease.",
         "1946",
         "Journal Article",
         "Gastroenterology"
        ],
        [
         "5",
         "15410547",
         "Is early osteochondritis of the patella really a rare disease?",
         "1950",
         "Journal Article",
         "Acta chirurgiae orthopaedicae et traumatologiae Cechoslovaca"
        ],
        [
         "6",
         "14822046",
         "[Rare disease of the cornea caused by defects of Descemer's membranes].",
         "1951",
         "Journal Article",
         "Ceskoslovenska oftalmologie"
        ],
        [
         "7",
         "13026929",
         "[An unusual case of a rare disease, gonococcic meningitis].",
         "1952",
         "Journal Article",
         "La Presse medicale"
        ],
        [
         "8",
         "13012938",
         "[A rare disease caused by accident: Mondor's disease].",
         "1952",
         "Journal Article",
         "Minerva medica"
        ],
        [
         "9",
         "13083846",
         "[Conjunctivitis: a rare disease].",
         "1953",
         "Journal Article",
         "Gazette medicale de France"
        ],
        [
         "10",
         "13043378",
         "[Feer's disease (acrodynia); a rare disease].",
         "1953",
         "Journal Article",
         "Deutsche medizinische Wochenschrift (1946)"
        ],
        [
         "11",
         "13221098",
         "Scurvy; a rare disease?",
         "1954",
         "Journal Article",
         "Glasgow medical journal"
        ],
        [
         "12",
         "13177857",
         "[Right-sided subphrenic abscess with perforation into the bronchial tree (thoracic symptoms and diaphrenic complications of a rare disease)].",
         "1954",
         "Journal Article",
         "Radiologia clinica"
        ],
        [
         "13",
         "13396803",
         "[Osteomyelitis of the maxilla as a rare disease in infants].",
         "1956",
         "Journal Article",
         "Ceskoslovenska oftalmologie"
        ],
        [
         "14",
         "13333831",
         "[A rare disease of femoral diaphysis].",
         "1956",
         "Journal Article",
         "Minerva chirurgica"
        ],
        [
         "15",
         "13416619",
         "Myasthenia-a rare disease?",
         "1957",
         "Journal Article",
         "The Journal of the Indiana State Medical Association"
        ],
        [
         "16",
         "13586530",
         "A RARE common disease and a common rare disease: brucellosis and leptospirosis.",
         "1958",
         "Journal Article",
         "GP"
        ],
        [
         "17",
         "13534094",
         "[Can we ignore the existence of general paralysis as a rare disease].",
         "1958",
         "Journal Article",
         "Annales medico-psychologiques"
        ],
        [
         "18",
         "13566877",
         "[Besnier-Boeck-Schaumann disease as a rare disease of childhood].",
         "1958",
         "Journal Article",
         "Pediatria polska"
        ],
        [
         "19",
         "13818512",
         "[Apropos of a rare disease].",
         "1959",
         "Journal Article",
         "La Medecine infantile"
        ],
        [
         "20",
         "13628871",
         "Epidermolysis bullosa: a rare disease of anaesthetic interest.",
         "1959",
         "Journal Article",
         "British journal of anaesthesia"
        ],
        [
         "21",
         "13730495",
         "On a rare disease due to Alternaria tenuis Nees (alternariasis).",
         "1960",
         "Journal Article",
         "The Tohoku journal of experimental medicine"
        ],
        [
         "22",
         "13872182",
         "Epidermolysis bullosa: a rare disease of dental interest. Review of the literature and report of a case.",
         "1961",
         "Case Reports; Journal Article",
         "Oral surgery, oral medicine, and oral pathology"
        ],
        [
         "23",
         "13701631",
         "The problem of syphilis. Is it a rare disease?",
         "1961",
         "Journal Article",
         "Journal of the National Medical Association"
        ],
        [
         "24",
         "13716410",
         "[A rare disease: chondroma of the tendon sheaths. Report of a case and review of the literature].",
         "1961",
         "Journal Article",
         "Annales de chirurgie"
        ],
        [
         "25",
         "14495095",
         "[Is Scheuermann's disease a rare disease? (A study on the coincidence of Scheuermann's disease and lumbar nucleus pulposus hernia)].",
         "1962",
         "Journal Article",
         "Fortschritte auf dem Gebiete der Rontgenstrahlen und der Nuklearmedizin"
        ],
        [
         "26",
         "14449591",
         "[A rare disease: chondroma of tendon sheaths. Report of a case and review of the literature].",
         "1962",
         "Case Reports; Journal Article",
         "Bulletin de la Societe des sciences medicales du Grand-Duche de Luxembourg"
        ],
        [
         "27",
         "14097948",
         "[MUCOVISCIDOSIS IN ADULTS, A RARE DISEASE].",
         "1963",
         "Journal Article",
         "Schweizerische medizinische Wochenschrift"
        ],
        [
         "28",
         "14115063",
         "[A RARE DISEASE OF THE MESENTERY: MESENTERIC LIPOBLASTOMA].",
         "1963",
         "Journal Article",
         "Marseille chirurgical"
        ],
        [
         "29",
         "14043570",
         "[ON A RARE DISEASE OF THE LUNGS IN PREMATURE INFANTS].",
         "1963",
         "Journal Article",
         "Annales paediatrici. International review of pediatrics"
        ],
        [
         "30",
         "14193345",
         "[MUCOVISCIDOSIS OF THE ADULT: A NOT TOO RARE DISEASE].",
         "1964",
         "Journal Article",
         "Il Policlinico. Sezione pratica"
        ],
        [
         "31",
         "14238349",
         "[GONADAL DYSGENESIS (TURNER'S SYNDROME): A RARE DISEASE BUT VALUABLE INSTRUCTIVELY; A CHROMOSOME STUDY OF 35 CASES].",
         "1964",
         "Journal Article",
         "Schweizerische medizinische Wochenschrift"
        ],
        [
         "32",
         "14145295",
         "[APROPOS OF A RARE DISEASE: PSEUDO-HEMOPHILIC ARTHRITIS CAUSED BY ISOLATED PROCONVERTIN DEFICIENCY].",
         "1964",
         "Journal Article",
         "Annales de pediatrie"
        ],
        [
         "33",
         "5844564",
         "Fabry's disease (angiokeratoma corporis diffusum): case report on a rare disease.",
         "1965",
         "Case Reports; Journal Article",
         "Annals of internal medicine"
        ],
        [
         "34",
         "14274545",
         "REPORT ON COREOPSIS (A RARE? DISEASE?).",
         "1965",
         "Journal Article",
         "Psychosomatics"
        ],
        [
         "35",
         "5225654",
         "[Considerations on a rare disease of the salivary glands. Kuttner's inflammatory \"pseudo-tumor\"].",
         "1966",
         "Case Reports; Journal Article",
         "Annali di stomatologia"
        ],
        [
         "36",
         "5615738",
         "[Contribution to the knowledge of a rare disease: Papillon-Lefevre syndrome].",
         "1967",
         "Journal Article",
         "La Clinica pediatrica"
        ],
        [
         "37",
         "5608233",
         "[Hepatic cirrhosis and beta-thalassemia: a not so rare disease association].",
         "1967",
         "Journal Article",
         "Archivio italiano delle malattie dell'apparato digerente"
        ],
        [
         "38",
         "4183050",
         "[Functional morphology of the pancreas, demonstrated on rare disease conditions].",
         "1967",
         "Journal Article",
         "Die Medizinische Welt"
        ],
        [
         "39",
         "6039756",
         "Ainhum. A rare disease.",
         "1967",
         "Case Reports; Journal Article",
         "Indian journal of medical sciences"
        ],
        [
         "40",
         "5742161",
         "[Autoerythrocyte sensitization syndrome: a rare disease?].",
         "1968",
         "Journal Article",
         "Lakartidningen"
        ],
        [
         "41",
         "5704026",
         "[A rare disease of the biliary tract: ascaridiasis].",
         "1968",
         "Journal Article",
         "Der Chirurg; Zeitschrift fur alle Gebiete der operativen Medizen"
        ],
        [
         "42",
         "5370803",
         "[Rare disease course of a rhinogenic extradural abscess].",
         "1969",
         "Journal Article",
         "HNO"
        ],
        [
         "43",
         "5269833",
         "[Dental aspects of a rare disease: congenital porphyria. Description of a case].",
         "1969",
         "Journal Article",
         "Rivista italiana di stomatologia"
        ],
        [
         "44",
         "5383582",
         "Sporotrichosis (a rare disease in India).",
         "1969",
         "Journal Article",
         "Indian journal of dermatology"
        ],
        [
         "45",
         "5508070",
         "[Subacute sclerosing leukoencephalitis - a rare disease picture?].",
         "1970",
         "Journal Article",
         "Kinderarztliche Praxis"
        ],
        [
         "46",
         "5444403",
         "Rabies: a rare disease but a serious pediatric problem.",
         "1970",
         "Journal Article",
         "Pediatrics"
        ],
        [
         "47",
         "5199178",
         "[Epidermiolysis bullosa: a rare disease].",
         "1970",
         "Journal Article",
         "L' Infirmiere canadienne"
        ],
        [
         "48",
         "5113210",
         "A rare disease: apparently congenital stenosis of the perineal urethra in men. Apropos of 2 cases.",
         "1971",
         "Journal Article",
         "Journal d'urologie et de nephrologie"
        ],
        [
         "49",
         "5108750",
         "Asymptomatic goiter as an expression of a rare disease.",
         "1971",
         "Case Reports; Journal Article",
         "Clinical pediatrics"
        ]
       ],
       "shape": {
        "columns": 5,
        "rows": 2617
       }
      },
      "text/html": [
       "<div>\n",
       "<style scoped>\n",
       "    .dataframe tbody tr th:only-of-type {\n",
       "        vertical-align: middle;\n",
       "    }\n",
       "\n",
       "    .dataframe tbody tr th {\n",
       "        vertical-align: top;\n",
       "    }\n",
       "\n",
       "    .dataframe thead th {\n",
       "        text-align: right;\n",
       "    }\n",
       "</style>\n",
       "<table border=\"1\" class=\"dataframe\">\n",
       "  <thead>\n",
       "    <tr style=\"text-align: right;\">\n",
       "      <th></th>\n",
       "      <th>pmid</th>\n",
       "      <th>title</th>\n",
       "      <th>pub_year</th>\n",
       "      <th>pubtype</th>\n",
       "      <th>journal</th>\n",
       "    </tr>\n",
       "  </thead>\n",
       "  <tbody>\n",
       "    <tr>\n",
       "      <th>0</th>\n",
       "      <td>19973918</td>\n",
       "      <td>A Case of a Rare Disease of the Long Bones ter...</td>\n",
       "      <td>1909</td>\n",
       "      <td>Journal Article</td>\n",
       "      <td>Proceedings of the Royal Society of Medicine</td>\n",
       "    </tr>\n",
       "    <tr>\n",
       "      <th>1</th>\n",
       "      <td>19979883</td>\n",
       "      <td>A Rare Disease in Two Brothers.</td>\n",
       "      <td>1917</td>\n",
       "      <td>Journal Article</td>\n",
       "      <td>Proceedings of the Royal Society of Medicine</td>\n",
       "    </tr>\n",
       "    <tr>\n",
       "      <th>2</th>\n",
       "      <td>30438855</td>\n",
       "      <td>A Rare Disease of the Conjunctiva, with Sponta...</td>\n",
       "      <td>1933</td>\n",
       "      <td>Journal Article</td>\n",
       "      <td>Glasgow medical journal</td>\n",
       "    </tr>\n",
       "    <tr>\n",
       "      <th>3</th>\n",
       "      <td>20282579</td>\n",
       "      <td>Sandifort's Observationes, chapter I, concerni...</td>\n",
       "      <td>1946</td>\n",
       "      <td>Biography; Journal Article</td>\n",
       "      <td>Bulletin of the history of medicine</td>\n",
       "    </tr>\n",
       "    <tr>\n",
       "      <th>4</th>\n",
       "      <td>20985704</td>\n",
       "      <td>Chronic erosive, granulomatous, atrophic gastr...</td>\n",
       "      <td>1946</td>\n",
       "      <td>Journal Article</td>\n",
       "      <td>Gastroenterology</td>\n",
       "    </tr>\n",
       "    <tr>\n",
       "      <th>...</th>\n",
       "      <td>...</td>\n",
       "      <td>...</td>\n",
       "      <td>...</td>\n",
       "      <td>...</td>\n",
       "      <td>...</td>\n",
       "    </tr>\n",
       "    <tr>\n",
       "      <th>2612</th>\n",
       "      <td>37157123</td>\n",
       "      <td>Hereditary angioedema in cardiac surgery: Peri...</td>\n",
       "      <td>2024</td>\n",
       "      <td>Case Reports; Journal Article</td>\n",
       "      <td>Perfusion</td>\n",
       "    </tr>\n",
       "    <tr>\n",
       "      <th>2613</th>\n",
       "      <td>37022085</td>\n",
       "      <td>DFML: Dynamic Federated Meta-Learning for Rare...</td>\n",
       "      <td>2024</td>\n",
       "      <td>Journal Article; Research Support, Non-U.S. Gov't</td>\n",
       "      <td>IEEE/ACM transactions on computational biology...</td>\n",
       "    </tr>\n",
       "    <tr>\n",
       "      <th>2614</th>\n",
       "      <td>36454089</td>\n",
       "      <td>Whipple's disease - A typical endoscopic findi...</td>\n",
       "      <td>2024</td>\n",
       "      <td>Case Reports; Journal Article</td>\n",
       "      <td>Revista espanola de enfermedades digestivas</td>\n",
       "    </tr>\n",
       "    <tr>\n",
       "      <th>2615</th>\n",
       "      <td>35624016</td>\n",
       "      <td>Intravascular large B-cell lymphoma with prima...</td>\n",
       "      <td>2024</td>\n",
       "      <td>Case Reports; Journal Article</td>\n",
       "      <td>Hematology, transfusion and cell therapy</td>\n",
       "    </tr>\n",
       "    <tr>\n",
       "      <th>2616</th>\n",
       "      <td>35620936</td>\n",
       "      <td>Stress, coping, and positive aspects of caregi...</td>\n",
       "      <td>2024</td>\n",
       "      <td>Journal Article</td>\n",
       "      <td>Psychology &amp; health</td>\n",
       "    </tr>\n",
       "  </tbody>\n",
       "</table>\n",
       "<p>2617 rows × 5 columns</p>\n",
       "</div>"
      ],
      "text/plain": [
       "          pmid                                              title  pub_year  \\\n",
       "0     19973918  A Case of a Rare Disease of the Long Bones ter...      1909   \n",
       "1     19979883                    A Rare Disease in Two Brothers.      1917   \n",
       "2     30438855  A Rare Disease of the Conjunctiva, with Sponta...      1933   \n",
       "3     20282579  Sandifort's Observationes, chapter I, concerni...      1946   \n",
       "4     20985704  Chronic erosive, granulomatous, atrophic gastr...      1946   \n",
       "...        ...                                                ...       ...   \n",
       "2612  37157123  Hereditary angioedema in cardiac surgery: Peri...      2024   \n",
       "2613  37022085  DFML: Dynamic Federated Meta-Learning for Rare...      2024   \n",
       "2614  36454089  Whipple's disease - A typical endoscopic findi...      2024   \n",
       "2615  35624016  Intravascular large B-cell lymphoma with prima...      2024   \n",
       "2616  35620936  Stress, coping, and positive aspects of caregi...      2024   \n",
       "\n",
       "                                                pubtype  \\\n",
       "0                                       Journal Article   \n",
       "1                                       Journal Article   \n",
       "2                                       Journal Article   \n",
       "3                            Biography; Journal Article   \n",
       "4                                       Journal Article   \n",
       "...                                                 ...   \n",
       "2612                      Case Reports; Journal Article   \n",
       "2613  Journal Article; Research Support, Non-U.S. Gov't   \n",
       "2614                      Case Reports; Journal Article   \n",
       "2615                      Case Reports; Journal Article   \n",
       "2616                                    Journal Article   \n",
       "\n",
       "                                                journal  \n",
       "0          Proceedings of the Royal Society of Medicine  \n",
       "1          Proceedings of the Royal Society of Medicine  \n",
       "2                               Glasgow medical journal  \n",
       "3                   Bulletin of the history of medicine  \n",
       "4                                      Gastroenterology  \n",
       "...                                                 ...  \n",
       "2612                                          Perfusion  \n",
       "2613  IEEE/ACM transactions on computational biology...  \n",
       "2614        Revista espanola de enfermedades digestivas  \n",
       "2615           Hematology, transfusion and cell therapy  \n",
       "2616                                Psychology & health  \n",
       "\n",
       "[2617 rows x 5 columns]"
      ]
     },
     "execution_count": 48,
     "metadata": {},
     "output_type": "execute_result"
    }
   ],
   "source": [
    "publicaciones = pd.read_csv(r\"C:\\Users\\maria\\ITAcademy\\Sprint 10 - Pràctica final\\Data\\tablas_extraidas_PubMed\\rare_disease_papers_detailed.csv\")\n",
    "publicaciones"
   ]
  },
  {
   "cell_type": "code",
   "execution_count": 58,
   "id": "3a74129b",
   "metadata": {},
   "outputs": [
    {
     "data": {
      "image/png": "[encoded data removed]",
      "text/plain": [
       "<Figure size 800x500 with 1 Axes>"
      ]
     },
     "metadata": {},
     "output_type": "display_data"
    }
   ],
   "source": [
    "publicaciones_año = publicaciones.groupby(['pub_year']).size().reset_index(name='count')\n",
    "\n",
    "x = publicaciones_año['pub_year']\n",
    "y = publicaciones_año['count']\n",
    "\n",
    "# Gráfico\n",
    "plt.figure(figsize=(8, 5))\n",
    "plt.fill_between(x, y, color=\"skyblue\")\n",
    "plt.plot(x, y, color=\"Slateblue\", alpha=0.6)\n",
    "plt.title('Total de publicaciones conteniendo \"rare disease\" en el título')\n",
    "plt.xlabel(\"Año\")\n",
    "plt.ylabel(\"Número de publicaciones\")\n",
    "plt.xticks(rotation=0)\n",
    "plt.ylim(0, y.max() + 50)\n",
    "plt.xlim(1905, 2030)\n",
    "plt.grid(True, linestyle='--', alpha=0.25)\n",
    "\n",
    "# Etiquetar picos locales con año y valor\n",
    "for i in range(len(y)):\n",
    "    año = x.iloc[i]\n",
    "    valor = y[i]\n",
    "    \n",
    "    if año in [1909, 1961, 1986]:\n",
    "        plt.text(año, valor + 10, f\"{año}:\\n{valor} pub\", ha='center', fontsize=9, color='Slateblue')\n",
    "    elif año >= 1960 and valor > y[i - 1] and valor > y[i + 1] and valor > 20:\n",
    "        plt.text(año, valor + 10, f\"{año}:\\n{valor} pub\", ha='center', fontsize=9, color='Slateblue')\n",
    "\n",
    "# Mostrar\n",
    "plt.show()"
   ]
  },
  {
   "cell_type": "code",
   "execution_count": 68,
   "id": "3d4e9782",
   "metadata": {},
   "outputs": [
    {
     "data": {
      "image/png": "[encoded data removed]",
      "text/plain": [
       "<Figure size 600x500 with 1 Axes>"
      ]
     },
     "metadata": {},
     "output_type": "display_data"
    }
   ],
   "source": [
    "publicaciones_año['decada'] = (publicaciones_año['pub_year'] // 10) * 10\n",
    "publicaciones_decada = publicaciones_año.groupby('decada')['count'].sum().reset_index()\n",
    "\n",
    "plt.figure(figsize=(6, 5))\n",
    "plt.bar(publicaciones_decada['decada'].astype(str), publicaciones_decada['count'], color='#c39bd3')\n",
    "plt.title(\"Total de publicaciones por década\")\n",
    "plt.xlabel(\"Década\")\n",
    "plt.ylabel(\"Número de publicaciones\")\n",
    "plt.grid(axis='y', linestyle='--', alpha=0.3)\n",
    "plt.tight_layout()\n",
    "# Etiquetas de valores\n",
    "for i, v in enumerate(publicaciones_decada['count']):\n",
    "    plt.text(i, v + 10, f\"{v:,}\", ha='center', fontsize=9, color='#6c3483')\n",
    "\n",
    "plt.show()"
   ]
  },
  {
   "cell_type": "code",
   "execution_count": 51,
   "id": "82d94372",
   "metadata": {},
   "outputs": [
    {
     "name": "stdout",
     "output_type": "stream",
     "text": [
      "Promedio anual antes de 2010: 6.44\n",
      "Promedio anual desde 2010: 138.19\n"
     ]
    }
   ],
   "source": [
    "antes_2010 = publicaciones_año[publicaciones_año['pub_year'] < 2010]['count'].mean()\n",
    "despues_2010 = publicaciones_año[publicaciones_año['pub_year'] >= 2010]['count'].mean()\n",
    "\n",
    "print(f\"Promedio anual antes de 2010: {antes_2010:.2f}\")\n",
    "print(f\"Promedio anual desde 2010: {despues_2010:.2f}\")\n"
   ]
  }
 ],
 "metadata": {
  "kernelspec": {
   "display_name": "Python 3",
   "language": "python",
   "name": "python3"
  },
  "language_info": {
   "codemirror_mode": {
    "name": "ipython",
    "version": 3
   },
   "file_extension": ".py",
   "mimetype": "text/x-python",
   "name": "python",
   "nbconvert_exporter": "python",
   "pygments_lexer": "ipython3",
   "version": "3.13.2"
  }
 },
 "nbformat": 4,
 "nbformat_minor": 5
}
