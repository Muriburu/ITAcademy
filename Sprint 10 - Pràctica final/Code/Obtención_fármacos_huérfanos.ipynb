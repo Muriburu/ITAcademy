{
 "cells": [
  {
   "cell_type": "code",
   "execution_count": 7,
   "id": "33264711",
   "metadata": {},
   "outputs": [],
   "source": [
    "import pandas as pd\n",
    "\n",
    "df_orphan_drugs = pd.read_excel(r\"C:\\Users\\maria\\ITAcademy\\Sprint 10 - Pràctica final\\Data\\medicines_output_orphan_designations_en.xlsx\")\n",
    "df_orphan_drugs = df_orphan_drugs[7:]\n",
    "\n",
    "df_orphan_drugs.columns = df_orphan_drugs.iloc[0]  # Use the first row as the header\n",
    "df_orphan_drugs = df_orphan_drugs[1:]  # Remove the first row after setting it as the header\n",
    "\n",
    "df_orphan_drugs.to_csv(r\"C:\\Users\\maria\\ITAcademy\\Sprint 10 - Pràctica final\\Data\\df_orphan_drugs.csv\", index=False)"
   ]
  }
 ],
 "metadata": {
  "kernelspec": {
   "display_name": "Python 3",
   "language": "python",
   "name": "python3"
  },
  "language_info": {
   "codemirror_mode": {
    "name": "ipython",
    "version": 3
   },
   "file_extension": ".py",
   "mimetype": "text/x-python",
   "name": "python",
   "nbconvert_exporter": "python",
   "pygments_lexer": "ipython3",
   "version": "3.13.2"
  }
 },
 "nbformat": 4,
 "nbformat_minor": 5
}
