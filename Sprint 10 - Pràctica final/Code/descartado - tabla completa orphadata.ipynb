{
 "cells": [
  {
   "cell_type": "code",
   "execution_count": null,
   "id": "7e044df7",
   "metadata": {},
   "outputs": [],
   "source": [
    "## En una única tabla\n",
    "# Mega merge\n",
    "tabla_completa = orphadata['df_diseases'] \\\n",
    "    .merge(orphadata['df_disease_gene'], on='ORPHAcode') \\\n",
    "    .merge(orphadata['df_genes'], on='Gene symbol') \\\n",
    "    .merge(orphadata['df_rd_classification'], on='hchId') \\\n",
    "    .merge(orphadata['df_rd_epidemiology'], on='ORPHAcode') \\\n",
    "    .merge(orphadata['df_rd_functional_consequences'], on='ORPHAcode') \\\n",
    "    .merge(orphadata['df_rd_history'], on='ORPHAcode') \\\n",
    "    .merge(orphadata['df_rd_list'], on='ORPHAcode') \\\n",
    "    .merge(orphadata['df_rd_phenotypes'], on='ORPHAcode')\n",
    "print(tabla_completa.shape)\n",
    "tabla_completa.columns\n",
    "tabla_completa.head(10)\n",
    "tabla_completa.columns.duplicated()     # parece que no hay columnas duplicadas\n",
    "print(len(tabla_completa['Gene name_x'].unique()))\n",
    "print(len(tabla_completa['Gene name_y'].unique()))\n",
    "print(\"\\n\")\n",
    "print(len(tabla_completa['Typology_x'].unique()))\n",
    "print(len(tabla_completa['Typology_y'].unique()))\n",
    "print(\"\\n\")\n",
    "print(len(tabla_completa['Preferred term'].unique()))\n",
    "print(len(tabla_completa['Preferred term_y'].unique()))\n",
    "tabla_completa.drop(columns=['Gene name_y', 'Typology_y', 'Preferred term_y'], inplace=True)\n",
    "nuevo_orden_cols = []\n",
    "tabla_completa.info()"
   ]
  }
 ],
 "metadata": {
  "language_info": {
   "name": "python"
  }
 },
 "nbformat": 4,
 "nbformat_minor": 5
}
