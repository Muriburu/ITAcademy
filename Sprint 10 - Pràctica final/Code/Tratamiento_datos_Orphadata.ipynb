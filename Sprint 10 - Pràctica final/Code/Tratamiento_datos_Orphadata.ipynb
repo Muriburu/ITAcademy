{
 "cells": [
  {
   "cell_type": "markdown",
   "id": "d51d9764",
   "metadata": {},
   "source": [
    "# **Rare diseases**"
   ]
  },
  {
   "cell_type": "markdown",
   "id": "470d4deb",
   "metadata": {},
   "source": [
    "### Lectura datos de la API"
   ]
  },
  {
   "cell_type": "code",
   "execution_count": 192,
   "id": "af2aebdf",
   "metadata": {},
   "outputs": [],
   "source": [
    "\"\"\"1º Importo las librerías que creo que puedo necesitar en esta tarea.\"\"\"\n",
    "\n",
    "# Manejo de datos\n",
    "import pandas as pd  # Análisis y manipulación de datos en tablas\n",
    "import numpy as np  # Cálculos numéricos y matrices\n",
    "import os\n",
    "\n",
    "# Visualización de datos\n",
    "import matplotlib.pyplot as plt  # Gráficos básicos en 2D\n",
    "import seaborn as sns  # Gráficos estadísticos mejorados\n",
    "import plotly.express as px  # Gráficos interactivos simplificados\n",
    "import plotly.graph_objects as go  # Control avanzado de gráficos en Plotly\n",
    "import plotly.io as pio  # Interfaz de entrada/salida de Plotly\n",
    "import squarify  # Visualización de diagramas de \"treemap\"\n",
    "\n",
    "# Web Scraping y APIs\n",
    "import requests  # Peticiones HTTP para obtener datos de APIs como PubChem\n",
    "\n",
    "# Quimioinformática y Bioinformática\n",
    "from rdkit import Chem  # Manejo de estructuras químicas\n",
    "from rdkit.Chem import DataStructs, AllChem  # Análisis molecular\n",
    "import pubchempy as pcp  # Interacción con la base de datos de PubChem"
   ]
  },
  {
   "cell_type": "code",
   "execution_count": 193,
   "id": "43c510cc",
   "metadata": {},
   "outputs": [
    {
     "data": {
      "text/plain": [
       "dict_keys(['df_diseases', 'df_disease_gene', 'df_genes', 'df_rd_classification', 'df_rd_epidemiology', 'df_rd_functional_consequences', 'df_rd_history', 'df_rd_list', 'df_rd_phenotypes'])"
      ]
     },
     "execution_count": 193,
     "metadata": {},
     "output_type": "execute_result"
    }
   ],
   "source": [
    "carpeta_data = r\"C:\\Users\\maria\\ITAcademy\\Sprint 10 - Pràctica final\\Data\\tablas_extraidas_Orphadata\"\n",
    "orphadata = {}\n",
    "for archivo in os.listdir(carpeta_data):\n",
    "    if archivo.endswith(\".csv\"):\n",
    "        ruta_archivo = os.path.join(carpeta_data, archivo)\n",
    "        nombre_dataframe = archivo.replace(\".csv\", \"\")\n",
    "        orphadata[nombre_dataframe] = pd.read_csv(ruta_archivo)\n",
    "orphadata.keys()"
   ]
  },
  {
   "cell_type": "code",
   "execution_count": 194,
   "id": "9fb570fb",
   "metadata": {},
   "outputs": [],
   "source": [
    "# Cambiar nombre col hchId\n",
    "orphadata['df_diseases'].rename(columns={'class_hchId': 'hchId'}, inplace=True)\n",
    "\n",
    "# Cambiar nombre col Orphacode\n",
    "orphadata['df_rd_epidemiology'].rename(columns={'Code Disease': 'ORPHAcode'}, inplace=True)\n",
    "\n",
    "# cambiar nombre gene name y gene symbol\n",
    "orphadata['df_genes'].rename(columns={'name': 'Gene name'}, inplace=True)\n",
    "orphadata['df_genes'].rename(columns={'symbol': 'Gene symbol'}, inplace=True)\n",
    "\n",
    "# Cambiar nombre col Orphacode\n",
    "orphadata['df_rd_functional_consequences'].rename(columns={'Código Orphanet': 'ORPHAcode'}, inplace=True)\n",
    "\n",
    "# Cambiar nombre col pref termm\n",
    "orphadata['df_rd_functional_consequences'].rename(columns={'Nombre': 'disease_name'}, inplace=True)"
   ]
  },
  {
   "cell_type": "code",
   "execution_count": 195,
   "id": "4e5cd9ac",
   "metadata": {},
   "outputs": [
    {
     "name": "stdout",
     "output_type": "stream",
     "text": [
      "Archivo: df_diseases\n",
      "Total filas = 27613\n",
      "Columnas: ['hchId', 'ORPHAcode', 'preferredTerm']\n",
      "\n",
      "\n",
      "Archivo: df_disease_gene\n",
      "Total filas = 8193\n",
      "Columnas: ['ORPHAcode', 'Disorder name', 'Disorder type', 'Gene symbol', 'Gene name', 'Gene type', 'Gene synonyms', 'Locus', 'Validation source']\n",
      "\n",
      "\n",
      "Archivo: df_genes\n",
      "Total filas = 4478\n",
      "Columnas: ['HGNC', 'Gene name', 'Gene symbol']\n",
      "\n",
      "\n",
      "Archivo: df_rd_classification\n",
      "Total filas = 35\n",
      "Columnas: ['hchId', 'hchTag']\n",
      "\n",
      "\n",
      "Archivo: df_rd_epidemiology\n",
      "Total filas = 16119\n",
      "Columnas: ['ORPHAcode', 'Preferred term', 'Typology', 'PrevalenceType', 'ValMoy', 'PrevalenceClass', 'PrevalenceQualification', 'PrevalenceGeographic', 'PrevalenceValidationStatus', 'Source']\n",
      "\n",
      "\n",
      "Archivo: df_rd_functional_consequences\n",
      "Total filas = 1046\n",
      "Columnas: ['disease_name', 'ORPHAcode', 'Consecuencias Funcionales']\n",
      "\n",
      "\n",
      "Archivo: df_rd_history\n",
      "Total filas = 6994\n",
      "Columnas: ['data', 'AverageAgeOfOnset', 'Date', 'DisorderGroup', 'ORPHAcode', 'OrphanetURL', 'Preferred term', 'TypeOfInheritance', 'Typology']\n",
      "\n",
      "\n",
      "Archivo: df_rd_list\n",
      "Total filas = 11074\n",
      "Columnas: ['ORPHAcode', 'Preferred term']\n",
      "\n",
      "\n",
      "Archivo: df_rd_phenotypes\n",
      "Total filas = 114961\n",
      "Columnas: ['ORPHAcode', 'Disorder', 'HPO_ID', 'HPO_Term', 'Frequency']\n",
      "\n",
      "\n"
     ]
    }
   ],
   "source": [
    "for nombre_archivo, dataframe in orphadata.items():\n",
    "    print(f\"Archivo: {nombre_archivo}\")\n",
    "    print(f\"Total filas = {len(dataframe)}\")\n",
    "    print(\"Columnas:\", dataframe.columns.tolist())\n",
    "    print(\"\\n\")"
   ]
  },
  {
   "cell_type": "markdown",
   "id": "825b8f15",
   "metadata": {},
   "source": [
    "## Tratamiento de datos: **tablas**"
   ]
  },
  {
   "cell_type": "markdown",
   "id": "131e3f2f",
   "metadata": {},
   "source": [
    "##### Tabla 1: enfermedades"
   ]
  },
  {
   "cell_type": "code",
   "execution_count": 207,
   "id": "e04e1931",
   "metadata": {},
   "outputs": [
    {
     "data": {
      "application/vnd.microsoft.datawrangler.viewer.v0+json": {
       "columns": [
        {
         "name": "index",
         "rawType": "int64",
         "type": "integer"
        },
        {
         "name": "ORPHAcode",
         "rawType": "int64",
         "type": "integer"
        },
        {
         "name": "nombre_enfermedad",
         "rawType": "object",
         "type": "string"
        }
       ],
       "conversionMethod": "pd.DataFrame",
       "ref": "ab9b8f60-b80b-406b-a7e6-d381ed93806e",
       "rows": [
        [
         "41",
         "5",
         "Long chain 3-hydroxyacyl-CoA dehydrogenase deficiency"
        ],
        [
         "4661",
         "6",
         "3-methylcrotonyl-CoA carboxylase deficiency"
        ],
        [
         "1170",
         "7",
         "3C syndrome"
        ],
        [
         "3208",
         "8",
         "47,XYY syndrome"
        ],
        [
         "3200",
         "9",
         "Tetrasomy X syndrome"
        ],
        [
         "3213",
         "10",
         "48,XXYY syndrome"
        ],
        [
         "3199",
         "11",
         "Pentasomy X syndrome"
        ],
        [
         "5033",
         "13",
         "6-pyruvoyl-tetrahydropterin synthase deficiency"
        ],
        [
         "5152",
         "14",
         "Abetalipoproteinemia"
        ],
        [
         "1679",
         "15",
         "Achondroplasia"
        ],
        [
         "10629",
         "16",
         "Blue cone monochromatism"
        ],
        [
         "4893",
         "17",
         "Fatal infantile lactic acidosis with methylmalonic aciduria"
        ],
        [
         "10291",
         "18",
         "Distal renal tubular acidosis"
        ],
        [
         "4636",
         "19",
         "2-hydroxyglutaric aciduria"
        ],
        [
         "4660",
         "20",
         "3-hydroxy-3-methylglutaric aciduria"
        ],
        [
         "5044",
         "22",
         "Succinic semialdehyde dehydrogenase deficiency"
        ],
        [
         "4518",
         "23",
         "Argininosuccinic aciduria"
        ],
        [
         "5024",
         "24",
         "Fumaric aciduria"
        ],
        [
         "4637",
         "25",
         "Glutaryl-CoA dehydrogenase deficiency"
        ],
        [
         "4657",
         "26",
         "Methylmalonic acidemia with homocystinuria"
        ],
        [
         "4679",
         "27",
         "Vitamin B12-unresponsive methylmalonic acidemia"
        ],
        [
         "4683",
         "28",
         "Vitamin B12-responsive methylmalonic acidemia"
        ],
        [
         "1606",
         "29",
         "Mevalonic aciduria"
        ],
        [
         "5077",
         "30",
         "Hereditary orotic aciduria"
        ],
        [
         "5023",
         "31",
         "Oxoglutaric aciduria"
        ],
        [
         "4607",
         "32",
         "Glutathione synthetase deficiency"
        ],
        [
         "4648",
         "33",
         "Isovaleric acidemia"
        ],
        [
         "4662",
         "35",
         "Propionic acidemia"
        ],
        [
         "702",
         "36",
         "Acrocallosal syndrome"
        ],
        [
         "2457",
         "37",
         "Acrodermatitis enteropathica"
        ],
        [
         "6446",
         "38",
         "Acrokeratoelastoidosis of Costa"
        ],
        [
         "17226",
         "39",
         "Acromelanosis"
        ],
        [
         "1836",
         "40",
         "Acromesomelic dysplasia, Maroteaux type"
        ],
        [
         "6789",
         "41",
         "Dyschromatosis symmetrica hereditaria"
        ],
        [
         "4988",
         "42",
         "Medium chain acyl-CoA dehydrogenase deficiency"
        ],
        [
         "4479",
         "43",
         "X-linked adrenoleukodystrophy"
        ],
        [
         "4469",
         "44",
         "Neonatal adrenoleukodystrophy"
        ],
        [
         "5055",
         "45",
         "Adenosine monophosphate deaminase deficiency"
        ],
        [
         "5060",
         "46",
         "Adenylosuccinate lyase deficiency"
        ],
        [
         "12267",
         "47",
         "X-linked agammaglobulinemia"
        ],
        [
         "3784",
         "48",
         "Congenital bilateral absence of vas deferens"
        ],
        [
         "3786",
         "49",
         "Penile agenesis"
        ],
        [
         "1127",
         "50",
         "Aicardi syndrome"
        ],
        [
         "8010",
         "51",
         "Aicardi-Goutières syndrome"
        ],
        [
         "290",
         "52",
         "Alagille syndrome"
        ],
        [
         "1934",
         "53",
         "Albers-Schönberg osteopetrosis"
        ],
        [
         "4704",
         "54",
         "X-linked recessive ocular albinism"
        ],
        [
         "4702",
         "55",
         "Oculocutaneous albinism"
        ],
        [
         "4579",
         "56",
         "Alkaptonuria"
        ],
        [
         "4743",
         "57",
         "Glycogen storage disease due to aldolase A deficiency"
        ]
       ],
       "shape": {
        "columns": 2,
        "rows": 9673
       }
      },
      "text/html": [
       "<div>\n",
       "<style scoped>\n",
       "    .dataframe tbody tr th:only-of-type {\n",
       "        vertical-align: middle;\n",
       "    }\n",
       "\n",
       "    .dataframe tbody tr th {\n",
       "        vertical-align: top;\n",
       "    }\n",
       "\n",
       "    .dataframe thead th {\n",
       "        text-align: right;\n",
       "    }\n",
       "</style>\n",
       "<table border=\"1\" class=\"dataframe\">\n",
       "  <thead>\n",
       "    <tr style=\"text-align: right;\">\n",
       "      <th></th>\n",
       "      <th>ORPHAcode</th>\n",
       "      <th>nombre_enfermedad</th>\n",
       "    </tr>\n",
       "  </thead>\n",
       "  <tbody>\n",
       "    <tr>\n",
       "      <th>41</th>\n",
       "      <td>5</td>\n",
       "      <td>Long chain 3-hydroxyacyl-CoA dehydrogenase def...</td>\n",
       "    </tr>\n",
       "    <tr>\n",
       "      <th>4661</th>\n",
       "      <td>6</td>\n",
       "      <td>3-methylcrotonyl-CoA carboxylase deficiency</td>\n",
       "    </tr>\n",
       "    <tr>\n",
       "      <th>1170</th>\n",
       "      <td>7</td>\n",
       "      <td>3C syndrome</td>\n",
       "    </tr>\n",
       "    <tr>\n",
       "      <th>3208</th>\n",
       "      <td>8</td>\n",
       "      <td>47,XYY syndrome</td>\n",
       "    </tr>\n",
       "    <tr>\n",
       "      <th>3200</th>\n",
       "      <td>9</td>\n",
       "      <td>Tetrasomy X syndrome</td>\n",
       "    </tr>\n",
       "    <tr>\n",
       "      <th>...</th>\n",
       "      <td>...</td>\n",
       "      <td>...</td>\n",
       "    </tr>\n",
       "    <tr>\n",
       "      <th>3495</th>\n",
       "      <td>689408</td>\n",
       "      <td>Shashi-Pena syndrome</td>\n",
       "    </tr>\n",
       "    <tr>\n",
       "      <th>3493</th>\n",
       "      <td>689422</td>\n",
       "      <td>Okur-Chung neurodevelopmental syndrome</td>\n",
       "    </tr>\n",
       "    <tr>\n",
       "      <th>21752</th>\n",
       "      <td>689430</td>\n",
       "      <td>Adenoid ameloblastoma</td>\n",
       "    </tr>\n",
       "    <tr>\n",
       "      <th>355</th>\n",
       "      <td>689822</td>\n",
       "      <td>Structural heart defects-renal anomalies syndrome</td>\n",
       "    </tr>\n",
       "    <tr>\n",
       "      <th>864</th>\n",
       "      <td>689829</td>\n",
       "      <td>Microphthalmia-motor delay-language delay-brai...</td>\n",
       "    </tr>\n",
       "  </tbody>\n",
       "</table>\n",
       "<p>9673 rows × 2 columns</p>\n",
       "</div>"
      ],
      "text/plain": [
       "       ORPHAcode                                  nombre_enfermedad\n",
       "41             5  Long chain 3-hydroxyacyl-CoA dehydrogenase def...\n",
       "4661           6        3-methylcrotonyl-CoA carboxylase deficiency\n",
       "1170           7                                        3C syndrome\n",
       "3208           8                                    47,XYY syndrome\n",
       "3200           9                               Tetrasomy X syndrome\n",
       "...          ...                                                ...\n",
       "3495      689408                               Shashi-Pena syndrome\n",
       "3493      689422             Okur-Chung neurodevelopmental syndrome\n",
       "21752     689430                              Adenoid ameloblastoma\n",
       "355       689822  Structural heart defects-renal anomalies syndrome\n",
       "864       689829  Microphthalmia-motor delay-language delay-brai...\n",
       "\n",
       "[9673 rows x 2 columns]"
      ]
     },
     "execution_count": 207,
     "metadata": {},
     "output_type": "execute_result"
    }
   ],
   "source": [
    "enfermedades = orphadata['df_diseases'].copy()\n",
    "enfermedades.drop(columns=['hchId'], inplace=True)\n",
    "\n",
    "enfermedades = enfermedades.drop_duplicates(subset='ORPHAcode')\n",
    "enfermedades = enfermedades.sort_values(by='ORPHAcode')\n",
    "enfermedades = enfermedades.rename(columns={'preferredTerm': 'nombre_enfermedad'})\n",
    "enfermedades"
   ]
  },
  {
   "cell_type": "code",
   "execution_count": 249,
   "id": "e5bcc21a",
   "metadata": {},
   "outputs": [
    {
     "name": "stdout",
     "output_type": "stream",
     "text": [
      "<class 'pandas.core.frame.DataFrame'>\n",
      "Index: 9673 entries, 41 to 864\n",
      "Data columns (total 2 columns):\n",
      " #   Column             Non-Null Count  Dtype \n",
      "---  ------             --------------  ----- \n",
      " 0   ORPHAcode          9673 non-null   int64 \n",
      " 1   nombre_enfermedad  9673 non-null   object\n",
      "dtypes: int64(1), object(1)\n",
      "memory usage: 226.7+ KB\n"
     ]
    }
   ],
   "source": [
    "enfermedades.info()"
   ]
  },
  {
   "cell_type": "markdown",
   "id": "0bbb404f",
   "metadata": {},
   "source": [
    "##### Tabla 2: clasificacion"
   ]
  },
  {
   "cell_type": "code",
   "execution_count": 208,
   "id": "34237387",
   "metadata": {},
   "outputs": [
    {
     "data": {
      "application/vnd.microsoft.datawrangler.viewer.v0+json": {
       "columns": [
        {
         "name": "index",
         "rawType": "int64",
         "type": "integer"
        },
        {
         "name": "clase_id",
         "rawType": "Int64",
         "type": "integer"
        },
        {
         "name": "clase",
         "rawType": "object",
         "type": "unknown"
        },
        {
         "name": "ORPHAcode",
         "rawType": "int64",
         "type": "integer"
        },
        {
         "name": "nombre_enfermedad",
         "rawType": "object",
         "type": "unknown"
        }
       ],
       "conversionMethod": "pd.DataFrame",
       "ref": "2afbd4fa-12d5-45f1-b79c-17b164c5bf93",
       "rows": [
        [
         "0",
         "146",
         "Orphanet classification of rare cardiac diseases",
         "5",
         "Long chain 3-hydroxyacyl-CoA dehydrogenase deficiency"
        ],
        [
         "1",
         "150",
         "Orphanet classification of rare inborn errors of metabolism",
         "5",
         "Long chain 3-hydroxyacyl-CoA dehydrogenase deficiency"
        ],
        [
         "2",
         "156",
         "Orphanet classification of rare genetic diseases",
         "5",
         "Long chain 3-hydroxyacyl-CoA dehydrogenase deficiency"
        ],
        [
         "3",
         "181",
         "Orphanet classification of rare neurological diseases",
         "5",
         "Long chain 3-hydroxyacyl-CoA dehydrogenase deficiency"
        ],
        [
         "4",
         "189",
         "Orphanet classification of rare ophthalmic disorders",
         "5",
         "Long chain 3-hydroxyacyl-CoA dehydrogenase deficiency"
        ],
        [
         "5",
         "193",
         "Orphanet classification of rare endocrine diseases",
         "5",
         "Long chain 3-hydroxyacyl-CoA dehydrogenase deficiency"
        ],
        [
         "6",
         "233",
         "Orphanet classification of rare transplant-related disorders",
         "5",
         "Long chain 3-hydroxyacyl-CoA dehydrogenase deficiency"
        ],
        [
         "7",
         "150",
         "Orphanet classification of rare inborn errors of metabolism",
         "6",
         "3-methylcrotonyl-CoA carboxylase deficiency"
        ],
        [
         "8",
         "156",
         "Orphanet classification of rare genetic diseases",
         "6",
         "3-methylcrotonyl-CoA carboxylase deficiency"
        ],
        [
         "9",
         "147",
         "Orphanet classification of rare developmental anomalies during embryogenesis",
         "7",
         "3C syndrome"
        ],
        [
         "10",
         "156",
         "Orphanet classification of rare genetic diseases",
         "7",
         "3C syndrome"
        ],
        [
         "11",
         "181",
         "Orphanet classification of rare neurological diseases",
         "7",
         "3C syndrome"
        ],
        [
         "12",
         "147",
         "Orphanet classification of rare developmental anomalies during embryogenesis",
         "8",
         "47,XYY syndrome"
        ],
        [
         "13",
         "156",
         "Orphanet classification of rare genetic diseases",
         "8",
         "47,XYY syndrome"
        ],
        [
         "14",
         "147",
         "Orphanet classification of rare developmental anomalies during embryogenesis",
         "9",
         "Tetrasomy X syndrome"
        ],
        [
         "15",
         "156",
         "Orphanet classification of rare genetic diseases",
         "9",
         "Tetrasomy X syndrome"
        ],
        [
         "16",
         "193",
         "Orphanet classification of rare endocrine diseases",
         "9",
         "Tetrasomy X syndrome"
        ],
        [
         "17",
         "201",
         "Orphanet classification of rare infertility disorders",
         "9",
         "Tetrasomy X syndrome"
        ],
        [
         "18",
         "205",
         "Orphanet classification of rare gynecological and obstetric diseases",
         "9",
         "Tetrasomy X syndrome"
        ],
        [
         "19",
         "147",
         "Orphanet classification of rare developmental anomalies during embryogenesis",
         "10",
         "48,XXYY syndrome"
        ],
        [
         "20",
         "156",
         "Orphanet classification of rare genetic diseases",
         "10",
         "48,XXYY syndrome"
        ],
        [
         "21",
         "181",
         "Orphanet classification of rare neurological diseases",
         "10",
         "48,XXYY syndrome"
        ],
        [
         "22",
         "185",
         "Orphanet classification of rare urogenital diseases",
         "10",
         "48,XXYY syndrome"
        ],
        [
         "23",
         "193",
         "Orphanet classification of rare endocrine diseases",
         "10",
         "48,XXYY syndrome"
        ],
        [
         "24",
         "147",
         "Orphanet classification of rare developmental anomalies during embryogenesis",
         "11",
         "Pentasomy X syndrome"
        ],
        [
         "25",
         "156",
         "Orphanet classification of rare genetic diseases",
         "11",
         "Pentasomy X syndrome"
        ],
        [
         "26",
         "150",
         "Orphanet classification of rare inborn errors of metabolism",
         "13",
         "6-pyruvoyl-tetrahydropterin synthase deficiency"
        ],
        [
         "27",
         "156",
         "Orphanet classification of rare genetic diseases",
         "13",
         "6-pyruvoyl-tetrahydropterin synthase deficiency"
        ],
        [
         "28",
         "181",
         "Orphanet classification of rare neurological diseases",
         "13",
         "6-pyruvoyl-tetrahydropterin synthase deficiency"
        ],
        [
         "29",
         "150",
         "Orphanet classification of rare inborn errors of metabolism",
         "14",
         "Abetalipoproteinemia"
        ],
        [
         "30",
         "152",
         "Orphanet classification of rare gastroenterological diseases",
         "14",
         "Abetalipoproteinemia"
        ],
        [
         "31",
         "156",
         "Orphanet classification of rare genetic diseases",
         "14",
         "Abetalipoproteinemia"
        ],
        [
         "32",
         "181",
         "Orphanet classification of rare neurological diseases",
         "14",
         "Abetalipoproteinemia"
        ],
        [
         "33",
         "189",
         "Orphanet classification of rare ophthalmic disorders",
         "14",
         "Abetalipoproteinemia"
        ],
        [
         "34",
         "193",
         "Orphanet classification of rare endocrine diseases",
         "14",
         "Abetalipoproteinemia"
        ],
        [
         "35",
         "194",
         "Orphanet classification of rare hematological diseases",
         "14",
         "Abetalipoproteinemia"
        ],
        [
         "36",
         "147",
         "Orphanet classification of rare developmental anomalies during embryogenesis",
         "15",
         "Achondroplasia"
        ],
        [
         "37",
         "156",
         "Orphanet classification of rare genetic diseases",
         "15",
         "Achondroplasia"
        ],
        [
         "38",
         "199",
         "Orphanet classification of rare bone diseases",
         "15",
         "Achondroplasia"
        ],
        [
         "39",
         "156",
         "Orphanet classification of rare genetic diseases",
         "16",
         "Blue cone monochromatism"
        ],
        [
         "40",
         "189",
         "Orphanet classification of rare ophthalmic disorders",
         "16",
         "Blue cone monochromatism"
        ],
        [
         "41",
         "150",
         "Orphanet classification of rare inborn errors of metabolism",
         "17",
         "Fatal infantile lactic acidosis with methylmalonic aciduria"
        ],
        [
         "42",
         "156",
         "Orphanet classification of rare genetic diseases",
         "17",
         "Fatal infantile lactic acidosis with methylmalonic aciduria"
        ],
        [
         "43",
         "181",
         "Orphanet classification of rare neurological diseases",
         "17",
         "Fatal infantile lactic acidosis with methylmalonic aciduria"
        ],
        [
         "44",
         "156",
         "Orphanet classification of rare genetic diseases",
         "18",
         "Distal renal tubular acidosis"
        ],
        [
         "45",
         "188",
         "Orphanet classification of rare renal diseases",
         "18",
         "Distal renal tubular acidosis"
        ],
        [
         "46",
         "233",
         "Orphanet classification of rare transplant-related disorders",
         "18",
         "Distal renal tubular acidosis"
        ],
        [
         "47",
         "150",
         "Orphanet classification of rare inborn errors of metabolism",
         "19",
         "2-hydroxyglutaric aciduria"
        ],
        [
         "48",
         "156",
         "Orphanet classification of rare genetic diseases",
         "19",
         "2-hydroxyglutaric aciduria"
        ],
        [
         "49",
         "181",
         "Orphanet classification of rare neurological diseases",
         "19",
         "2-hydroxyglutaric aciduria"
        ]
       ],
       "shape": {
        "columns": 4,
        "rows": 29044
       }
      },
      "text/html": [
       "<div>\n",
       "<style scoped>\n",
       "    .dataframe tbody tr th:only-of-type {\n",
       "        vertical-align: middle;\n",
       "    }\n",
       "\n",
       "    .dataframe tbody tr th {\n",
       "        vertical-align: top;\n",
       "    }\n",
       "\n",
       "    .dataframe thead th {\n",
       "        text-align: right;\n",
       "    }\n",
       "</style>\n",
       "<table border=\"1\" class=\"dataframe\">\n",
       "  <thead>\n",
       "    <tr style=\"text-align: right;\">\n",
       "      <th></th>\n",
       "      <th>clase_id</th>\n",
       "      <th>clase</th>\n",
       "      <th>ORPHAcode</th>\n",
       "      <th>nombre_enfermedad</th>\n",
       "    </tr>\n",
       "  </thead>\n",
       "  <tbody>\n",
       "    <tr>\n",
       "      <th>0</th>\n",
       "      <td>146</td>\n",
       "      <td>Orphanet classification of rare cardiac diseases</td>\n",
       "      <td>5</td>\n",
       "      <td>Long chain 3-hydroxyacyl-CoA dehydrogenase def...</td>\n",
       "    </tr>\n",
       "    <tr>\n",
       "      <th>1</th>\n",
       "      <td>150</td>\n",
       "      <td>Orphanet classification of rare inborn errors ...</td>\n",
       "      <td>5</td>\n",
       "      <td>Long chain 3-hydroxyacyl-CoA dehydrogenase def...</td>\n",
       "    </tr>\n",
       "    <tr>\n",
       "      <th>2</th>\n",
       "      <td>156</td>\n",
       "      <td>Orphanet classification of rare genetic diseases</td>\n",
       "      <td>5</td>\n",
       "      <td>Long chain 3-hydroxyacyl-CoA dehydrogenase def...</td>\n",
       "    </tr>\n",
       "    <tr>\n",
       "      <th>3</th>\n",
       "      <td>181</td>\n",
       "      <td>Orphanet classification of rare neurological d...</td>\n",
       "      <td>5</td>\n",
       "      <td>Long chain 3-hydroxyacyl-CoA dehydrogenase def...</td>\n",
       "    </tr>\n",
       "    <tr>\n",
       "      <th>4</th>\n",
       "      <td>189</td>\n",
       "      <td>Orphanet classification of rare ophthalmic dis...</td>\n",
       "      <td>5</td>\n",
       "      <td>Long chain 3-hydroxyacyl-CoA dehydrogenase def...</td>\n",
       "    </tr>\n",
       "    <tr>\n",
       "      <th>...</th>\n",
       "      <td>...</td>\n",
       "      <td>...</td>\n",
       "      <td>...</td>\n",
       "      <td>...</td>\n",
       "    </tr>\n",
       "    <tr>\n",
       "      <th>29039</th>\n",
       "      <td>147</td>\n",
       "      <td>Orphanet classification of rare developmental ...</td>\n",
       "      <td>689829</td>\n",
       "      <td>Microphthalmia-motor delay-language delay-brai...</td>\n",
       "    </tr>\n",
       "    <tr>\n",
       "      <th>29040</th>\n",
       "      <td>156</td>\n",
       "      <td>Orphanet classification of rare genetic diseases</td>\n",
       "      <td>689829</td>\n",
       "      <td>Microphthalmia-motor delay-language delay-brai...</td>\n",
       "    </tr>\n",
       "    <tr>\n",
       "      <th>29041</th>\n",
       "      <td>181</td>\n",
       "      <td>Orphanet classification of rare neurological d...</td>\n",
       "      <td>689829</td>\n",
       "      <td>Microphthalmia-motor delay-language delay-brai...</td>\n",
       "    </tr>\n",
       "    <tr>\n",
       "      <th>29042</th>\n",
       "      <td>182</td>\n",
       "      <td>Orphanet classification of rare abdominal surg...</td>\n",
       "      <td>689829</td>\n",
       "      <td>Microphthalmia-motor delay-language delay-brai...</td>\n",
       "    </tr>\n",
       "    <tr>\n",
       "      <th>29043</th>\n",
       "      <td>189</td>\n",
       "      <td>Orphanet classification of rare ophthalmic dis...</td>\n",
       "      <td>689829</td>\n",
       "      <td>Microphthalmia-motor delay-language delay-brai...</td>\n",
       "    </tr>\n",
       "  </tbody>\n",
       "</table>\n",
       "<p>29044 rows × 4 columns</p>\n",
       "</div>"
      ],
      "text/plain": [
       "       clase_id                                              clase  ORPHAcode  \\\n",
       "0           146   Orphanet classification of rare cardiac diseases          5   \n",
       "1           150  Orphanet classification of rare inborn errors ...          5   \n",
       "2           156   Orphanet classification of rare genetic diseases          5   \n",
       "3           181  Orphanet classification of rare neurological d...          5   \n",
       "4           189  Orphanet classification of rare ophthalmic dis...          5   \n",
       "...         ...                                                ...        ...   \n",
       "29039       147  Orphanet classification of rare developmental ...     689829   \n",
       "29040       156   Orphanet classification of rare genetic diseases     689829   \n",
       "29041       181  Orphanet classification of rare neurological d...     689829   \n",
       "29042       182  Orphanet classification of rare abdominal surg...     689829   \n",
       "29043       189  Orphanet classification of rare ophthalmic dis...     689829   \n",
       "\n",
       "                                       nombre_enfermedad  \n",
       "0      Long chain 3-hydroxyacyl-CoA dehydrogenase def...  \n",
       "1      Long chain 3-hydroxyacyl-CoA dehydrogenase def...  \n",
       "2      Long chain 3-hydroxyacyl-CoA dehydrogenase def...  \n",
       "3      Long chain 3-hydroxyacyl-CoA dehydrogenase def...  \n",
       "4      Long chain 3-hydroxyacyl-CoA dehydrogenase def...  \n",
       "...                                                  ...  \n",
       "29039  Microphthalmia-motor delay-language delay-brai...  \n",
       "29040  Microphthalmia-motor delay-language delay-brai...  \n",
       "29041  Microphthalmia-motor delay-language delay-brai...  \n",
       "29042  Microphthalmia-motor delay-language delay-brai...  \n",
       "29043  Microphthalmia-motor delay-language delay-brai...  \n",
       "\n",
       "[29044 rows x 4 columns]"
      ]
     },
     "execution_count": 208,
     "metadata": {},
     "output_type": "execute_result"
    }
   ],
   "source": [
    "clasificacion = orphadata['df_diseases'] \\\n",
    "    .merge(orphadata['df_rd_list'], on='ORPHAcode', how='outer') \\\n",
    "    .merge(orphadata['df_rd_classification'], on='hchId', how='left')\n",
    "\n",
    "clasificacion.drop(columns=['Preferred term'], inplace=True)\n",
    "clasificacion = clasificacion[['hchId', 'hchTag', 'ORPHAcode', 'preferredTerm']]\n",
    "clasificacion = clasificacion.rename(columns={'hchId': 'clase_id', 'hchTag': 'clase','preferredTerm': 'nombre_enfermedad'})\n",
    "clasificacion['clase_id'] = clasificacion['clase_id'].astype('Int64')\n",
    "clasificacion"
   ]
  },
  {
   "cell_type": "code",
   "execution_count": 209,
   "id": "b9e563da",
   "metadata": {},
   "outputs": [
    {
     "data": {
      "application/vnd.microsoft.datawrangler.viewer.v0+json": {
       "columns": [
        {
         "name": "index",
         "rawType": "int64",
         "type": "integer"
        },
        {
         "name": "clase_id",
         "rawType": "Int64",
         "type": "integer"
        },
        {
         "name": "clase",
         "rawType": "object",
         "type": "unknown"
        },
        {
         "name": "ORPHAcode",
         "rawType": "int64",
         "type": "integer"
        },
        {
         "name": "nombre_enfermedad",
         "rawType": "object",
         "type": "unknown"
        }
       ],
       "conversionMethod": "pd.DataFrame",
       "ref": "e5b7106b-4aeb-46ed-bfdb-9d19bdab9e36",
       "rows": [
        [
         "99",
         null,
         null,
         "34",
         null
        ],
        [
         "245",
         null,
         null,
         "77",
         null
        ],
        [
         "332",
         null,
         null,
         "103",
         null
        ],
        [
         "341",
         null,
         null,
         "106",
         null
        ],
        [
         "414",
         null,
         null,
         "120",
         null
        ],
        [
         "523",
         null,
         null,
         "151",
         null
        ],
        [
         "527",
         null,
         null,
         "155",
         null
        ],
        [
         "551",
         null,
         null,
         "164",
         null
        ],
        [
         "659",
         null,
         null,
         "194",
         null
        ],
        [
         "697",
         null,
         null,
         "206",
         null
        ],
        [
         "755",
         null,
         null,
         "225",
         null
        ],
        [
         "799",
         null,
         null,
         "238",
         null
        ],
        [
         "854",
         null,
         null,
         "252",
         null
        ],
        [
         "883",
         null,
         null,
         "264",
         null
        ],
        [
         "884",
         null,
         null,
         "265",
         null
        ],
        [
         "920",
         null,
         null,
         "278",
         null
        ],
        [
         "921",
         null,
         null,
         "279",
         null
        ],
        [
         "1061",
         null,
         null,
         "323",
         null
        ],
        [
         "1099",
         null,
         null,
         "336",
         null
        ],
        [
         "1105",
         null,
         null,
         "338",
         null
        ],
        [
         "1121",
         null,
         null,
         "344",
         null
        ],
        [
         "1163",
         null,
         null,
         "357",
         null
        ],
        [
         "1173",
         null,
         null,
         "362",
         null
        ],
        [
         "1218",
         null,
         null,
         "374",
         null
        ],
        [
         "1233",
         null,
         null,
         "378",
         null
        ],
        [
         "1251",
         null,
         null,
         "383",
         null
        ],
        [
         "1259",
         null,
         null,
         "387",
         null
        ],
        [
         "1317",
         null,
         null,
         "406",
         null
        ],
        [
         "1325",
         null,
         null,
         "411",
         null
        ],
        [
         "1329",
         null,
         null,
         "413",
         null
        ],
        [
         "1362",
         null,
         null,
         "426",
         null
        ],
        [
         "1372",
         null,
         null,
         "430",
         null
        ],
        [
         "1373",
         null,
         null,
         "431",
         null
        ],
        [
         "1378",
         null,
         null,
         "435",
         null
        ],
        [
         "1389",
         null,
         null,
         "440",
         null
        ],
        [
         "1416",
         null,
         null,
         "453",
         null
        ],
        [
         "1427",
         null,
         null,
         "462",
         null
        ],
        [
         "1428",
         null,
         null,
         "463",
         null
        ],
        [
         "1486",
         null,
         null,
         "484",
         null
        ],
        [
         "1504",
         null,
         null,
         "489",
         null
        ],
        [
         "1518",
         null,
         null,
         "496",
         null
        ],
        [
         "1679",
         null,
         null,
         "553",
         null
        ],
        [
         "1680",
         null,
         null,
         "555",
         null
        ],
        [
         "1841",
         null,
         null,
         "587",
         null
        ],
        [
         "1909",
         null,
         null,
         "619",
         null
        ],
        [
         "1910",
         null,
         null,
         "620",
         null
        ],
        [
         "1919",
         null,
         null,
         "623",
         null
        ],
        [
         "1924",
         null,
         null,
         "625",
         null
        ],
        [
         "2022",
         null,
         null,
         "651",
         null
        ],
        [
         "2070",
         null,
         null,
         "665",
         null
        ]
       ],
       "shape": {
        "columns": 4,
        "rows": 1431
       }
      },
      "text/html": [
       "<div>\n",
       "<style scoped>\n",
       "    .dataframe tbody tr th:only-of-type {\n",
       "        vertical-align: middle;\n",
       "    }\n",
       "\n",
       "    .dataframe tbody tr th {\n",
       "        vertical-align: top;\n",
       "    }\n",
       "\n",
       "    .dataframe thead th {\n",
       "        text-align: right;\n",
       "    }\n",
       "</style>\n",
       "<table border=\"1\" class=\"dataframe\">\n",
       "  <thead>\n",
       "    <tr style=\"text-align: right;\">\n",
       "      <th></th>\n",
       "      <th>clase_id</th>\n",
       "      <th>clase</th>\n",
       "      <th>ORPHAcode</th>\n",
       "      <th>nombre_enfermedad</th>\n",
       "    </tr>\n",
       "  </thead>\n",
       "  <tbody>\n",
       "    <tr>\n",
       "      <th>99</th>\n",
       "      <td>&lt;NA&gt;</td>\n",
       "      <td>NaN</td>\n",
       "      <td>34</td>\n",
       "      <td>NaN</td>\n",
       "    </tr>\n",
       "    <tr>\n",
       "      <th>245</th>\n",
       "      <td>&lt;NA&gt;</td>\n",
       "      <td>NaN</td>\n",
       "      <td>77</td>\n",
       "      <td>NaN</td>\n",
       "    </tr>\n",
       "    <tr>\n",
       "      <th>332</th>\n",
       "      <td>&lt;NA&gt;</td>\n",
       "      <td>NaN</td>\n",
       "      <td>103</td>\n",
       "      <td>NaN</td>\n",
       "    </tr>\n",
       "    <tr>\n",
       "      <th>341</th>\n",
       "      <td>&lt;NA&gt;</td>\n",
       "      <td>NaN</td>\n",
       "      <td>106</td>\n",
       "      <td>NaN</td>\n",
       "    </tr>\n",
       "    <tr>\n",
       "      <th>414</th>\n",
       "      <td>&lt;NA&gt;</td>\n",
       "      <td>NaN</td>\n",
       "      <td>120</td>\n",
       "      <td>NaN</td>\n",
       "    </tr>\n",
       "    <tr>\n",
       "      <th>...</th>\n",
       "      <td>...</td>\n",
       "      <td>...</td>\n",
       "      <td>...</td>\n",
       "      <td>...</td>\n",
       "    </tr>\n",
       "    <tr>\n",
       "      <th>27463</th>\n",
       "      <td>&lt;NA&gt;</td>\n",
       "      <td>NaN</td>\n",
       "      <td>592888</td>\n",
       "      <td>NaN</td>\n",
       "    </tr>\n",
       "    <tr>\n",
       "      <th>27810</th>\n",
       "      <td>&lt;NA&gt;</td>\n",
       "      <td>NaN</td>\n",
       "      <td>619360</td>\n",
       "      <td>NaN</td>\n",
       "    </tr>\n",
       "    <tr>\n",
       "      <th>28069</th>\n",
       "      <td>&lt;NA&gt;</td>\n",
       "      <td>NaN</td>\n",
       "      <td>642013</td>\n",
       "      <td>NaN</td>\n",
       "    </tr>\n",
       "    <tr>\n",
       "      <th>28091</th>\n",
       "      <td>&lt;NA&gt;</td>\n",
       "      <td>NaN</td>\n",
       "      <td>642737</td>\n",
       "      <td>NaN</td>\n",
       "    </tr>\n",
       "    <tr>\n",
       "      <th>28440</th>\n",
       "      <td>&lt;NA&gt;</td>\n",
       "      <td>NaN</td>\n",
       "      <td>656273</td>\n",
       "      <td>NaN</td>\n",
       "    </tr>\n",
       "  </tbody>\n",
       "</table>\n",
       "<p>1431 rows × 4 columns</p>\n",
       "</div>"
      ],
      "text/plain": [
       "       clase_id clase  ORPHAcode nombre_enfermedad\n",
       "99         <NA>   NaN         34               NaN\n",
       "245        <NA>   NaN         77               NaN\n",
       "332        <NA>   NaN        103               NaN\n",
       "341        <NA>   NaN        106               NaN\n",
       "414        <NA>   NaN        120               NaN\n",
       "...         ...   ...        ...               ...\n",
       "27463      <NA>   NaN     592888               NaN\n",
       "27810      <NA>   NaN     619360               NaN\n",
       "28069      <NA>   NaN     642013               NaN\n",
       "28091      <NA>   NaN     642737               NaN\n",
       "28440      <NA>   NaN     656273               NaN\n",
       "\n",
       "[1431 rows x 4 columns]"
      ]
     },
     "execution_count": 209,
     "metadata": {},
     "output_type": "execute_result"
    }
   ],
   "source": [
    "clasificacion[clasificacion['clase_id'].isna()]"
   ]
  },
  {
   "cell_type": "code",
   "execution_count": 210,
   "id": "96e73608",
   "metadata": {},
   "outputs": [
    {
     "data": {
      "application/vnd.microsoft.datawrangler.viewer.v0+json": {
       "columns": [
        {
         "name": "index",
         "rawType": "int64",
         "type": "integer"
        },
        {
         "name": "clase_id",
         "rawType": "Int64",
         "type": "integer"
        },
        {
         "name": "clase",
         "rawType": "object",
         "type": "string"
        },
        {
         "name": "ORPHAcode",
         "rawType": "int64",
         "type": "integer"
        },
        {
         "name": "nombre_enfermedad",
         "rawType": "object",
         "type": "string"
        }
       ],
       "conversionMethod": "pd.DataFrame",
       "ref": "7fa248d1-0466-4073-8aab-4b80c9fbb6f0",
       "rows": [
        [
         "0",
         "146",
         "Orphanet classification of rare cardiac diseases",
         "5",
         "Long chain 3-hydroxyacyl-CoA dehydrogenase deficiency"
        ],
        [
         "1",
         "150",
         "Orphanet classification of rare inborn errors of metabolism",
         "5",
         "Long chain 3-hydroxyacyl-CoA dehydrogenase deficiency"
        ],
        [
         "2",
         "156",
         "Orphanet classification of rare genetic diseases",
         "5",
         "Long chain 3-hydroxyacyl-CoA dehydrogenase deficiency"
        ],
        [
         "3",
         "181",
         "Orphanet classification of rare neurological diseases",
         "5",
         "Long chain 3-hydroxyacyl-CoA dehydrogenase deficiency"
        ],
        [
         "4",
         "189",
         "Orphanet classification of rare ophthalmic disorders",
         "5",
         "Long chain 3-hydroxyacyl-CoA dehydrogenase deficiency"
        ],
        [
         "5",
         "193",
         "Orphanet classification of rare endocrine diseases",
         "5",
         "Long chain 3-hydroxyacyl-CoA dehydrogenase deficiency"
        ],
        [
         "6",
         "233",
         "Orphanet classification of rare transplant-related disorders",
         "5",
         "Long chain 3-hydroxyacyl-CoA dehydrogenase deficiency"
        ],
        [
         "7",
         "150",
         "Orphanet classification of rare inborn errors of metabolism",
         "6",
         "3-methylcrotonyl-CoA carboxylase deficiency"
        ],
        [
         "8",
         "156",
         "Orphanet classification of rare genetic diseases",
         "6",
         "3-methylcrotonyl-CoA carboxylase deficiency"
        ],
        [
         "9",
         "147",
         "Orphanet classification of rare developmental anomalies during embryogenesis",
         "7",
         "3C syndrome"
        ],
        [
         "10",
         "156",
         "Orphanet classification of rare genetic diseases",
         "7",
         "3C syndrome"
        ],
        [
         "11",
         "181",
         "Orphanet classification of rare neurological diseases",
         "7",
         "3C syndrome"
        ],
        [
         "12",
         "147",
         "Orphanet classification of rare developmental anomalies during embryogenesis",
         "8",
         "47,XYY syndrome"
        ],
        [
         "13",
         "156",
         "Orphanet classification of rare genetic diseases",
         "8",
         "47,XYY syndrome"
        ],
        [
         "14",
         "147",
         "Orphanet classification of rare developmental anomalies during embryogenesis",
         "9",
         "Tetrasomy X syndrome"
        ],
        [
         "15",
         "156",
         "Orphanet classification of rare genetic diseases",
         "9",
         "Tetrasomy X syndrome"
        ],
        [
         "16",
         "193",
         "Orphanet classification of rare endocrine diseases",
         "9",
         "Tetrasomy X syndrome"
        ],
        [
         "17",
         "201",
         "Orphanet classification of rare infertility disorders",
         "9",
         "Tetrasomy X syndrome"
        ],
        [
         "18",
         "205",
         "Orphanet classification of rare gynecological and obstetric diseases",
         "9",
         "Tetrasomy X syndrome"
        ],
        [
         "19",
         "147",
         "Orphanet classification of rare developmental anomalies during embryogenesis",
         "10",
         "48,XXYY syndrome"
        ],
        [
         "20",
         "156",
         "Orphanet classification of rare genetic diseases",
         "10",
         "48,XXYY syndrome"
        ],
        [
         "21",
         "181",
         "Orphanet classification of rare neurological diseases",
         "10",
         "48,XXYY syndrome"
        ],
        [
         "22",
         "185",
         "Orphanet classification of rare urogenital diseases",
         "10",
         "48,XXYY syndrome"
        ],
        [
         "23",
         "193",
         "Orphanet classification of rare endocrine diseases",
         "10",
         "48,XXYY syndrome"
        ],
        [
         "24",
         "147",
         "Orphanet classification of rare developmental anomalies during embryogenesis",
         "11",
         "Pentasomy X syndrome"
        ],
        [
         "25",
         "156",
         "Orphanet classification of rare genetic diseases",
         "11",
         "Pentasomy X syndrome"
        ],
        [
         "26",
         "150",
         "Orphanet classification of rare inborn errors of metabolism",
         "13",
         "6-pyruvoyl-tetrahydropterin synthase deficiency"
        ],
        [
         "27",
         "156",
         "Orphanet classification of rare genetic diseases",
         "13",
         "6-pyruvoyl-tetrahydropterin synthase deficiency"
        ],
        [
         "28",
         "181",
         "Orphanet classification of rare neurological diseases",
         "13",
         "6-pyruvoyl-tetrahydropterin synthase deficiency"
        ],
        [
         "29",
         "150",
         "Orphanet classification of rare inborn errors of metabolism",
         "14",
         "Abetalipoproteinemia"
        ],
        [
         "30",
         "152",
         "Orphanet classification of rare gastroenterological diseases",
         "14",
         "Abetalipoproteinemia"
        ],
        [
         "31",
         "156",
         "Orphanet classification of rare genetic diseases",
         "14",
         "Abetalipoproteinemia"
        ],
        [
         "32",
         "181",
         "Orphanet classification of rare neurological diseases",
         "14",
         "Abetalipoproteinemia"
        ],
        [
         "33",
         "189",
         "Orphanet classification of rare ophthalmic disorders",
         "14",
         "Abetalipoproteinemia"
        ],
        [
         "34",
         "193",
         "Orphanet classification of rare endocrine diseases",
         "14",
         "Abetalipoproteinemia"
        ],
        [
         "35",
         "194",
         "Orphanet classification of rare hematological diseases",
         "14",
         "Abetalipoproteinemia"
        ],
        [
         "36",
         "147",
         "Orphanet classification of rare developmental anomalies during embryogenesis",
         "15",
         "Achondroplasia"
        ],
        [
         "37",
         "156",
         "Orphanet classification of rare genetic diseases",
         "15",
         "Achondroplasia"
        ],
        [
         "38",
         "199",
         "Orphanet classification of rare bone diseases",
         "15",
         "Achondroplasia"
        ],
        [
         "39",
         "156",
         "Orphanet classification of rare genetic diseases",
         "16",
         "Blue cone monochromatism"
        ],
        [
         "40",
         "189",
         "Orphanet classification of rare ophthalmic disorders",
         "16",
         "Blue cone monochromatism"
        ],
        [
         "41",
         "150",
         "Orphanet classification of rare inborn errors of metabolism",
         "17",
         "Fatal infantile lactic acidosis with methylmalonic aciduria"
        ],
        [
         "42",
         "156",
         "Orphanet classification of rare genetic diseases",
         "17",
         "Fatal infantile lactic acidosis with methylmalonic aciduria"
        ],
        [
         "43",
         "181",
         "Orphanet classification of rare neurological diseases",
         "17",
         "Fatal infantile lactic acidosis with methylmalonic aciduria"
        ],
        [
         "44",
         "156",
         "Orphanet classification of rare genetic diseases",
         "18",
         "Distal renal tubular acidosis"
        ],
        [
         "45",
         "188",
         "Orphanet classification of rare renal diseases",
         "18",
         "Distal renal tubular acidosis"
        ],
        [
         "46",
         "233",
         "Orphanet classification of rare transplant-related disorders",
         "18",
         "Distal renal tubular acidosis"
        ],
        [
         "47",
         "150",
         "Orphanet classification of rare inborn errors of metabolism",
         "19",
         "2-hydroxyglutaric aciduria"
        ],
        [
         "48",
         "156",
         "Orphanet classification of rare genetic diseases",
         "19",
         "2-hydroxyglutaric aciduria"
        ],
        [
         "49",
         "181",
         "Orphanet classification of rare neurological diseases",
         "19",
         "2-hydroxyglutaric aciduria"
        ]
       ],
       "shape": {
        "columns": 4,
        "rows": 27613
       }
      },
      "text/html": [
       "<div>\n",
       "<style scoped>\n",
       "    .dataframe tbody tr th:only-of-type {\n",
       "        vertical-align: middle;\n",
       "    }\n",
       "\n",
       "    .dataframe tbody tr th {\n",
       "        vertical-align: top;\n",
       "    }\n",
       "\n",
       "    .dataframe thead th {\n",
       "        text-align: right;\n",
       "    }\n",
       "</style>\n",
       "<table border=\"1\" class=\"dataframe\">\n",
       "  <thead>\n",
       "    <tr style=\"text-align: right;\">\n",
       "      <th></th>\n",
       "      <th>clase_id</th>\n",
       "      <th>clase</th>\n",
       "      <th>ORPHAcode</th>\n",
       "      <th>nombre_enfermedad</th>\n",
       "    </tr>\n",
       "  </thead>\n",
       "  <tbody>\n",
       "    <tr>\n",
       "      <th>0</th>\n",
       "      <td>146</td>\n",
       "      <td>Orphanet classification of rare cardiac diseases</td>\n",
       "      <td>5</td>\n",
       "      <td>Long chain 3-hydroxyacyl-CoA dehydrogenase def...</td>\n",
       "    </tr>\n",
       "    <tr>\n",
       "      <th>1</th>\n",
       "      <td>150</td>\n",
       "      <td>Orphanet classification of rare inborn errors ...</td>\n",
       "      <td>5</td>\n",
       "      <td>Long chain 3-hydroxyacyl-CoA dehydrogenase def...</td>\n",
       "    </tr>\n",
       "    <tr>\n",
       "      <th>2</th>\n",
       "      <td>156</td>\n",
       "      <td>Orphanet classification of rare genetic diseases</td>\n",
       "      <td>5</td>\n",
       "      <td>Long chain 3-hydroxyacyl-CoA dehydrogenase def...</td>\n",
       "    </tr>\n",
       "    <tr>\n",
       "      <th>3</th>\n",
       "      <td>181</td>\n",
       "      <td>Orphanet classification of rare neurological d...</td>\n",
       "      <td>5</td>\n",
       "      <td>Long chain 3-hydroxyacyl-CoA dehydrogenase def...</td>\n",
       "    </tr>\n",
       "    <tr>\n",
       "      <th>4</th>\n",
       "      <td>189</td>\n",
       "      <td>Orphanet classification of rare ophthalmic dis...</td>\n",
       "      <td>5</td>\n",
       "      <td>Long chain 3-hydroxyacyl-CoA dehydrogenase def...</td>\n",
       "    </tr>\n",
       "    <tr>\n",
       "      <th>...</th>\n",
       "      <td>...</td>\n",
       "      <td>...</td>\n",
       "      <td>...</td>\n",
       "      <td>...</td>\n",
       "    </tr>\n",
       "    <tr>\n",
       "      <th>29039</th>\n",
       "      <td>147</td>\n",
       "      <td>Orphanet classification of rare developmental ...</td>\n",
       "      <td>689829</td>\n",
       "      <td>Microphthalmia-motor delay-language delay-brai...</td>\n",
       "    </tr>\n",
       "    <tr>\n",
       "      <th>29040</th>\n",
       "      <td>156</td>\n",
       "      <td>Orphanet classification of rare genetic diseases</td>\n",
       "      <td>689829</td>\n",
       "      <td>Microphthalmia-motor delay-language delay-brai...</td>\n",
       "    </tr>\n",
       "    <tr>\n",
       "      <th>29041</th>\n",
       "      <td>181</td>\n",
       "      <td>Orphanet classification of rare neurological d...</td>\n",
       "      <td>689829</td>\n",
       "      <td>Microphthalmia-motor delay-language delay-brai...</td>\n",
       "    </tr>\n",
       "    <tr>\n",
       "      <th>29042</th>\n",
       "      <td>182</td>\n",
       "      <td>Orphanet classification of rare abdominal surg...</td>\n",
       "      <td>689829</td>\n",
       "      <td>Microphthalmia-motor delay-language delay-brai...</td>\n",
       "    </tr>\n",
       "    <tr>\n",
       "      <th>29043</th>\n",
       "      <td>189</td>\n",
       "      <td>Orphanet classification of rare ophthalmic dis...</td>\n",
       "      <td>689829</td>\n",
       "      <td>Microphthalmia-motor delay-language delay-brai...</td>\n",
       "    </tr>\n",
       "  </tbody>\n",
       "</table>\n",
       "<p>27613 rows × 4 columns</p>\n",
       "</div>"
      ],
      "text/plain": [
       "       clase_id                                              clase  ORPHAcode  \\\n",
       "0           146   Orphanet classification of rare cardiac diseases          5   \n",
       "1           150  Orphanet classification of rare inborn errors ...          5   \n",
       "2           156   Orphanet classification of rare genetic diseases          5   \n",
       "3           181  Orphanet classification of rare neurological d...          5   \n",
       "4           189  Orphanet classification of rare ophthalmic dis...          5   \n",
       "...         ...                                                ...        ...   \n",
       "29039       147  Orphanet classification of rare developmental ...     689829   \n",
       "29040       156   Orphanet classification of rare genetic diseases     689829   \n",
       "29041       181  Orphanet classification of rare neurological d...     689829   \n",
       "29042       182  Orphanet classification of rare abdominal surg...     689829   \n",
       "29043       189  Orphanet classification of rare ophthalmic dis...     689829   \n",
       "\n",
       "                                       nombre_enfermedad  \n",
       "0      Long chain 3-hydroxyacyl-CoA dehydrogenase def...  \n",
       "1      Long chain 3-hydroxyacyl-CoA dehydrogenase def...  \n",
       "2      Long chain 3-hydroxyacyl-CoA dehydrogenase def...  \n",
       "3      Long chain 3-hydroxyacyl-CoA dehydrogenase def...  \n",
       "4      Long chain 3-hydroxyacyl-CoA dehydrogenase def...  \n",
       "...                                                  ...  \n",
       "29039  Microphthalmia-motor delay-language delay-brai...  \n",
       "29040  Microphthalmia-motor delay-language delay-brai...  \n",
       "29041  Microphthalmia-motor delay-language delay-brai...  \n",
       "29042  Microphthalmia-motor delay-language delay-brai...  \n",
       "29043  Microphthalmia-motor delay-language delay-brai...  \n",
       "\n",
       "[27613 rows x 4 columns]"
      ]
     },
     "execution_count": 210,
     "metadata": {},
     "output_type": "execute_result"
    }
   ],
   "source": [
    "clasificacion = clasificacion.dropna(subset=['clase_id'])\n",
    "clasificacion"
   ]
  },
  {
   "cell_type": "code",
   "execution_count": 250,
   "id": "da76b0b2",
   "metadata": {},
   "outputs": [
    {
     "name": "stdout",
     "output_type": "stream",
     "text": [
      "<class 'pandas.core.frame.DataFrame'>\n",
      "Index: 27613 entries, 0 to 29043\n",
      "Data columns (total 4 columns):\n",
      " #   Column             Non-Null Count  Dtype \n",
      "---  ------             --------------  ----- \n",
      " 0   clase_id           27613 non-null  Int64 \n",
      " 1   clase              27613 non-null  object\n",
      " 2   ORPHAcode          27613 non-null  int64 \n",
      " 3   nombre_enfermedad  27613 non-null  object\n",
      "dtypes: Int64(1), int64(1), object(2)\n",
      "memory usage: 1.1+ MB\n"
     ]
    }
   ],
   "source": [
    "clasificacion.info()"
   ]
  },
  {
   "cell_type": "markdown",
   "id": "deabeda4",
   "metadata": {},
   "source": [
    "##### Tabla 3: genes"
   ]
  },
  {
   "cell_type": "code",
   "execution_count": 212,
   "id": "b1971210",
   "metadata": {},
   "outputs": [
    {
     "data": {
      "application/vnd.microsoft.datawrangler.viewer.v0+json": {
       "columns": [
        {
         "name": "index",
         "rawType": "int64",
         "type": "integer"
        },
        {
         "name": "hgnc_id",
         "rawType": "Int64",
         "type": "integer"
        },
        {
         "name": "simbolo_gen",
         "rawType": "object",
         "type": "string"
        },
        {
         "name": "nombre_gen",
         "rawType": "object",
         "type": "string"
        },
        {
         "name": "tipo_gen",
         "rawType": "object",
         "type": "unknown"
        },
        {
         "name": "sinonimos",
         "rawType": "object",
         "type": "unknown"
        },
        {
         "name": "locus",
         "rawType": "object",
         "type": "unknown"
        }
       ],
       "conversionMethod": "pd.DataFrame",
       "ref": "6481b924-84b8-41a9-bb16-4d1b65fe2006",
       "rows": [
        [
         "2333",
         "20",
         "AARS1",
         "alanyl-tRNA synthetase 1",
         "gene with protein product",
         "['AlaRS', 'CMT2N', 'alanine tRNA ligase 1, cytoplasmic']",
         "[{'GeneLocus': '16q22.1', 'LocusKey': 1}]"
        ],
        [
         "26",
         "23",
         "ABAT",
         "4-aminobutyrate aminotransferase",
         "gene with protein product",
         "['4-aminobutyrate transaminase', 'GABA transaminase', 'GABA-T', 'GABAT', 'gamma-aminobutyrate aminotransferase']",
         "[{'GeneLocus': '16p13.2', 'LocusKey': 1}]"
        ],
        [
         "173",
         "29",
         "ABCA1",
         "ATP binding cassette subfamily A member 1",
         "gene with protein product",
         "['TGD', 'Tangier disease']",
         "[{'GeneLocus': '9q31.1', 'LocusKey': 1}]"
        ],
        [
         "178",
         "32",
         "ABCA2",
         "ATP binding cassette subfamily A member 2",
         "gene with protein product",
         null,
         "[{'GeneLocus': '9q34.3', 'LocusKey': 1}]"
        ],
        [
         "179",
         "33",
         "ABCA3",
         "ATP binding cassette subfamily A member 3",
         "gene with protein product",
         "['ABC-C', 'EST111653', 'LBM180']",
         "[{'GeneLocus': '16p13.3', 'LocusKey': 1}]"
        ],
        [
         "183",
         "34",
         "ABCA4",
         "ATP binding cassette subfamily A member 4",
         "gene with protein product",
         "['ARMD2', 'CORD3', 'FFM', 'Stargardt disease']",
         "[{'GeneLocus': '1p22.1', 'LocusKey': 1}]"
        ],
        [
         "186",
         "35",
         "ABCA5",
         "ATP binding cassette subfamily A member 5",
         "gene with protein product",
         "['EST90625']",
         "[{'GeneLocus': '17q24.3', 'LocusKey': 1}]"
        ],
        [
         "187",
         "37",
         "ABCA7",
         "ATP binding cassette subfamily A member 7",
         "gene with protein product",
         "['ABCX']",
         "[{'GeneLocus': '19p13.3', 'LocusKey': 1}]"
        ],
        [
         "188",
         "42",
         "ABCB11",
         "ATP binding cassette subfamily B member 11",
         "gene with protein product",
         "['ABC member 16, MDR/TAP subfamily', 'ABC16', 'PFIC-2', 'PGY4', 'SPGP']",
         "[{'GeneLocus': '2q31.1', 'LocusKey': 1}]"
        ],
        [
         "7848",
         "43",
         "TAP1",
         "transporter 1, ATP binding cassette subfamily B member",
         "gene with protein product",
         "['D6S114E', 'PSF1', 'RING4']",
         "[{'GeneLocus': '6p21.32', 'LocusKey': 1}]"
        ],
        [
         "7849",
         "44",
         "TAP2",
         "transporter 2, ATP binding cassette subfamily B member",
         "gene with protein product",
         "['D6S217E', 'PSF2', 'RING11']",
         "[{'GeneLocus': '6p21.32', 'LocusKey': 1}]"
        ],
        [
         "191",
         "45",
         "ABCB4",
         "ATP binding cassette subfamily B member 4",
         "gene with protein product",
         "['GBD1', 'MDR2', 'PFIC-3']",
         "[{'GeneLocus': '7q21.12', 'LocusKey': 1}]"
        ],
        [
         "194",
         "47",
         "ABCB6",
         "ATP binding cassette subfamily B member 6 (LAN blood group)",
         "gene with protein product",
         "['ATP-binding cassette half-transporter', 'EST45597', 'MTABC3', 'umat']",
         "[{'GeneLocus': '2q35', 'LocusKey': 1}]"
        ],
        [
         "203",
         "48",
         "ABCB7",
         "ATP binding cassette subfamily B member 7",
         "gene with protein product",
         "['ASAT', 'Atm1p', 'EST140535']",
         "[{'GeneLocus': 'Xq13.3', 'LocusKey': 1}]"
        ],
        [
         "204",
         "51",
         "ABCC1",
         "ATP binding cassette subfamily C member 1 (ABCC1 blood group)",
         "gene with protein product",
         "['GS-X', 'glutathione S-conjugate export pump']",
         "[{'GeneLocus': '16p13.11', 'LocusKey': 1}]"
        ],
        [
         "205",
         "53",
         "ABCC2",
         "ATP binding cassette subfamily C member 2",
         "gene with protein product",
         "['DJS', 'MRP2', 'cMRP']",
         "[{'GeneLocus': '10q24.2', 'LocusKey': 1}]"
        ],
        [
         "206",
         "57",
         "ABCC6",
         "ATP binding cassette subfamily C member 6",
         "gene with protein product",
         "['EST349056', 'MLP1', 'MRP6', 'URG7']",
         "[{'GeneLocus': '16p13.11', 'LocusKey': 1}]"
        ],
        [
         "208",
         "59",
         "ABCC8",
         "ATP binding cassette subfamily C member 8",
         "gene with protein product",
         "['ABC36', 'HHF1', 'HI', 'MRP8', 'PHHI', 'SUR1', 'TNDM2', 'sulfonylurea receptor (hyperinsulinemia)']",
         "[{'GeneLocus': '11p15.1', 'LocusKey': 1}]"
        ],
        [
         "215",
         "60",
         "ABCC9",
         "ATP binding cassette subfamily C member 9",
         "gene with protein product",
         "['CMD1O', 'SUR2', 'sulfonylurea receptor 2']",
         "[{'GeneLocus': '12p12.1', 'LocusKey': 1}]"
        ],
        [
         "219",
         "61",
         "ABCD1",
         "ATP binding cassette subfamily D member 1",
         "gene with protein product",
         "['ALDP', 'AMN', 'adrenoleukodystrophy']",
         "[{'GeneLocus': 'Xq28', 'LocusKey': 1}]"
        ],
        [
         "223",
         "68",
         "ABCD4",
         "ATP binding cassette subfamily D member 4",
         "gene with protein product",
         "['EST352188', 'P70R', 'PMP69']",
         "[{'GeneLocus': '14q24.3', 'LocusKey': 1}]"
        ],
        [
         "50",
         "76",
         "ABL1",
         "ABL proto-oncogene 1, non-receptor tyrosine kinase",
         "gene with protein product",
         "['JTK7', 'c-ABL', 'p150']",
         "[{'GeneLocus': '9q34.12', 'LocusKey': 1}]"
        ],
        [
         "2253",
         "87",
         "ACAD8",
         "acyl-CoA dehydrogenase family member 8",
         "gene with protein product",
         "['isobutyryl-CoA dehydrogenase']",
         "[{'GeneLocus': '11q25', 'LocusKey': 1}]"
        ],
        [
         "2255",
         "89",
         "ACADM",
         "acyl-CoA dehydrogenase medium chain",
         "gene with protein product",
         "['ACAD1', 'MCAD', 'MCADH', 'medium-chain acyl-CoA dehydrogenase']",
         "[{'GeneLocus': '1p31.1', 'LocusKey': 1}]"
        ],
        [
         "2256",
         "90",
         "ACADS",
         "acyl-CoA dehydrogenase short chain",
         "gene with protein product",
         "['ACAD3', 'SCAD']",
         "[{'GeneLocus': '12q24.31', 'LocusKey': 1}]"
        ],
        [
         "2257",
         "91",
         "ACADSB",
         "acyl-CoA dehydrogenase short/branched chain",
         "gene with protein product",
         "['ACAD7', 'SBCAD']",
         "[{'GeneLocus': '10q26.13', 'LocusKey': 1}]"
        ],
        [
         "2258",
         "92",
         "ACADVL",
         "acyl-CoA dehydrogenase very long chain",
         "gene with protein product",
         "['ACAD6', 'LCACD', 'VLCAD']",
         "[{'GeneLocus': '17p13.1', 'LocusKey': 1}]"
        ],
        [
         "2200",
         "93",
         "ACAT1",
         "acetyl-CoA acetyltransferase 1",
         "gene with protein product",
         "['THIL', 'acetoacetyl Coenzyme A thiolase']",
         "[{'GeneLocus': '11q22.3', 'LocusKey': 1}]"
        ],
        [
         "7222",
         "95",
         "SLC33A1",
         "solute carrier family 33 member 1",
         "gene with protein product",
         "['AT-1', 'AT1', 'Acetyl-CoA transporter 1']",
         "[{'GeneLocus': '3q25.31', 'LocusKey': 1}]"
        ],
        [
         "3396",
         "103",
         "CNNM2",
         "cyclin and CBS domain divalent metal cation transport mediator 2",
         "gene with protein product",
         null,
         "[{'GeneLocus': '10q24.32', 'LocusKey': 1}]"
        ],
        [
         "3397",
         "105",
         "CNNM4",
         "cyclin and CBS domain divalent metal cation transport mediator 4",
         "gene with protein product",
         "['KIAA1592']",
         "[{'GeneLocus': '2q11.2', 'LocusKey': 1}]"
        ],
        [
         "2204",
         "118",
         "ACO2",
         "aconitase 2",
         "gene with protein product",
         "['ACONM', 'aconitate hydratase, mitochondrial', 'mitochondrial aconitase']",
         "[{'GeneLocus': '22q13.2', 'LocusKey': 1}]"
        ],
        [
         "2259",
         "119",
         "ACOX1",
         "acyl-CoA oxidase 1",
         "gene with protein product",
         "['PALMCOX', 'palmitoyl-CoA oxidase']",
         "[{'GeneLocus': '17q25.1', 'LocusKey': 1}]"
        ],
        [
         "2203",
         "124",
         "ACP5",
         "acid phosphatase 5, tartrate resistant",
         "gene with protein product",
         "['HPAP', 'TRAP', 'TRAcP', 'human purple acid phosphatase', 'tartrate-resistant acid phosphatase']",
         "[{'GeneLocus': '19p13.2', 'LocusKey': 1}]"
        ],
        [
         "2206",
         "129",
         "ACTA1",
         "actin alpha 1, skeletal muscle",
         "gene with protein product",
         "['NEM3', 'nemaline myopathy type 3']",
         "[{'GeneLocus': '1q42.13', 'LocusKey': 1}]"
        ],
        [
         "2215",
         "130",
         "ACTA2",
         "actin alpha 2, smooth muscle",
         "gene with protein product",
         "['ACTSA']",
         "[{'GeneLocus': '10q23.31', 'LocusKey': 1}]"
        ],
        [
         "2221",
         "132",
         "ACTB",
         "actin beta",
         "gene with protein product",
         "['ß-actin']",
         "[{'GeneLocus': '7p22.1', 'LocusKey': 1}]"
        ],
        [
         "2218",
         "143",
         "ACTC1",
         "actin alpha cardiac muscle 1",
         "gene with protein product",
         "['CMD1R']",
         "[{'GeneLocus': '15q14', 'LocusKey': 1}]"
        ],
        [
         "2226",
         "144",
         "ACTG1",
         "actin gamma 1",
         "gene with protein product",
         null,
         "[{'GeneLocus': '17q25.3', 'LocusKey': 1}]"
        ],
        [
         "2230",
         "145",
         "ACTG2",
         "actin gamma 2, smooth muscle",
         "gene with protein product",
         "['ACTSG']",
         "[{'GeneLocus': '2p13.1', 'LocusKey': 1}]"
        ],
        [
         "2234",
         "160",
         "ACTL6B",
         "actin like 6B",
         "gene with protein product",
         "['BAF53B', 'SMARCN2']",
         "[{'GeneLocus': '7q22.1', 'LocusKey': 1}]"
        ],
        [
         "2238",
         "163",
         "ACTN1",
         "actinin alpha 1",
         "gene with protein product",
         null,
         "[{'GeneLocus': '14q24.1', 'LocusKey': 1}]"
        ],
        [
         "2239",
         "164",
         "ACTN2",
         "actinin alpha 2",
         "gene with protein product",
         null,
         "[{'GeneLocus': '1q43', 'LocusKey': 1}]"
        ],
        [
         "2240",
         "166",
         "ACTN4",
         "actinin alpha 4",
         "gene with protein product",
         null,
         "[{'GeneLocus': '19q13.2', 'LocusKey': 1}]"
        ],
        [
         "2250",
         "171",
         "ACVR1",
         "activin A receptor type 1",
         "gene with protein product",
         "['ACVR1A', 'ALK2', 'SKR1']",
         "[{'GeneLocus': '2q24.1', 'LocusKey': 1}]"
        ],
        [
         "2251",
         "174",
         "ACVR2B",
         "activin A receptor type 2B",
         "gene with protein product",
         "['ActR-IIB']",
         "[{'GeneLocus': '3p22.2', 'LocusKey': 1}]"
        ],
        [
         "2248",
         "175",
         "ACVRL1",
         "activin A receptor like type 1",
         "gene with protein product",
         "['ALK1', 'HHT', 'HHT2', 'activin receptor-like kinase 1']",
         "[{'GeneLocus': '12q13.13', 'LocusKey': 1}]"
        ],
        [
         "2392",
         "177",
         "ACY1",
         "aminoacylase 1",
         "gene with protein product",
         null,
         "[{'GeneLocus': '3p21.2', 'LocusKey': 1}]"
        ],
        [
         "2291",
         "186",
         "ADA",
         "adenosine deaminase",
         "gene with protein product",
         "['ADA1']",
         "[{'GeneLocus': '20q13.12', 'LocusKey': 1}]"
        ],
        [
         "57",
         "188",
         "ADAM10",
         "ADAM metallopeptidase domain 10",
         "gene with protein product",
         "['CD156C', 'CD156c', 'HsT18717', 'MADM', 'kuz']",
         "[{'GeneLocus': '15q21.3', 'LocusKey': 1}]"
        ]
       ],
       "shape": {
        "columns": 6,
        "rows": 4477
       }
      },
      "text/html": [
       "<div>\n",
       "<style scoped>\n",
       "    .dataframe tbody tr th:only-of-type {\n",
       "        vertical-align: middle;\n",
       "    }\n",
       "\n",
       "    .dataframe tbody tr th {\n",
       "        vertical-align: top;\n",
       "    }\n",
       "\n",
       "    .dataframe thead th {\n",
       "        text-align: right;\n",
       "    }\n",
       "</style>\n",
       "<table border=\"1\" class=\"dataframe\">\n",
       "  <thead>\n",
       "    <tr style=\"text-align: right;\">\n",
       "      <th></th>\n",
       "      <th>hgnc_id</th>\n",
       "      <th>simbolo_gen</th>\n",
       "      <th>nombre_gen</th>\n",
       "      <th>tipo_gen</th>\n",
       "      <th>sinonimos</th>\n",
       "      <th>locus</th>\n",
       "    </tr>\n",
       "  </thead>\n",
       "  <tbody>\n",
       "    <tr>\n",
       "      <th>2333</th>\n",
       "      <td>20</td>\n",
       "      <td>AARS1</td>\n",
       "      <td>alanyl-tRNA synthetase 1</td>\n",
       "      <td>gene with protein product</td>\n",
       "      <td>['AlaRS', 'CMT2N', 'alanine tRNA ligase 1, cyt...</td>\n",
       "      <td>[{'GeneLocus': '16q22.1', 'LocusKey': 1}]</td>\n",
       "    </tr>\n",
       "    <tr>\n",
       "      <th>26</th>\n",
       "      <td>23</td>\n",
       "      <td>ABAT</td>\n",
       "      <td>4-aminobutyrate aminotransferase</td>\n",
       "      <td>gene with protein product</td>\n",
       "      <td>['4-aminobutyrate transaminase', 'GABA transam...</td>\n",
       "      <td>[{'GeneLocus': '16p13.2', 'LocusKey': 1}]</td>\n",
       "    </tr>\n",
       "    <tr>\n",
       "      <th>173</th>\n",
       "      <td>29</td>\n",
       "      <td>ABCA1</td>\n",
       "      <td>ATP binding cassette subfamily A member 1</td>\n",
       "      <td>gene with protein product</td>\n",
       "      <td>['TGD', 'Tangier disease']</td>\n",
       "      <td>[{'GeneLocus': '9q31.1', 'LocusKey': 1}]</td>\n",
       "    </tr>\n",
       "    <tr>\n",
       "      <th>178</th>\n",
       "      <td>32</td>\n",
       "      <td>ABCA2</td>\n",
       "      <td>ATP binding cassette subfamily A member 2</td>\n",
       "      <td>gene with protein product</td>\n",
       "      <td>NaN</td>\n",
       "      <td>[{'GeneLocus': '9q34.3', 'LocusKey': 1}]</td>\n",
       "    </tr>\n",
       "    <tr>\n",
       "      <th>179</th>\n",
       "      <td>33</td>\n",
       "      <td>ABCA3</td>\n",
       "      <td>ATP binding cassette subfamily A member 3</td>\n",
       "      <td>gene with protein product</td>\n",
       "      <td>['ABC-C', 'EST111653', 'LBM180']</td>\n",
       "      <td>[{'GeneLocus': '16p13.3', 'LocusKey': 1}]</td>\n",
       "    </tr>\n",
       "    <tr>\n",
       "      <th>...</th>\n",
       "      <td>...</td>\n",
       "      <td>...</td>\n",
       "      <td>...</td>\n",
       "      <td>...</td>\n",
       "      <td>...</td>\n",
       "      <td>...</td>\n",
       "    </tr>\n",
       "    <tr>\n",
       "      <th>5625</th>\n",
       "      <td>52391</td>\n",
       "      <td>MYMX</td>\n",
       "      <td>myomixer, myoblast fusion factor</td>\n",
       "      <td>gene with protein product</td>\n",
       "      <td>['MINION', 'microprotein inducer of fusion', '...</td>\n",
       "      <td>[{'GeneLocus': '6p21.1', 'LocusKey': 1}]</td>\n",
       "    </tr>\n",
       "    <tr>\n",
       "      <th>3006</th>\n",
       "      <td>53647</td>\n",
       "      <td>CIROP</td>\n",
       "      <td>ciliated left-right organizer metallopeptidase</td>\n",
       "      <td>gene with protein product</td>\n",
       "      <td>NaN</td>\n",
       "      <td>[{'GeneLocus': '14q11.2', 'LocusKey': 1}]</td>\n",
       "    </tr>\n",
       "    <tr>\n",
       "      <th>5815</th>\n",
       "      <td>53924</td>\n",
       "      <td>NOTCH2NLC</td>\n",
       "      <td>notch 2 N-terminal like C</td>\n",
       "      <td>gene with protein product</td>\n",
       "      <td>NaN</td>\n",
       "      <td>[{'GeneLocus': '1q21.2', 'LocusKey': 1}]</td>\n",
       "    </tr>\n",
       "    <tr>\n",
       "      <th>1744</th>\n",
       "      <td>54925</td>\n",
       "      <td>SLC7A2-IT1</td>\n",
       "      <td>SLC7A2 intronic transcript 1</td>\n",
       "      <td>Non-coding RNA</td>\n",
       "      <td>NaN</td>\n",
       "      <td>[{'GeneLocus': '8p22', 'LocusKey': 1}]</td>\n",
       "    </tr>\n",
       "    <tr>\n",
       "      <th>507</th>\n",
       "      <td>&lt;NA&gt;</td>\n",
       "      <td>CTR9</td>\n",
       "      <td>CTR9 homolog, Paf1/RNA polymerase II complex c...</td>\n",
       "      <td>gene with protein product</td>\n",
       "      <td>NaN</td>\n",
       "      <td>NaN</td>\n",
       "    </tr>\n",
       "  </tbody>\n",
       "</table>\n",
       "<p>4477 rows × 6 columns</p>\n",
       "</div>"
      ],
      "text/plain": [
       "      hgnc_id simbolo_gen                                         nombre_gen  \\\n",
       "2333       20       AARS1                           alanyl-tRNA synthetase 1   \n",
       "26         23        ABAT                   4-aminobutyrate aminotransferase   \n",
       "173        29       ABCA1          ATP binding cassette subfamily A member 1   \n",
       "178        32       ABCA2          ATP binding cassette subfamily A member 2   \n",
       "179        33       ABCA3          ATP binding cassette subfamily A member 3   \n",
       "...       ...         ...                                                ...   \n",
       "5625    52391        MYMX                   myomixer, myoblast fusion factor   \n",
       "3006    53647       CIROP     ciliated left-right organizer metallopeptidase   \n",
       "5815    53924   NOTCH2NLC                          notch 2 N-terminal like C   \n",
       "1744    54925  SLC7A2-IT1                       SLC7A2 intronic transcript 1   \n",
       "507      <NA>        CTR9  CTR9 homolog, Paf1/RNA polymerase II complex c...   \n",
       "\n",
       "                       tipo_gen  \\\n",
       "2333  gene with protein product   \n",
       "26    gene with protein product   \n",
       "173   gene with protein product   \n",
       "178   gene with protein product   \n",
       "179   gene with protein product   \n",
       "...                         ...   \n",
       "5625  gene with protein product   \n",
       "3006  gene with protein product   \n",
       "5815  gene with protein product   \n",
       "1744             Non-coding RNA   \n",
       "507   gene with protein product   \n",
       "\n",
       "                                              sinonimos  \\\n",
       "2333  ['AlaRS', 'CMT2N', 'alanine tRNA ligase 1, cyt...   \n",
       "26    ['4-aminobutyrate transaminase', 'GABA transam...   \n",
       "173                          ['TGD', 'Tangier disease']   \n",
       "178                                                 NaN   \n",
       "179                    ['ABC-C', 'EST111653', 'LBM180']   \n",
       "...                                                 ...   \n",
       "5625  ['MINION', 'microprotein inducer of fusion', '...   \n",
       "3006                                                NaN   \n",
       "5815                                                NaN   \n",
       "1744                                                NaN   \n",
       "507                                                 NaN   \n",
       "\n",
       "                                          locus  \n",
       "2333  [{'GeneLocus': '16q22.1', 'LocusKey': 1}]  \n",
       "26    [{'GeneLocus': '16p13.2', 'LocusKey': 1}]  \n",
       "173    [{'GeneLocus': '9q31.1', 'LocusKey': 1}]  \n",
       "178    [{'GeneLocus': '9q34.3', 'LocusKey': 1}]  \n",
       "179   [{'GeneLocus': '16p13.3', 'LocusKey': 1}]  \n",
       "...                                         ...  \n",
       "5625   [{'GeneLocus': '6p21.1', 'LocusKey': 1}]  \n",
       "3006  [{'GeneLocus': '14q11.2', 'LocusKey': 1}]  \n",
       "5815   [{'GeneLocus': '1q21.2', 'LocusKey': 1}]  \n",
       "1744     [{'GeneLocus': '8p22', 'LocusKey': 1}]  \n",
       "507                                         NaN  \n",
       "\n",
       "[4477 rows x 6 columns]"
      ]
     },
     "execution_count": 212,
     "metadata": {},
     "output_type": "execute_result"
    }
   ],
   "source": [
    "genes = orphadata['df_genes'] \\\n",
    "    .merge(orphadata['df_disease_gene'], on='Gene symbol', how='left')\n",
    "genes = genes.drop(columns=['Gene name_y', 'ORPHAcode', 'Disorder name', 'Disorder type', 'Validation source'])\n",
    "genes = genes.rename(columns={'HGNC': 'hgnc_id', 'Gene name_x': 'nombre_gen', 'Gene symbol': 'simbolo_gen', 'Gene type': 'tipo_gen', 'Gene synonyms': 'sinonimos', 'Locus': 'locus'})\n",
    "genes = genes[['hgnc_id', 'simbolo_gen', 'nombre_gen', 'tipo_gen', 'sinonimos', 'locus']]\n",
    "genes['hgnc_id'] = genes['hgnc_id'].astype('Int64')\n",
    "genes = genes.drop_duplicates(subset='hgnc_id')\n",
    "genes = genes.sort_values(by='hgnc_id')\n",
    "genes"
   ]
  },
  {
   "cell_type": "code",
   "execution_count": 251,
   "id": "28a24156",
   "metadata": {},
   "outputs": [
    {
     "name": "stdout",
     "output_type": "stream",
     "text": [
      "<class 'pandas.core.frame.DataFrame'>\n",
      "Index: 4477 entries, 2333 to 507\n",
      "Data columns (total 6 columns):\n",
      " #   Column       Non-Null Count  Dtype \n",
      "---  ------       --------------  ----- \n",
      " 0   hgnc_id      4476 non-null   Int64 \n",
      " 1   simbolo_gen  4477 non-null   object\n",
      " 2   nombre_gen   4477 non-null   object\n",
      " 3   tipo_gen     4476 non-null   object\n",
      " 4   sinonimos    3940 non-null   object\n",
      " 5   locus        4474 non-null   object\n",
      "dtypes: Int64(1), object(5)\n",
      "memory usage: 249.2+ KB\n"
     ]
    }
   ],
   "source": [
    "genes.info()"
   ]
  },
  {
   "cell_type": "markdown",
   "id": "75c55b0c",
   "metadata": {},
   "source": [
    "##### Tabla 4: enfermedad_gen"
   ]
  },
  {
   "cell_type": "code",
   "execution_count": 213,
   "id": "7e235265",
   "metadata": {},
   "outputs": [
    {
     "data": {
      "application/vnd.microsoft.datawrangler.viewer.v0+json": {
       "columns": [
        {
         "name": "index",
         "rawType": "int64",
         "type": "integer"
        },
        {
         "name": "ORPHAcode",
         "rawType": "Int64",
         "type": "integer"
        },
        {
         "name": "simbolo_gen",
         "rawType": "object",
         "type": "string"
        },
        {
         "name": "fuente_info",
         "rawType": "object",
         "type": "unknown"
        }
       ],
       "conversionMethod": "pd.DataFrame",
       "ref": "7b7bfb2f-84b3-480a-bca5-c4a9df657694",
       "rows": [
        [
         "4637",
         "5",
         "HADHA",
         null
        ],
        [
         "5382",
         "6",
         "MCCC2",
         "22642865[PMID]_22264772[PMID]"
        ],
        [
         "5381",
         "6",
         "MCCC1",
         "22642865[PMID]_22264772[PMID]"
        ],
        [
         "3080",
         "7",
         "CCDC22",
         "24916641[PMID]"
        ],
        [
         "2075",
         "7",
         "VPS35L",
         "31712251[PMID]"
        ],
        [
         "2085",
         "7",
         "WASHC5",
         "24065355[PMID]"
        ],
        [
         "3627",
         "7",
         "DPYSL5",
         "33894126[PMID]"
        ],
        [
         "43",
         "13",
         "PTS",
         null
        ],
        [
         "5408",
         "14",
         "MTTP",
         "22378282[PMID]_24288038[PMID]_23556456[PMID]"
        ],
        [
         "4030",
         "15",
         "FGFR3",
         "23149434[PMID]"
        ],
        [
         "5910",
         "16",
         "OPN1MW",
         "15069569[PMID]"
        ],
        [
         "5907",
         "16",
         "OPN1LW",
         "15069569[PMID]"
        ],
        [
         "7452",
         "17",
         "SUCLG1",
         "19526370[PMID]_21639866[PMID]"
        ],
        [
         "17",
         "20",
         "HMGCL",
         "19177531[PMID]"
        ],
        [
         "2349",
         "22",
         "ALDH5A1",
         "20301374[PMID]"
        ],
        [
         "2485",
         "23",
         "ASL",
         "12384776[PMID]_21290785[PMID]"
        ],
        [
         "4181",
         "24",
         "FH",
         "20301679[PMID]"
        ],
        [
         "4355",
         "25",
         "GCDH",
         "18775954[PMID]"
        ],
        [
         "5396",
         "29",
         "MVK",
         null
        ],
        [
         "8072",
         "30",
         "UMPS",
         "9042911[PMID]_19562503[PMID]"
        ],
        [
         "5941",
         "31",
         "OGDH",
         "36520152[PMID]"
        ],
        [
         "4890",
         "33",
         "IVD",
         null
        ],
        [
         "6534",
         "35",
         "PCCB",
         "22593918[PMID]"
        ],
        [
         "6533",
         "35",
         "PCCA",
         "22593918[PMID]"
        ],
        [
         "5008",
         "36",
         "KIF7",
         "21552264[PMID]_23142271[PMID]"
        ],
        [
         "931",
         "36",
         "GLI3",
         "23633388[PMID]_12414818[PMID]"
        ],
        [
         "7242",
         "37",
         "SLC39A4",
         "22166942[PMID]_22082465[PMID]_12787121[PMID]"
        ],
        [
         "5701",
         "40",
         "NPR2",
         "22691581[PMID]_15146390[PMID]"
        ],
        [
         "2296",
         "41",
         "ADAR",
         "12916015[PMID]"
        ],
        [
         "2255",
         "42",
         "ACADM",
         "20301597[PMID]"
        ],
        [
         "6094",
         "44",
         "PEX13",
         null
        ],
        [
         "6111",
         "44",
         "PEX26",
         null
        ],
        [
         "6121",
         "44",
         "PEX6",
         null
        ],
        [
         "6088",
         "44",
         "PEX11B",
         null
        ],
        [
         "6084",
         "44",
         "PEX10",
         null
        ],
        [
         "6097",
         "44",
         "PEX14",
         null
        ],
        [
         "6091",
         "44",
         "PEX12",
         null
        ],
        [
         "6080",
         "44",
         "PEX1",
         null
        ],
        [
         "6104",
         "44",
         "PEX19",
         null
        ],
        [
         "6100",
         "44",
         "PEX16",
         null
        ],
        [
         "6117",
         "44",
         "PEX5",
         null
        ],
        [
         "6107",
         "44",
         "PEX2",
         null
        ],
        [
         "6114",
         "44",
         "PEX3",
         null
        ],
        [
         "2304",
         "45",
         "AMPD3",
         "8004104[PMID]_11139257[PMID]"
        ],
        [
         "2301",
         "45",
         "AMPD1",
         null
        ],
        [
         "2315",
         "46",
         "ADSL",
         "18524658[PMID]"
        ],
        [
         "408",
         "47",
         "BTK",
         "20301626[PMID]"
        ],
        [
         "483",
         "48",
         "CFTR",
         "7539342[PMID]_10651488[PMID]"
        ],
        [
         "2320",
         "48",
         "ADGRG2",
         "27476656[PMID]"
        ],
        [
         "6790",
         "51",
         "RNASEH2B",
         "20301648[PMID]"
        ]
       ],
       "shape": {
        "columns": 3,
        "rows": 8194
       }
      },
      "text/html": [
       "<div>\n",
       "<style scoped>\n",
       "    .dataframe tbody tr th:only-of-type {\n",
       "        vertical-align: middle;\n",
       "    }\n",
       "\n",
       "    .dataframe tbody tr th {\n",
       "        vertical-align: top;\n",
       "    }\n",
       "\n",
       "    .dataframe thead th {\n",
       "        text-align: right;\n",
       "    }\n",
       "</style>\n",
       "<table border=\"1\" class=\"dataframe\">\n",
       "  <thead>\n",
       "    <tr style=\"text-align: right;\">\n",
       "      <th></th>\n",
       "      <th>ORPHAcode</th>\n",
       "      <th>simbolo_gen</th>\n",
       "      <th>fuente_info</th>\n",
       "    </tr>\n",
       "  </thead>\n",
       "  <tbody>\n",
       "    <tr>\n",
       "      <th>4637</th>\n",
       "      <td>5</td>\n",
       "      <td>HADHA</td>\n",
       "      <td>NaN</td>\n",
       "    </tr>\n",
       "    <tr>\n",
       "      <th>5382</th>\n",
       "      <td>6</td>\n",
       "      <td>MCCC2</td>\n",
       "      <td>22642865[PMID]_22264772[PMID]</td>\n",
       "    </tr>\n",
       "    <tr>\n",
       "      <th>5381</th>\n",
       "      <td>6</td>\n",
       "      <td>MCCC1</td>\n",
       "      <td>22642865[PMID]_22264772[PMID]</td>\n",
       "    </tr>\n",
       "    <tr>\n",
       "      <th>3080</th>\n",
       "      <td>7</td>\n",
       "      <td>CCDC22</td>\n",
       "      <td>24916641[PMID]</td>\n",
       "    </tr>\n",
       "    <tr>\n",
       "      <th>2075</th>\n",
       "      <td>7</td>\n",
       "      <td>VPS35L</td>\n",
       "      <td>31712251[PMID]</td>\n",
       "    </tr>\n",
       "    <tr>\n",
       "      <th>...</th>\n",
       "      <td>...</td>\n",
       "      <td>...</td>\n",
       "      <td>...</td>\n",
       "    </tr>\n",
       "    <tr>\n",
       "      <th>6791</th>\n",
       "      <td>689234</td>\n",
       "      <td>RNASEH2B</td>\n",
       "      <td>38229641[PMID]</td>\n",
       "    </tr>\n",
       "    <tr>\n",
       "      <th>2787</th>\n",
       "      <td>689397</td>\n",
       "      <td>CSNK2B</td>\n",
       "      <td>34740143[PMID]</td>\n",
       "    </tr>\n",
       "    <tr>\n",
       "      <th>158</th>\n",
       "      <td>689408</td>\n",
       "      <td>ASXL2</td>\n",
       "      <td>27693232[PMID]</td>\n",
       "    </tr>\n",
       "    <tr>\n",
       "      <th>2816</th>\n",
       "      <td>689430</td>\n",
       "      <td>CTNNB1</td>\n",
       "      <td>35840721[PMID]</td>\n",
       "    </tr>\n",
       "    <tr>\n",
       "      <th>6585</th>\n",
       "      <td>&lt;NA&gt;</td>\n",
       "      <td>PRKD1</td>\n",
       "      <td>NaN</td>\n",
       "    </tr>\n",
       "  </tbody>\n",
       "</table>\n",
       "<p>8194 rows × 3 columns</p>\n",
       "</div>"
      ],
      "text/plain": [
       "      ORPHAcode simbolo_gen                    fuente_info\n",
       "4637          5       HADHA                            NaN\n",
       "5382          6       MCCC2  22642865[PMID]_22264772[PMID]\n",
       "5381          6       MCCC1  22642865[PMID]_22264772[PMID]\n",
       "3080          7      CCDC22                 24916641[PMID]\n",
       "2075          7      VPS35L                 31712251[PMID]\n",
       "...         ...         ...                            ...\n",
       "6791     689234    RNASEH2B                 38229641[PMID]\n",
       "2787     689397      CSNK2B                 34740143[PMID]\n",
       "158      689408       ASXL2                 27693232[PMID]\n",
       "2816     689430      CTNNB1                 35840721[PMID]\n",
       "6585       <NA>       PRKD1                            NaN\n",
       "\n",
       "[8194 rows x 3 columns]"
      ]
     },
     "execution_count": 213,
     "metadata": {},
     "output_type": "execute_result"
    }
   ],
   "source": [
    "enfermedad_gen = orphadata['df_genes'] \\\n",
    "    .merge(orphadata['df_disease_gene'], on='Gene symbol', how='left')\n",
    "enfermedad_gen = enfermedad_gen.drop(columns=['Gene name_y', 'Disorder name', 'Disorder type', 'HGNC', 'Gene name_x', 'Gene type', 'Gene synonyms', 'Locus'])\n",
    "enfermedad_gen = enfermedad_gen.rename(columns={'Gene symbol': 'simbolo_gen', 'Validation source': 'fuente_info'})\n",
    "enfermedad_gen = enfermedad_gen[['ORPHAcode', 'simbolo_gen', 'fuente_info']].sort_values(by='ORPHAcode')\n",
    "enfermedad_gen['ORPHAcode'] = enfermedad_gen['ORPHAcode'].astype('Int64')\n",
    "enfermedad_gen"
   ]
  },
  {
   "cell_type": "code",
   "execution_count": 252,
   "id": "cf43321e",
   "metadata": {},
   "outputs": [
    {
     "name": "stdout",
     "output_type": "stream",
     "text": [
      "<class 'pandas.core.frame.DataFrame'>\n",
      "Index: 8194 entries, 4637 to 6585\n",
      "Data columns (total 3 columns):\n",
      " #   Column       Non-Null Count  Dtype \n",
      "---  ------       --------------  ----- \n",
      " 0   ORPHAcode    8193 non-null   Int64 \n",
      " 1   simbolo_gen  8194 non-null   object\n",
      " 2   fuente_info  7441 non-null   object\n",
      "dtypes: Int64(1), object(2)\n",
      "memory usage: 264.1+ KB\n"
     ]
    }
   ],
   "source": [
    "enfermedad_gen.info()"
   ]
  },
  {
   "cell_type": "markdown",
   "id": "f3aedf92",
   "metadata": {},
   "source": [
    "##### Tabla 5: fenotipos"
   ]
  },
  {
   "cell_type": "code",
   "execution_count": 214,
   "id": "b80c1a4e",
   "metadata": {},
   "outputs": [
    {
     "data": {
      "application/vnd.microsoft.datawrangler.viewer.v0+json": {
       "columns": [
        {
         "name": "index",
         "rawType": "int64",
         "type": "integer"
        },
        {
         "name": "fenotipo_id",
         "rawType": "object",
         "type": "string"
        },
        {
         "name": "fenotipo",
         "rawType": "object",
         "type": "string"
        }
       ],
       "conversionMethod": "pd.DataFrame",
       "ref": "7b03b59e-4c29-4895-810e-3226c187414f",
       "rows": [
        [
         "0",
         "HP:0000256",
         "Macrocephaly"
        ],
        [
         "1",
         "HP:0001249",
         "Intellectual disability"
        ],
        [
         "2",
         "HP:0001250",
         "Seizure"
        ],
        [
         "3",
         "HP:0001257",
         "Spasticity"
        ],
        [
         "4",
         "HP:0001274",
         "Agenesis of corpus callosum"
        ],
        [
         "5",
         "HP:0001347",
         "Hyperreflexia"
        ],
        [
         "6",
         "HP:0001355",
         "Megalencephaly"
        ],
        [
         "7",
         "HP:0001508",
         "Failure to thrive"
        ],
        [
         "8",
         "HP:0002007",
         "Frontal bossing"
        ],
        [
         "9",
         "HP:0002017",
         "Nausea and vomiting"
        ],
        [
         "10",
         "HP:0002167",
         "Abnormality of speech or vocalization"
        ],
        [
         "11",
         "HP:0002169",
         "Clonus"
        ],
        [
         "12",
         "HP:0002353",
         "EEG abnormality"
        ],
        [
         "13",
         "HP:0002360",
         "Sleep abnormality"
        ],
        [
         "14",
         "HP:0002650",
         "Scoliosis"
        ],
        [
         "15",
         "HP:0007256",
         "Abnormal pyramidal sign"
        ],
        [
         "16",
         "HP:0100729",
         "Large face"
        ],
        [
         "17",
         "HP:0000496",
         "Abnormality of eye movement"
        ],
        [
         "18",
         "HP:0000508",
         "Ptosis"
        ],
        [
         "19",
         "HP:0000639",
         "Nystagmus"
        ],
        [
         "20",
         "HP:0000651",
         "Diplopia"
        ],
        [
         "21",
         "HP:0000712",
         "Emotional lability"
        ],
        [
         "22",
         "HP:0000716",
         "Depression"
        ],
        [
         "23",
         "HP:0000975",
         "Hyperhidrosis"
        ],
        [
         "24",
         "HP:0001251",
         "Ataxia"
        ],
        [
         "25",
         "HP:0001260",
         "Dysarthria"
        ],
        [
         "26",
         "HP:0001288",
         "Gait disturbance"
        ],
        [
         "27",
         "HP:0001337",
         "Tremor"
        ],
        [
         "28",
         "HP:0001618",
         "Dysphonia"
        ],
        [
         "29",
         "HP:0002015",
         "Dysphagia"
        ],
        [
         "30",
         "HP:0002019",
         "Constipation"
        ],
        [
         "31",
         "HP:0002045",
         "Hypothermia"
        ],
        [
         "32",
         "HP:0002381",
         "Aphasia"
        ],
        [
         "33",
         "HP:0002445",
         "Tetraplegia"
        ],
        [
         "34",
         "HP:0002514",
         "Cerebral calcification"
        ],
        [
         "35",
         "HP:0002615",
         "Hypotension"
        ],
        [
         "36",
         "HP:0002808",
         "Kyphosis"
        ],
        [
         "37",
         "HP:0010535",
         "Sleep apnea"
        ],
        [
         "38",
         "HP:0010628",
         "Facial palsy"
        ],
        [
         "39",
         "HP:0100247",
         "Recurrent singultus"
        ],
        [
         "40",
         "HP:0000218",
         "High palate"
        ],
        [
         "41",
         "HP:0000238",
         "Hydrocephalus"
        ],
        [
         "42",
         "HP:0000470",
         "Short neck"
        ],
        [
         "43",
         "HP:0000819",
         "Diabetes mellitus"
        ],
        [
         "44",
         "HP:0000821",
         "Hypothyroidism"
        ],
        [
         "45",
         "HP:0000822",
         "Hypertension"
        ],
        [
         "46",
         "HP:0000826",
         "Precocious puberty"
        ],
        [
         "47",
         "HP:0000938",
         "Osteopenia"
        ],
        [
         "48",
         "HP:0001252",
         "Hypotonia"
        ],
        [
         "49",
         "HP:0001324",
         "Muscle weakness"
        ]
       ],
       "shape": {
        "columns": 2,
        "rows": 114961
       }
      },
      "text/html": [
       "<div>\n",
       "<style scoped>\n",
       "    .dataframe tbody tr th:only-of-type {\n",
       "        vertical-align: middle;\n",
       "    }\n",
       "\n",
       "    .dataframe tbody tr th {\n",
       "        vertical-align: top;\n",
       "    }\n",
       "\n",
       "    .dataframe thead th {\n",
       "        text-align: right;\n",
       "    }\n",
       "</style>\n",
       "<table border=\"1\" class=\"dataframe\">\n",
       "  <thead>\n",
       "    <tr style=\"text-align: right;\">\n",
       "      <th></th>\n",
       "      <th>fenotipo_id</th>\n",
       "      <th>fenotipo</th>\n",
       "    </tr>\n",
       "  </thead>\n",
       "  <tbody>\n",
       "    <tr>\n",
       "      <th>0</th>\n",
       "      <td>HP:0000256</td>\n",
       "      <td>Macrocephaly</td>\n",
       "    </tr>\n",
       "    <tr>\n",
       "      <th>1</th>\n",
       "      <td>HP:0001249</td>\n",
       "      <td>Intellectual disability</td>\n",
       "    </tr>\n",
       "    <tr>\n",
       "      <th>2</th>\n",
       "      <td>HP:0001250</td>\n",
       "      <td>Seizure</td>\n",
       "    </tr>\n",
       "    <tr>\n",
       "      <th>3</th>\n",
       "      <td>HP:0001257</td>\n",
       "      <td>Spasticity</td>\n",
       "    </tr>\n",
       "    <tr>\n",
       "      <th>4</th>\n",
       "      <td>HP:0001274</td>\n",
       "      <td>Agenesis of corpus callosum</td>\n",
       "    </tr>\n",
       "    <tr>\n",
       "      <th>...</th>\n",
       "      <td>...</td>\n",
       "      <td>...</td>\n",
       "    </tr>\n",
       "    <tr>\n",
       "      <th>114956</th>\n",
       "      <td>HP:0011110</td>\n",
       "      <td>Recurrent tonsillitis</td>\n",
       "    </tr>\n",
       "    <tr>\n",
       "      <th>114957</th>\n",
       "      <td>HP:0012758</td>\n",
       "      <td>Neurodevelopmental delay</td>\n",
       "    </tr>\n",
       "    <tr>\n",
       "      <th>114958</th>\n",
       "      <td>HP:0031692</td>\n",
       "      <td>Severe cytomegalovirus infection</td>\n",
       "    </tr>\n",
       "    <tr>\n",
       "      <th>114959</th>\n",
       "      <td>HP:0031693</td>\n",
       "      <td>Severe Epstein Barr virus infection</td>\n",
       "    </tr>\n",
       "    <tr>\n",
       "      <th>114960</th>\n",
       "      <td>HP:0032170</td>\n",
       "      <td>Severe varicella zoster infection</td>\n",
       "    </tr>\n",
       "  </tbody>\n",
       "</table>\n",
       "<p>114961 rows × 2 columns</p>\n",
       "</div>"
      ],
      "text/plain": [
       "       fenotipo_id                             fenotipo\n",
       "0       HP:0000256                         Macrocephaly\n",
       "1       HP:0001249              Intellectual disability\n",
       "2       HP:0001250                              Seizure\n",
       "3       HP:0001257                           Spasticity\n",
       "4       HP:0001274          Agenesis of corpus callosum\n",
       "...            ...                                  ...\n",
       "114956  HP:0011110                Recurrent tonsillitis\n",
       "114957  HP:0012758             Neurodevelopmental delay\n",
       "114958  HP:0031692     Severe cytomegalovirus infection\n",
       "114959  HP:0031693  Severe Epstein Barr virus infection\n",
       "114960  HP:0032170    Severe varicella zoster infection\n",
       "\n",
       "[114961 rows x 2 columns]"
      ]
     },
     "execution_count": 214,
     "metadata": {},
     "output_type": "execute_result"
    }
   ],
   "source": [
    "fenotipos = orphadata['df_rd_phenotypes']\n",
    "fenotipos = fenotipos.drop(columns=['ORPHAcode', 'Disorder', 'Frequency'])\n",
    "fenotipos = fenotipos.rename(columns={'HPO_ID': 'fenotipo_id', 'HPO_Term': 'fenotipo'})\n",
    "fenotipos"
   ]
  },
  {
   "cell_type": "code",
   "execution_count": 253,
   "id": "ea73e02a",
   "metadata": {},
   "outputs": [
    {
     "name": "stdout",
     "output_type": "stream",
     "text": [
      "<class 'pandas.core.frame.DataFrame'>\n",
      "RangeIndex: 114961 entries, 0 to 114960\n",
      "Data columns (total 2 columns):\n",
      " #   Column       Non-Null Count   Dtype \n",
      "---  ------       --------------   ----- \n",
      " 0   fenotipo_id  114961 non-null  object\n",
      " 1   fenotipo     114961 non-null  object\n",
      "dtypes: object(2)\n",
      "memory usage: 1.8+ MB\n"
     ]
    }
   ],
   "source": [
    "fenotipos.info()"
   ]
  },
  {
   "cell_type": "markdown",
   "id": "a6b8559c",
   "metadata": {},
   "source": [
    "##### Tabla 6: enfermedad_fenotipo"
   ]
  },
  {
   "cell_type": "code",
   "execution_count": 257,
   "id": "9208381d",
   "metadata": {},
   "outputs": [
    {
     "name": "stdout",
     "output_type": "stream",
     "text": [
      "<class 'pandas.core.frame.DataFrame'>\n",
      "RangeIndex: 114961 entries, 0 to 114960\n",
      "Data columns (total 3 columns):\n",
      " #   Column       Non-Null Count   Dtype \n",
      "---  ------       --------------   ----- \n",
      " 0   ORPHAcode    114961 non-null  int64 \n",
      " 1   fenotipo_id  114961 non-null  object\n",
      " 2   frecuencia   114961 non-null  object\n",
      "dtypes: int64(1), object(2)\n",
      "memory usage: 2.6+ MB\n"
     ]
    },
    {
     "data": {
      "application/vnd.microsoft.datawrangler.viewer.v0+json": {
       "columns": [
        {
         "name": "index",
         "rawType": "int64",
         "type": "integer"
        },
        {
         "name": "ORPHAcode",
         "rawType": "int64",
         "type": "integer"
        },
        {
         "name": "fenotipo_id",
         "rawType": "object",
         "type": "string"
        },
        {
         "name": "frecuencia",
         "rawType": "object",
         "type": "string"
        }
       ],
       "conversionMethod": "pd.DataFrame",
       "ref": "360ac156-2bdc-477e-b346-e3fb6b642e71",
       "rows": [
        [
         "0",
         "58",
         "HP:0000256",
         "Very frequent (99-80%)"
        ],
        [
         "1",
         "58",
         "HP:0001249",
         "Very frequent (99-80%)"
        ],
        [
         "2",
         "58",
         "HP:0001250",
         "Very frequent (99-80%)"
        ],
        [
         "3",
         "58",
         "HP:0001257",
         "Very frequent (99-80%)"
        ],
        [
         "4",
         "58",
         "HP:0001274",
         "Very frequent (99-80%)"
        ],
        [
         "5",
         "58",
         "HP:0001347",
         "Very frequent (99-80%)"
        ],
        [
         "6",
         "58",
         "HP:0001355",
         "Very frequent (99-80%)"
        ],
        [
         "7",
         "58",
         "HP:0001508",
         "Very frequent (99-80%)"
        ],
        [
         "8",
         "58",
         "HP:0002007",
         "Very frequent (99-80%)"
        ],
        [
         "9",
         "58",
         "HP:0002017",
         "Very frequent (99-80%)"
        ],
        [
         "10",
         "58",
         "HP:0002167",
         "Very frequent (99-80%)"
        ],
        [
         "11",
         "58",
         "HP:0002169",
         "Very frequent (99-80%)"
        ],
        [
         "12",
         "58",
         "HP:0002353",
         "Very frequent (99-80%)"
        ],
        [
         "13",
         "58",
         "HP:0002360",
         "Very frequent (99-80%)"
        ],
        [
         "14",
         "58",
         "HP:0002650",
         "Very frequent (99-80%)"
        ],
        [
         "15",
         "58",
         "HP:0007256",
         "Very frequent (99-80%)"
        ],
        [
         "16",
         "58",
         "HP:0100729",
         "Very frequent (99-80%)"
        ],
        [
         "17",
         "58",
         "HP:0000496",
         "Frequent (79-30%)"
        ],
        [
         "18",
         "58",
         "HP:0000508",
         "Frequent (79-30%)"
        ],
        [
         "19",
         "58",
         "HP:0000639",
         "Frequent (79-30%)"
        ],
        [
         "20",
         "58",
         "HP:0000651",
         "Frequent (79-30%)"
        ],
        [
         "21",
         "58",
         "HP:0000712",
         "Frequent (79-30%)"
        ],
        [
         "22",
         "58",
         "HP:0000716",
         "Frequent (79-30%)"
        ],
        [
         "23",
         "58",
         "HP:0000975",
         "Frequent (79-30%)"
        ],
        [
         "24",
         "58",
         "HP:0001251",
         "Frequent (79-30%)"
        ],
        [
         "25",
         "58",
         "HP:0001260",
         "Frequent (79-30%)"
        ],
        [
         "26",
         "58",
         "HP:0001288",
         "Frequent (79-30%)"
        ],
        [
         "27",
         "58",
         "HP:0001337",
         "Frequent (79-30%)"
        ],
        [
         "28",
         "58",
         "HP:0001618",
         "Frequent (79-30%)"
        ],
        [
         "29",
         "58",
         "HP:0002015",
         "Frequent (79-30%)"
        ],
        [
         "30",
         "58",
         "HP:0002019",
         "Frequent (79-30%)"
        ],
        [
         "31",
         "58",
         "HP:0002045",
         "Frequent (79-30%)"
        ],
        [
         "32",
         "58",
         "HP:0002381",
         "Frequent (79-30%)"
        ],
        [
         "33",
         "58",
         "HP:0002445",
         "Frequent (79-30%)"
        ],
        [
         "34",
         "58",
         "HP:0002514",
         "Frequent (79-30%)"
        ],
        [
         "35",
         "58",
         "HP:0002615",
         "Frequent (79-30%)"
        ],
        [
         "36",
         "58",
         "HP:0002808",
         "Frequent (79-30%)"
        ],
        [
         "37",
         "58",
         "HP:0010535",
         "Frequent (79-30%)"
        ],
        [
         "38",
         "58",
         "HP:0010628",
         "Frequent (79-30%)"
        ],
        [
         "39",
         "58",
         "HP:0100247",
         "Frequent (79-30%)"
        ],
        [
         "40",
         "58",
         "HP:0000218",
         "Occasional (29-5%)"
        ],
        [
         "41",
         "58",
         "HP:0000238",
         "Occasional (29-5%)"
        ],
        [
         "42",
         "58",
         "HP:0000470",
         "Occasional (29-5%)"
        ],
        [
         "43",
         "58",
         "HP:0000819",
         "Occasional (29-5%)"
        ],
        [
         "44",
         "58",
         "HP:0000821",
         "Occasional (29-5%)"
        ],
        [
         "45",
         "58",
         "HP:0000822",
         "Occasional (29-5%)"
        ],
        [
         "46",
         "58",
         "HP:0000826",
         "Occasional (29-5%)"
        ],
        [
         "47",
         "58",
         "HP:0000938",
         "Occasional (29-5%)"
        ],
        [
         "48",
         "58",
         "HP:0001252",
         "Occasional (29-5%)"
        ],
        [
         "49",
         "58",
         "HP:0001324",
         "Occasional (29-5%)"
        ]
       ],
       "shape": {
        "columns": 3,
        "rows": 114961
       }
      },
      "text/html": [
       "<div>\n",
       "<style scoped>\n",
       "    .dataframe tbody tr th:only-of-type {\n",
       "        vertical-align: middle;\n",
       "    }\n",
       "\n",
       "    .dataframe tbody tr th {\n",
       "        vertical-align: top;\n",
       "    }\n",
       "\n",
       "    .dataframe thead th {\n",
       "        text-align: right;\n",
       "    }\n",
       "</style>\n",
       "<table border=\"1\" class=\"dataframe\">\n",
       "  <thead>\n",
       "    <tr style=\"text-align: right;\">\n",
       "      <th></th>\n",
       "      <th>ORPHAcode</th>\n",
       "      <th>fenotipo_id</th>\n",
       "      <th>frecuencia</th>\n",
       "    </tr>\n",
       "  </thead>\n",
       "  <tbody>\n",
       "    <tr>\n",
       "      <th>0</th>\n",
       "      <td>58</td>\n",
       "      <td>HP:0000256</td>\n",
       "      <td>Very frequent (99-80%)</td>\n",
       "    </tr>\n",
       "    <tr>\n",
       "      <th>1</th>\n",
       "      <td>58</td>\n",
       "      <td>HP:0001249</td>\n",
       "      <td>Very frequent (99-80%)</td>\n",
       "    </tr>\n",
       "    <tr>\n",
       "      <th>2</th>\n",
       "      <td>58</td>\n",
       "      <td>HP:0001250</td>\n",
       "      <td>Very frequent (99-80%)</td>\n",
       "    </tr>\n",
       "    <tr>\n",
       "      <th>3</th>\n",
       "      <td>58</td>\n",
       "      <td>HP:0001257</td>\n",
       "      <td>Very frequent (99-80%)</td>\n",
       "    </tr>\n",
       "    <tr>\n",
       "      <th>4</th>\n",
       "      <td>58</td>\n",
       "      <td>HP:0001274</td>\n",
       "      <td>Very frequent (99-80%)</td>\n",
       "    </tr>\n",
       "    <tr>\n",
       "      <th>...</th>\n",
       "      <td>...</td>\n",
       "      <td>...</td>\n",
       "      <td>...</td>\n",
       "    </tr>\n",
       "    <tr>\n",
       "      <th>114956</th>\n",
       "      <td>397596</td>\n",
       "      <td>HP:0011110</td>\n",
       "      <td>Occasional (29-5%)</td>\n",
       "    </tr>\n",
       "    <tr>\n",
       "      <th>114957</th>\n",
       "      <td>397596</td>\n",
       "      <td>HP:0012758</td>\n",
       "      <td>Occasional (29-5%)</td>\n",
       "    </tr>\n",
       "    <tr>\n",
       "      <th>114958</th>\n",
       "      <td>397596</td>\n",
       "      <td>HP:0031692</td>\n",
       "      <td>Occasional (29-5%)</td>\n",
       "    </tr>\n",
       "    <tr>\n",
       "      <th>114959</th>\n",
       "      <td>397596</td>\n",
       "      <td>HP:0031693</td>\n",
       "      <td>Occasional (29-5%)</td>\n",
       "    </tr>\n",
       "    <tr>\n",
       "      <th>114960</th>\n",
       "      <td>397596</td>\n",
       "      <td>HP:0032170</td>\n",
       "      <td>Occasional (29-5%)</td>\n",
       "    </tr>\n",
       "  </tbody>\n",
       "</table>\n",
       "<p>114961 rows × 3 columns</p>\n",
       "</div>"
      ],
      "text/plain": [
       "        ORPHAcode fenotipo_id              frecuencia\n",
       "0              58  HP:0000256  Very frequent (99-80%)\n",
       "1              58  HP:0001249  Very frequent (99-80%)\n",
       "2              58  HP:0001250  Very frequent (99-80%)\n",
       "3              58  HP:0001257  Very frequent (99-80%)\n",
       "4              58  HP:0001274  Very frequent (99-80%)\n",
       "...           ...         ...                     ...\n",
       "114956     397596  HP:0011110      Occasional (29-5%)\n",
       "114957     397596  HP:0012758      Occasional (29-5%)\n",
       "114958     397596  HP:0031692      Occasional (29-5%)\n",
       "114959     397596  HP:0031693      Occasional (29-5%)\n",
       "114960     397596  HP:0032170      Occasional (29-5%)\n",
       "\n",
       "[114961 rows x 3 columns]"
      ]
     },
     "execution_count": 257,
     "metadata": {},
     "output_type": "execute_result"
    }
   ],
   "source": [
    "enfermedad_fenotipo = orphadata['df_rd_phenotypes']\n",
    "enfermedad_fenotipo = enfermedad_fenotipo.drop(columns=['Disorder', 'HPO_Term'])\n",
    "enfermedad_fenotipo = enfermedad_fenotipo.rename(columns={'HPO_ID': 'fenotipo_id', 'Frequency': 'frecuencia'})\n",
    "enfermedad_fenotipo.info()\n",
    "enfermedad_fenotipo"
   ]
  },
  {
   "cell_type": "code",
   "execution_count": 254,
   "id": "b145ef22",
   "metadata": {},
   "outputs": [
    {
     "name": "stdout",
     "output_type": "stream",
     "text": [
      "<class 'pandas.core.frame.DataFrame'>\n",
      "RangeIndex: 114961 entries, 0 to 114960\n",
      "Data columns (total 3 columns):\n",
      " #   Column       Non-Null Count   Dtype \n",
      "---  ------       --------------   ----- \n",
      " 0   ORPHAcode    114961 non-null  int64 \n",
      " 1   fenotipo_id  114961 non-null  object\n",
      " 2   Frequency    114961 non-null  object\n",
      "dtypes: int64(1), object(2)\n",
      "memory usage: 2.6+ MB\n"
     ]
    }
   ],
   "source": [
    "enfermedad_fenotipo.info()"
   ]
  },
  {
   "cell_type": "markdown",
   "id": "4dffbebe",
   "metadata": {},
   "source": [
    "##### Tabla 7: epidemiología"
   ]
  },
  {
   "cell_type": "code",
   "execution_count": 239,
   "id": "5998cb13",
   "metadata": {},
   "outputs": [
    {
     "data": {
      "application/vnd.microsoft.datawrangler.viewer.v0+json": {
       "columns": [
        {
         "name": "index",
         "rawType": "int64",
         "type": "integer"
        },
        {
         "name": "ORPHAcode",
         "rawType": "int64",
         "type": "integer"
        },
        {
         "name": "nombre_enfermedad",
         "rawType": "object",
         "type": "string"
        },
        {
         "name": "tipo_enfermedad",
         "rawType": "object",
         "type": "string"
        },
        {
         "name": "prevalencia_tipo",
         "rawType": "object",
         "type": "string"
        },
        {
         "name": "prevalencia_promedio",
         "rawType": "float64",
         "type": "float"
        },
        {
         "name": "prevalencia_clase",
         "rawType": "object",
         "type": "unknown"
        },
        {
         "name": "calidad_prevalencia",
         "rawType": "object",
         "type": "string"
        },
        {
         "name": "region_prevalencia",
         "rawType": "object",
         "type": "string"
        },
        {
         "name": "estado_validacion_prevalencia",
         "rawType": "object",
         "type": "unknown"
        },
        {
         "name": "fuente",
         "rawType": "object",
         "type": "unknown"
        }
       ],
       "conversionMethod": "pd.DataFrame",
       "ref": "acfb6865-d02b-4a5e-b1ee-4e4006129d24",
       "rows": [
        [
         "0",
         "166024",
         "Multiple epiphyseal dysplasia-macrocephaly-facial dysmorphism syndrome",
         "Disease",
         "Cases/families",
         "4.0",
         null,
         "Case(s)",
         "Worldwide",
         "Validated",
         "11389160[PMID]_9689990[PMID]_ [EXPERT]"
        ],
        [
         "1",
         "166024",
         "Multiple epiphyseal dysplasia-macrocephaly-facial dysmorphism syndrome",
         "Disease",
         "Point prevalence",
         "0.0",
         "<1 / 1 000 000",
         "Class only",
         "Worldwide",
         "Validated",
         "ORPHANET_11389160[PMID]_9689990[PMID]"
        ],
        [
         "2",
         "58",
         "Alexander disease",
         "Disease",
         "Annual incidence",
         "0.037",
         "<1 / 1 000 000",
         "Value and class",
         "Japan",
         "Validated",
         "21533827[PMID]_[EXPERT]"
        ],
        [
         "3",
         "58",
         "Alexander disease",
         "Disease",
         "Point prevalence",
         "0.0",
         "Unknown",
         "Class only",
         "Worldwide",
         "Not yet validated",
         "ORPHANET"
        ],
        [
         "4",
         "166032",
         "Multiple epiphyseal dysplasia-miniepiphyses syndrome",
         "Disease",
         "Cases/families",
         "2.0",
         null,
         "Case(s)",
         "Worldwide",
         "Validated",
         "15523498[PMID]"
        ],
        [
         "5",
         "166032",
         "Multiple epiphyseal dysplasia-miniepiphyses syndrome",
         "Disease",
         "Point prevalence",
         "0.0",
         "<1 / 1 000 000",
         "Class only",
         "Worldwide",
         "Validated",
         "ORPHANET_15523498[PMID]"
        ],
        [
         "6",
         "61",
         "Alpha-mannosidosis",
         "Disease",
         "Point prevalence",
         "0.1",
         "1-9 / 1 000 000",
         "Value and class",
         "Europe",
         "Validated",
         "European Medicines Agency 2005[INST]"
        ],
        [
         "7",
         "61",
         "Alpha-mannosidosis",
         "Disease",
         "Prevalence at birth",
         "0.09",
         "<1 / 1 000 000",
         "Value and class",
         "Australia",
         "Validated",
         "9918480[PMID]"
        ],
        [
         "8",
         "61",
         "Alpha-mannosidosis",
         "Disease",
         "Prevalence at birth",
         "0.13",
         "1-9 / 1 000 000",
         "Value and class",
         "Norway",
         "Not yet validated",
         "7900112[PMID]"
        ],
        [
         "9",
         "61",
         "Alpha-mannosidosis",
         "Disease",
         "Prevalence at birth",
         "0.09",
         "<1 / 1 000 000",
         "Value and class",
         "Netherlands",
         "Validated",
         "10480370[PMID]"
        ],
        [
         "10",
         "61",
         "Alpha-mannosidosis",
         "Disease",
         "Prevalence at birth",
         "0.12",
         "1-9 / 1 000 000",
         "Value and class",
         "Portugal",
         "Validated",
         "14685153[PMID]"
        ],
        [
         "11",
         "61",
         "Alpha-mannosidosis",
         "Disease",
         "Prevalence at birth",
         "0.38",
         "1-9 / 1 000 000",
         "Value and class",
         "Czech Republic",
         "Validated",
         "20490927[PMID]"
        ],
        [
         "12",
         "61",
         "Alpha-mannosidosis",
         "Disease",
         "Prevalence at birth",
         "0.07",
         "<1 / 1 000 000",
         "Value and class",
         "Sweden",
         "Validated",
         "25274184[PMID]"
        ],
        [
         "13",
         "166029",
         "Multiple epiphyseal dysplasia-severe proximal femoral dysplasia syndrome",
         "Disease",
         "Cases/families",
         "3.0",
         null,
         "Case(s)",
         "Worldwide",
         "Validated",
         "15523498[PMID]"
        ],
        [
         "14",
         "166029",
         "Multiple epiphyseal dysplasia-severe proximal femoral dysplasia syndrome",
         "Disease",
         "Point prevalence",
         "0.0",
         "<1 / 1 000 000",
         "Class only",
         "Worldwide",
         "Validated",
         "ORPHANET_15523498[PMID]"
        ],
        [
         "15",
         "166038",
         "Metaphyseal chondrodysplasia, Kaitila type",
         "Disease",
         "Cases/families",
         "2.0",
         null,
         "Case(s)",
         "Worldwide",
         "Validated",
         "6979929[PMID]"
        ],
        [
         "16",
         "166038",
         "Metaphyseal chondrodysplasia, Kaitila type",
         "Disease",
         "Point prevalence",
         "0.0",
         "<1 / 1 000 000",
         "Class only",
         "Worldwide",
         "Validated",
         "ORPHANET_6979929[PMID]"
        ],
        [
         "17",
         "93",
         "Aspartylglucosaminuria",
         "Disease",
         "Prevalence at birth",
         "0.2",
         "1-9 / 1 000 000",
         "Value and class",
         "Australia",
         "Validated",
         "9918480[PMID]"
        ],
        [
         "18",
         "93",
         "Aspartylglucosaminuria",
         "Disease",
         "Point prevalence",
         "0.0",
         "Unknown",
         "Class only",
         "Worldwide",
         "Not yet validated",
         "ORPHANET"
        ],
        [
         "19",
         "93",
         "Aspartylglucosaminuria",
         "Disease",
         "Prevalence at birth",
         "0.62",
         "1-9 / 1 000 000",
         "Value and class",
         "Sweden",
         "Validated",
         "25274184[PMID]"
        ],
        [
         "20",
         "93",
         "Aspartylglucosaminuria",
         "Disease",
         "Prevalence at birth",
         "3.35",
         "1-9 / 100 000",
         "Value and class",
         "Finland",
         "Validated",
         "27906067[PMID]"
        ],
        [
         "21",
         "166035",
         "Brachydactyly-short stature-retinitis pigmentosa syndrome",
         "Malformation syndrome",
         "Cases/families",
         "12.0",
         null,
         "Case(s)",
         "Worldwide",
         "Validated",
         "7252997[PMID]_28285769[PMID]"
        ],
        [
         "22",
         "166035",
         "Brachydactyly-short stature-retinitis pigmentosa syndrome",
         "Malformation syndrome",
         "Point prevalence",
         "0.0",
         "<1 / 1 000 000",
         "Class only",
         "Worldwide",
         "Validated",
         "ORPHANET_7252997[PMID]_28285769[PMID]"
        ],
        [
         "23",
         "585",
         "Multiple sulfatase deficiency",
         "Disease",
         "Cases/families",
         "154.0",
         null,
         "Case(s)",
         "Worldwide",
         "Validated",
         "36980153[PMID]_37732042[PMID]_ORPHANET"
        ],
        [
         "24",
         "585",
         "Multiple sulfatase deficiency",
         "Disease",
         "Point prevalence",
         "0.2",
         "1-9 / 1 000 000",
         "Value and class",
         "Worldwide",
         "Validated",
         "33144036[PMID]"
        ],
        [
         "25",
         "118",
         "Beta-mannosidosis",
         "Disease",
         "Prevalence at birth",
         "0.14",
         "1-9 / 1 000 000",
         "Value and class",
         "Europe",
         "Validated",
         "14685153[PMID]_10480370[PMID]_20490927[PMID]"
        ],
        [
         "26",
         "118",
         "Beta-mannosidosis",
         "Disease",
         "Prevalence at birth",
         "0.16",
         "1-9 / 1 000 000",
         "Value and class",
         "Czech Republic",
         "Validated",
         "20490927[PMID]"
        ],
        [
         "27",
         "118",
         "Beta-mannosidosis",
         "Disease",
         "Prevalence at birth",
         "0.13",
         "1-9 / 1 000 000",
         "Value and class",
         "Netherlands",
         "Validated",
         "10480370[PMID]"
        ],
        [
         "28",
         "118",
         "Beta-mannosidosis",
         "Disease",
         "Prevalence at birth",
         "0.12",
         "1-9 / 1 000 000",
         "Value and class",
         "Portugal",
         "Validated",
         "14685153[PMID]"
        ],
        [
         "29",
         "118",
         "Beta-mannosidosis",
         "Disease",
         "Point prevalence",
         "0.0",
         "Unknown",
         "Class only",
         "Worldwide",
         "Validated",
         "ORPHANET"
        ],
        [
         "30",
         "141",
         "Canavan disease",
         "Disease",
         "Point prevalence",
         "0.0",
         "Unknown",
         "Class only",
         "Worldwide",
         "Not yet validated",
         "ORPHANET"
        ],
        [
         "31",
         "141",
         "Canavan disease",
         "Disease",
         "Annual incidence",
         "7.0",
         "1-9 / 100 000",
         "Value and class",
         "Specific population",
         "Validated",
         "20301412[PMID]_ORPHANET"
        ],
        [
         "32",
         "141",
         "Canavan disease",
         "Disease",
         "Prevalence at birth",
         "1.0",
         "1-9 / 100 000",
         "Value and class",
         "Worldwide",
         "Validated",
         "[EXPERT]"
        ],
        [
         "33",
         "166063",
         "Pontocerebellar hypoplasia type 4",
         "Malformation syndrome",
         "Cases/families",
         "10.0",
         null,
         "Family(ies)",
         "Worldwide",
         "Validated",
         "[EXPERT]"
        ],
        [
         "34",
         "166063",
         "Pontocerebellar hypoplasia type 4",
         "Malformation syndrome",
         "Point prevalence",
         "0.0",
         "<1 / 1 000 000",
         "Class only",
         "Worldwide",
         "Validated",
         "ORPHANET_20952379[PMID]"
        ],
        [
         "35",
         "166078",
         "Von Willebrand disease type 1",
         "Clinical subtype",
         "Point prevalence",
         "0.0",
         "1-5 / 10 000",
         "Class only",
         "Europe",
         "Not yet validated",
         "ORPHANET"
        ],
        [
         "36",
         "166073",
         "Pontocerebellar hypoplasia type 6",
         "Malformation syndrome",
         "Cases/families",
         "10.0",
         null,
         "Case(s)",
         "Worldwide",
         "Validated",
         "25809939[PMID]"
        ],
        [
         "37",
         "166073",
         "Pontocerebellar hypoplasia type 6",
         "Malformation syndrome",
         "Point prevalence",
         "0.0",
         "<1 / 1 000 000",
         "Class only",
         "Worldwide",
         "Validated",
         "ORPHANET_25809939[PMID]"
        ],
        [
         "38",
         "213",
         "Cystinosis",
         "Disease",
         "Prevalence at birth",
         "0.75",
         "1-9 / 1 000 000",
         "Value and class",
         "Worldwide",
         "Validated",
         "12110740[PMID]_18008091[PMID]_11562417[PMID]"
        ],
        [
         "39",
         "213",
         "Cystinosis",
         "Disease",
         "Prevalence at birth",
         "0.5",
         "1-9 / 1 000 000",
         "Value and class",
         "Europe",
         "Validated",
         "[EXPERT]"
        ],
        [
         "40",
         "213",
         "Cystinosis",
         "Disease",
         "Prevalence at birth",
         "0.31",
         "1-9 / 1 000 000",
         "Value and class",
         "France",
         "Validated",
         "1018302[PMID]"
        ],
        [
         "41",
         "213",
         "Cystinosis",
         "Disease",
         "Prevalence at birth",
         "0.59",
         "1-9 / 1 000 000",
         "Value and class",
         "Germany",
         "Validated",
         "3921756[PMID]"
        ],
        [
         "42",
         "213",
         "Cystinosis",
         "Disease",
         "Prevalence at birth",
         "2.1",
         "1-9 / 100 000",
         "Value and class",
         "United Kingdom",
         "Validated",
         "9610798[PMID]"
        ],
        [
         "43",
         "213",
         "Cystinosis",
         "Disease",
         "Prevalence at birth",
         "0.52",
         "1-9 / 1 000 000",
         "Value and class",
         "Australia",
         "Validated",
         "9918480[PMID]"
        ],
        [
         "44",
         "213",
         "Cystinosis",
         "Disease",
         "Point prevalence",
         "1.5",
         "1-9 / 100 000",
         "Value and class",
         "Europe",
         "Validated",
         "European Medicines Agency 2014[INST]"
        ],
        [
         "45",
         "213",
         "Cystinosis",
         "Disease",
         "Prevalence at birth",
         "0.87",
         "1-9 / 1 000 000",
         "Value and class",
         "Denmark",
         "Validated",
         "975942[PMID]_27102039[PMID]"
        ],
        [
         "46",
         "213",
         "Cystinosis",
         "Disease",
         "Prevalence at birth",
         "0.38",
         "1-9 / 1 000 000",
         "Value and class",
         "Sweden",
         "Validated",
         "25274184[PMID]_27102039[PMID]"
        ],
        [
         "47",
         "213",
         "Cystinosis",
         "Disease",
         "Prevalence at birth",
         "1.6",
         "1-9 / 100 000",
         "Value and class",
         "Specific population",
         "Validated",
         "1937486[PMID]_25274184[PMID]"
        ],
        [
         "48",
         "166084",
         "Von Willebrand disease type 2A",
         "Clinical subtype",
         "Point prevalence",
         "0.0",
         "Unknown",
         "Class only",
         "Worldwide",
         "Not yet validated",
         "ORPHANET"
        ],
        [
         "49",
         "333",
         "Farber disease",
         "Disease",
         "Cases/families",
         "96.0",
         null,
         "Case(s)",
         "Worldwide",
         "Validated",
         "29048419[PMID]"
        ]
       ],
       "shape": {
        "columns": 10,
        "rows": 16119
       }
      },
      "text/html": [
       "<div>\n",
       "<style scoped>\n",
       "    .dataframe tbody tr th:only-of-type {\n",
       "        vertical-align: middle;\n",
       "    }\n",
       "\n",
       "    .dataframe tbody tr th {\n",
       "        vertical-align: top;\n",
       "    }\n",
       "\n",
       "    .dataframe thead th {\n",
       "        text-align: right;\n",
       "    }\n",
       "</style>\n",
       "<table border=\"1\" class=\"dataframe\">\n",
       "  <thead>\n",
       "    <tr style=\"text-align: right;\">\n",
       "      <th></th>\n",
       "      <th>ORPHAcode</th>\n",
       "      <th>nombre_enfermedad</th>\n",
       "      <th>tipo_enfermedad</th>\n",
       "      <th>prevalencia_tipo</th>\n",
       "      <th>prevalencia_promedio</th>\n",
       "      <th>prevalencia_clase</th>\n",
       "      <th>calidad_prevalencia</th>\n",
       "      <th>region_prevalencia</th>\n",
       "      <th>estado_validacion_prevalencia</th>\n",
       "      <th>fuente</th>\n",
       "    </tr>\n",
       "  </thead>\n",
       "  <tbody>\n",
       "    <tr>\n",
       "      <th>0</th>\n",
       "      <td>166024</td>\n",
       "      <td>Multiple epiphyseal dysplasia-macrocephaly-fac...</td>\n",
       "      <td>Disease</td>\n",
       "      <td>Cases/families</td>\n",
       "      <td>4.000</td>\n",
       "      <td>NaN</td>\n",
       "      <td>Case(s)</td>\n",
       "      <td>Worldwide</td>\n",
       "      <td>Validated</td>\n",
       "      <td>11389160[PMID]_9689990[PMID]_ [EXPERT]</td>\n",
       "    </tr>\n",
       "    <tr>\n",
       "      <th>1</th>\n",
       "      <td>166024</td>\n",
       "      <td>Multiple epiphyseal dysplasia-macrocephaly-fac...</td>\n",
       "      <td>Disease</td>\n",
       "      <td>Point prevalence</td>\n",
       "      <td>0.000</td>\n",
       "      <td>&lt;1 / 1 000 000</td>\n",
       "      <td>Class only</td>\n",
       "      <td>Worldwide</td>\n",
       "      <td>Validated</td>\n",
       "      <td>ORPHANET_11389160[PMID]_9689990[PMID]</td>\n",
       "    </tr>\n",
       "    <tr>\n",
       "      <th>2</th>\n",
       "      <td>58</td>\n",
       "      <td>Alexander disease</td>\n",
       "      <td>Disease</td>\n",
       "      <td>Annual incidence</td>\n",
       "      <td>0.037</td>\n",
       "      <td>&lt;1 / 1 000 000</td>\n",
       "      <td>Value and class</td>\n",
       "      <td>Japan</td>\n",
       "      <td>Validated</td>\n",
       "      <td>21533827[PMID]_[EXPERT]</td>\n",
       "    </tr>\n",
       "    <tr>\n",
       "      <th>3</th>\n",
       "      <td>58</td>\n",
       "      <td>Alexander disease</td>\n",
       "      <td>Disease</td>\n",
       "      <td>Point prevalence</td>\n",
       "      <td>0.000</td>\n",
       "      <td>Unknown</td>\n",
       "      <td>Class only</td>\n",
       "      <td>Worldwide</td>\n",
       "      <td>Not yet validated</td>\n",
       "      <td>ORPHANET</td>\n",
       "    </tr>\n",
       "    <tr>\n",
       "      <th>4</th>\n",
       "      <td>166032</td>\n",
       "      <td>Multiple epiphyseal dysplasia-miniepiphyses sy...</td>\n",
       "      <td>Disease</td>\n",
       "      <td>Cases/families</td>\n",
       "      <td>2.000</td>\n",
       "      <td>NaN</td>\n",
       "      <td>Case(s)</td>\n",
       "      <td>Worldwide</td>\n",
       "      <td>Validated</td>\n",
       "      <td>15523498[PMID]</td>\n",
       "    </tr>\n",
       "    <tr>\n",
       "      <th>...</th>\n",
       "      <td>...</td>\n",
       "      <td>...</td>\n",
       "      <td>...</td>\n",
       "      <td>...</td>\n",
       "      <td>...</td>\n",
       "      <td>...</td>\n",
       "      <td>...</td>\n",
       "      <td>...</td>\n",
       "      <td>...</td>\n",
       "      <td>...</td>\n",
       "    </tr>\n",
       "    <tr>\n",
       "      <th>16114</th>\n",
       "      <td>619979</td>\n",
       "      <td>Developmental delay-immunodeficiency-leukoence...</td>\n",
       "      <td>Disease</td>\n",
       "      <td>Point prevalence</td>\n",
       "      <td>0.000</td>\n",
       "      <td>&lt;1 / 1 000 000</td>\n",
       "      <td>Class only</td>\n",
       "      <td>Worldwide</td>\n",
       "      <td>Validated</td>\n",
       "      <td>29018201[PMID]_ORPHANET</td>\n",
       "    </tr>\n",
       "    <tr>\n",
       "      <th>16115</th>\n",
       "      <td>619363</td>\n",
       "      <td>NOCARH syndrome</td>\n",
       "      <td>Disease</td>\n",
       "      <td>Cases/families</td>\n",
       "      <td>15.000</td>\n",
       "      <td>NaN</td>\n",
       "      <td>Case(s)</td>\n",
       "      <td>Worldwide</td>\n",
       "      <td>Validated</td>\n",
       "      <td>31271789[PMID]_37741518[PMID]</td>\n",
       "    </tr>\n",
       "    <tr>\n",
       "      <th>16116</th>\n",
       "      <td>619363</td>\n",
       "      <td>NOCARH syndrome</td>\n",
       "      <td>Disease</td>\n",
       "      <td>Point prevalence</td>\n",
       "      <td>0.000</td>\n",
       "      <td>&lt;1 / 1 000 000</td>\n",
       "      <td>Class only</td>\n",
       "      <td>Worldwide</td>\n",
       "      <td>Validated</td>\n",
       "      <td>31271789[PMID]_37741518[PMID]_ORPHANET</td>\n",
       "    </tr>\n",
       "    <tr>\n",
       "      <th>16117</th>\n",
       "      <td>619233</td>\n",
       "      <td>Hereditary persistence of fetal hemoglobin-int...</td>\n",
       "      <td>Disease</td>\n",
       "      <td>Cases/families</td>\n",
       "      <td>9.000</td>\n",
       "      <td>NaN</td>\n",
       "      <td>Case(s)</td>\n",
       "      <td>Worldwide</td>\n",
       "      <td>Validated</td>\n",
       "      <td>27453576[PMID]</td>\n",
       "    </tr>\n",
       "    <tr>\n",
       "      <th>16118</th>\n",
       "      <td>619233</td>\n",
       "      <td>Hereditary persistence of fetal hemoglobin-int...</td>\n",
       "      <td>Disease</td>\n",
       "      <td>Point prevalence</td>\n",
       "      <td>0.000</td>\n",
       "      <td>&lt;1 / 1 000 000</td>\n",
       "      <td>Class only</td>\n",
       "      <td>Worldwide</td>\n",
       "      <td>Validated</td>\n",
       "      <td>27453576[PMID]_ORPHANET</td>\n",
       "    </tr>\n",
       "  </tbody>\n",
       "</table>\n",
       "<p>16119 rows × 10 columns</p>\n",
       "</div>"
      ],
      "text/plain": [
       "       ORPHAcode                                  nombre_enfermedad  \\\n",
       "0         166024  Multiple epiphyseal dysplasia-macrocephaly-fac...   \n",
       "1         166024  Multiple epiphyseal dysplasia-macrocephaly-fac...   \n",
       "2             58                                  Alexander disease   \n",
       "3             58                                  Alexander disease   \n",
       "4         166032  Multiple epiphyseal dysplasia-miniepiphyses sy...   \n",
       "...          ...                                                ...   \n",
       "16114     619979  Developmental delay-immunodeficiency-leukoence...   \n",
       "16115     619363                                    NOCARH syndrome   \n",
       "16116     619363                                    NOCARH syndrome   \n",
       "16117     619233  Hereditary persistence of fetal hemoglobin-int...   \n",
       "16118     619233  Hereditary persistence of fetal hemoglobin-int...   \n",
       "\n",
       "      tipo_enfermedad  prevalencia_tipo  prevalencia_promedio  \\\n",
       "0             Disease    Cases/families                 4.000   \n",
       "1             Disease  Point prevalence                 0.000   \n",
       "2             Disease  Annual incidence                 0.037   \n",
       "3             Disease  Point prevalence                 0.000   \n",
       "4             Disease    Cases/families                 2.000   \n",
       "...               ...               ...                   ...   \n",
       "16114         Disease  Point prevalence                 0.000   \n",
       "16115         Disease    Cases/families                15.000   \n",
       "16116         Disease  Point prevalence                 0.000   \n",
       "16117         Disease    Cases/families                 9.000   \n",
       "16118         Disease  Point prevalence                 0.000   \n",
       "\n",
       "      prevalencia_clase calidad_prevalencia region_prevalencia  \\\n",
       "0                   NaN             Case(s)          Worldwide   \n",
       "1        <1 / 1 000 000          Class only          Worldwide   \n",
       "2        <1 / 1 000 000     Value and class              Japan   \n",
       "3               Unknown          Class only          Worldwide   \n",
       "4                   NaN             Case(s)          Worldwide   \n",
       "...                 ...                 ...                ...   \n",
       "16114    <1 / 1 000 000          Class only          Worldwide   \n",
       "16115               NaN             Case(s)          Worldwide   \n",
       "16116    <1 / 1 000 000          Class only          Worldwide   \n",
       "16117               NaN             Case(s)          Worldwide   \n",
       "16118    <1 / 1 000 000          Class only          Worldwide   \n",
       "\n",
       "      estado_validacion_prevalencia                                  fuente  \n",
       "0                         Validated  11389160[PMID]_9689990[PMID]_ [EXPERT]  \n",
       "1                         Validated   ORPHANET_11389160[PMID]_9689990[PMID]  \n",
       "2                         Validated                 21533827[PMID]_[EXPERT]  \n",
       "3                 Not yet validated                                ORPHANET  \n",
       "4                         Validated                          15523498[PMID]  \n",
       "...                             ...                                     ...  \n",
       "16114                     Validated                 29018201[PMID]_ORPHANET  \n",
       "16115                     Validated           31271789[PMID]_37741518[PMID]  \n",
       "16116                     Validated  31271789[PMID]_37741518[PMID]_ORPHANET  \n",
       "16117                     Validated                          27453576[PMID]  \n",
       "16118                     Validated                 27453576[PMID]_ORPHANET  \n",
       "\n",
       "[16119 rows x 10 columns]"
      ]
     },
     "execution_count": 239,
     "metadata": {},
     "output_type": "execute_result"
    }
   ],
   "source": [
    "epidemiologia = orphadata['df_rd_epidemiology']\n",
    "epidemiologia = epidemiologia.rename(columns={'Typology': 'tipo_enfermedad', 'PrevalenceType': 'prevalencia_tipo', 'Preferred term': 'nombre_enfermedad', 'ValMoy': 'prevalencia_promedio', 'PrevalenceClass': 'prevalencia_clase', 'PrevalenceQualification': 'calidad_prevalencia', 'PrevalenceGeographic': 'region_prevalencia', 'PrevalenceValidationStatus': 'estado_validacion_prevalencia', 'Source': 'fuente'})\n",
    "epidemiologia"
   ]
  },
  {
   "cell_type": "code",
   "execution_count": 240,
   "id": "366fd16b",
   "metadata": {},
   "outputs": [
    {
     "data": {
      "text/plain": [
       "array([nan, '<1 / 1 000 000', 'Unknown', '1-9 / 1 000 000',\n",
       "       '1-9 / 100 000', '1-5 / 10 000', '6-9 / 10 000', '>1 / 1000',\n",
       "       'Not yet documented'], dtype=object)"
      ]
     },
     "execution_count": 240,
     "metadata": {},
     "output_type": "execute_result"
    }
   ],
   "source": [
    "epidemiologia['prevalencia_clase'].unique()"
   ]
  },
  {
   "cell_type": "code",
   "execution_count": 241,
   "id": "62865df3",
   "metadata": {},
   "outputs": [],
   "source": [
    "# Mapeo de clases a valores representativos (aproximaciones usadas por Orphanet y literatura médica)\n",
    "clase_a_num = {\n",
    "    \"<1 / 1 000 000\": 1 / 1000000,\n",
    "    \"1-9 / 1 000 000\": 5 / 1000000,\n",
    "    \"1-9 / 100 000\": 5 / 100000,\n",
    "    \"1-5 / 10 000\": 3 / 10000,\n",
    "    \"6-9 / 10 000\": 7.5 / 10000,\n",
    "    \">1 / 1000\": 2 / 1000,  # Asumiendo un valor conservador\n",
    "    \"Unknown\": np.nan,\n",
    "    \"Not yet documented\": np.nan\n",
    "}\n",
    "\n",
    "# Aplicar el mapeo\n",
    "epidemiologia['prevalencia_clase_num'] = epidemiologia['prevalencia_clase'].map(clase_a_num)"
   ]
  },
  {
   "cell_type": "code",
   "execution_count": 242,
   "id": "4aeb56be",
   "metadata": {},
   "outputs": [
    {
     "name": "stdout",
     "output_type": "stream",
     "text": [
      "<class 'pandas.core.frame.DataFrame'>\n",
      "RangeIndex: 16119 entries, 0 to 16118\n",
      "Data columns (total 12 columns):\n",
      " #   Column                         Non-Null Count  Dtype  \n",
      "---  ------                         --------------  -----  \n",
      " 0   ORPHAcode                      16119 non-null  int64  \n",
      " 1   nombre_enfermedad              16119 non-null  object \n",
      " 2   tipo_enfermedad                16119 non-null  object \n",
      " 3   prevalencia_tipo               16119 non-null  object \n",
      " 4   prevalencia_promedio           16119 non-null  float64\n",
      " 5   prevalencia_clase              12881 non-null  object \n",
      " 6   calidad_prevalencia            16119 non-null  object \n",
      " 7   region_prevalencia             16119 non-null  object \n",
      " 8   estado_validacion_prevalencia  16116 non-null  object \n",
      " 9   fuente                         16117 non-null  object \n",
      " 10  prevalencia_clase_num          10901 non-null  float64\n",
      " 11  prevalencia_final              14138 non-null  float64\n",
      "dtypes: float64(3), int64(1), object(8)\n",
      "memory usage: 1.5+ MB\n"
     ]
    }
   ],
   "source": [
    "# En los casos en que la prevalencia es muy baja, puedo usar la clase\n",
    "epidemiologia['prevalencia_final'] = epidemiologia['prevalencia_promedio'].where(\n",
    "    epidemiologia['prevalencia_promedio'] > 0,\n",
    "    epidemiologia['prevalencia_clase_num']\n",
    ")\n",
    "epidemiologia.info()"
   ]
  },
  {
   "cell_type": "code",
   "execution_count": 243,
   "id": "fd19c183",
   "metadata": {},
   "outputs": [],
   "source": [
    "epidemiologia = epidemiologia.drop(columns=['prevalencia_promedio', 'prevalencia_clase', 'prevalencia_clase_num'])\n",
    "epidemiologia = epidemiologia[['ORPHAcode', 'nombre_enfermedad', 'tipo_enfermedad', 'prevalencia_tipo', 'prevalencia_final', 'region_prevalencia', 'calidad_prevalencia', 'estado_validacion_prevalencia', 'fuente']]"
   ]
  },
  {
   "cell_type": "code",
   "execution_count": 255,
   "id": "5bf8bf0a",
   "metadata": {},
   "outputs": [
    {
     "name": "stdout",
     "output_type": "stream",
     "text": [
      "<class 'pandas.core.frame.DataFrame'>\n",
      "RangeIndex: 16119 entries, 0 to 16118\n",
      "Data columns (total 9 columns):\n",
      " #   Column                         Non-Null Count  Dtype  \n",
      "---  ------                         --------------  -----  \n",
      " 0   ORPHAcode                      16119 non-null  int64  \n",
      " 1   nombre_enfermedad              16119 non-null  object \n",
      " 2   tipo_enfermedad                16119 non-null  object \n",
      " 3   prevalencia_tipo               16119 non-null  object \n",
      " 4   prevalencia_final              14138 non-null  float64\n",
      " 5   region_prevalencia             16119 non-null  object \n",
      " 6   calidad_prevalencia            16119 non-null  object \n",
      " 7   estado_validacion_prevalencia  16116 non-null  object \n",
      " 8   fuente                         16117 non-null  object \n",
      "dtypes: float64(1), int64(1), object(7)\n",
      "memory usage: 1.1+ MB\n"
     ]
    }
   ],
   "source": [
    "epidemiologia.info()"
   ]
  },
  {
   "cell_type": "markdown",
   "id": "76e6293d",
   "metadata": {},
   "source": [
    "##### Tabla 8: historia"
   ]
  },
  {
   "cell_type": "code",
   "execution_count": 248,
   "id": "2eb0a1d7",
   "metadata": {},
   "outputs": [
    {
     "data": {
      "application/vnd.microsoft.datawrangler.viewer.v0+json": {
       "columns": [
        {
         "name": "index",
         "rawType": "int64",
         "type": "integer"
        },
        {
         "name": "ORPHAcode",
         "rawType": "int64",
         "type": "integer"
        },
        {
         "name": "nombre_enfermedad",
         "rawType": "object",
         "type": "string"
        },
        {
         "name": "tipo_enfermedad",
         "rawType": "object",
         "type": "string"
        },
        {
         "name": "edad_media_inicio",
         "rawType": "object",
         "type": "unknown"
        },
        {
         "name": "tipo_herencia",
         "rawType": "object",
         "type": "unknown"
        }
       ],
       "conversionMethod": "pd.DataFrame",
       "ref": "d073d537-144b-4555-97e7-de56cdcf463f",
       "rows": [
        [
         "0",
         "5",
         "Long chain 3-hydroxyacyl-CoA dehydrogenase deficiency",
         "Disease",
         "['Infancy', 'Neonatal']",
         "['Autosomal recessive']"
        ],
        [
         "1",
         "6",
         "3-methylcrotonyl-CoA carboxylase deficiency",
         "Disease",
         "['All ages']",
         "['Autosomal recessive']"
        ],
        [
         "2",
         "7",
         "3C syndrome",
         "Malformation syndrome",
         "['Antenatal', 'Infancy', 'Neonatal']",
         "['Autosomal recessive', 'X-linked recessive']"
        ],
        [
         "3",
         "8",
         "47,XYY syndrome",
         "Malformation syndrome",
         "['All ages']",
         "['Not applicable', 'Unknown']"
        ],
        [
         "4",
         "9",
         "Tetrasomy X syndrome",
         "Malformation syndrome",
         "['Infancy', 'Neonatal']",
         null
        ],
        [
         "5",
         "10",
         "48,XXYY syndrome",
         "Malformation syndrome",
         "['Adolescent', 'Childhood', 'Infancy', 'Neonatal']",
         "['Not applicable', 'Unknown']"
        ],
        [
         "6",
         "11",
         "Pentasomy X syndrome",
         "Malformation syndrome",
         "['Neonatal']",
         null
        ],
        [
         "7",
         "13",
         "6-pyruvoyl-tetrahydropterin synthase deficiency",
         "Clinical subtype",
         "['Infancy', 'Neonatal']",
         "['Autosomal recessive']"
        ],
        [
         "8",
         "14",
         "Abetalipoproteinemia",
         "Disease",
         "['Childhood', 'Infancy']",
         "['Autosomal recessive']"
        ],
        [
         "9",
         "15",
         "Achondroplasia",
         "Disease",
         "['Neonatal']",
         "['Autosomal dominant']"
        ],
        [
         "10",
         "16",
         "Blue cone monochromatism",
         "Disease",
         "['Infancy']",
         "['X-linked recessive']"
        ],
        [
         "11",
         "17",
         "Fatal infantile lactic acidosis with methylmalonic aciduria",
         "Disease",
         "['Infancy', 'Neonatal']",
         "['Autosomal recessive']"
        ],
        [
         "12",
         "18",
         "Distal renal tubular acidosis",
         "Disease",
         "['All ages']",
         "['Autosomal dominant', 'Autosomal recessive', 'Not applicable']"
        ],
        [
         "13",
         "19",
         "2-hydroxyglutaric aciduria",
         "Clinical group",
         "['Childhood']",
         "['Autosomal dominant', 'Autosomal recessive']"
        ],
        [
         "14",
         "20",
         "3-hydroxy-3-methylglutaric aciduria",
         "Disease",
         "['All ages']",
         "['Autosomal recessive']"
        ],
        [
         "15",
         "22",
         "Succinic semialdehyde dehydrogenase deficiency",
         "Disease",
         "['Childhood', 'Infancy', 'Neonatal']",
         "['Autosomal recessive']"
        ],
        [
         "16",
         "23",
         "Argininosuccinic aciduria",
         "Disease",
         "['All ages']",
         "['Autosomal recessive']"
        ],
        [
         "17",
         "24",
         "Fumaric aciduria",
         "Disease",
         "['Infancy', 'Neonatal']",
         "['Autosomal recessive']"
        ],
        [
         "18",
         "25",
         "Glutaryl-CoA dehydrogenase deficiency",
         "Disease",
         "['Infancy', 'Neonatal']",
         "['Autosomal recessive']"
        ],
        [
         "19",
         "26",
         "Methylmalonic acidemia with homocystinuria",
         "Disease",
         "['All ages']",
         "['Autosomal recessive', 'X-linked recessive']"
        ],
        [
         "20",
         "27",
         "Vitamin B12-unresponsive methylmalonic acidemia",
         "Disease",
         "['Childhood', 'Infancy', 'Neonatal']",
         "['Autosomal recessive']"
        ],
        [
         "21",
         "28",
         "Vitamin B12-responsive methylmalonic acidemia",
         "Disease",
         "['Childhood']",
         "['Autosomal recessive']"
        ],
        [
         "22",
         "29",
         "Mevalonic aciduria",
         "Clinical subtype",
         "['Childhood', 'Infancy', 'Neonatal']",
         "['Autosomal recessive']"
        ],
        [
         "23",
         "30",
         "Hereditary orotic aciduria",
         "Disease",
         "['Infancy', 'Neonatal']",
         "['Autosomal recessive']"
        ],
        [
         "24",
         "31",
         "Oxoglutaric aciduria",
         "Disease",
         "['Neonatal']",
         "['Autosomal recessive']"
        ],
        [
         "25",
         "32",
         "Glutathione synthetase deficiency",
         "Disease",
         "['Neonatal']",
         "['Autosomal recessive']"
        ],
        [
         "26",
         "33",
         "Isovaleric acidemia",
         "Disease",
         "['Adolescent', 'Adult', 'Childhood', 'Infancy', 'Neonatal']",
         "['Autosomal recessive']"
        ],
        [
         "27",
         "35",
         "Propionic acidemia",
         "Disease",
         "['Infancy', 'Neonatal']",
         "['Autosomal recessive']"
        ],
        [
         "28",
         "36",
         "Acrocallosal syndrome",
         "Malformation syndrome",
         "['Neonatal']",
         "['Autosomal recessive']"
        ],
        [
         "29",
         "37",
         "Acrodermatitis enteropathica",
         "Disease",
         "['Infancy', 'Neonatal']",
         "['Autosomal recessive']"
        ],
        [
         "30",
         "38",
         "Acrokeratoelastoidosis of Costa",
         "Disease",
         "['Adolescent', 'Adult']",
         "['Autosomal dominant', 'Not applicable']"
        ],
        [
         "31",
         "39",
         "Acromelanosis",
         "Disease",
         "['Infancy', 'Neonatal']",
         "['Unknown']"
        ],
        [
         "32",
         "40",
         "Acromesomelic dysplasia, Maroteaux type",
         "Malformation syndrome",
         "['Infancy', 'Neonatal']",
         "['Autosomal recessive']"
        ],
        [
         "33",
         "41",
         "Dyschromatosis symmetrica hereditaria",
         "Disease",
         "['Childhood']",
         "['Autosomal dominant']"
        ],
        [
         "34",
         "42",
         "Medium chain acyl-CoA dehydrogenase deficiency",
         "Disease",
         "['Infancy', 'Neonatal']",
         "['Autosomal recessive']"
        ],
        [
         "35",
         "43",
         "X-linked adrenoleukodystrophy",
         "Disease",
         "['Adolescent', 'Adult', 'Childhood', 'Elderly']",
         "['X-linked dominant']"
        ],
        [
         "36",
         "44",
         "Neonatal adrenoleukodystrophy",
         "Disease",
         "['Childhood', 'Infancy', 'Neonatal']",
         "['Autosomal recessive']"
        ],
        [
         "37",
         "45",
         "Adenosine monophosphate deaminase deficiency",
         "Disease",
         "['All ages']",
         "['Autosomal recessive']"
        ],
        [
         "38",
         "46",
         "Adenylosuccinate lyase deficiency",
         "Disease",
         "['Childhood', 'Infancy', 'Neonatal']",
         "['Autosomal recessive']"
        ],
        [
         "39",
         "47",
         "X-linked agammaglobulinemia",
         "Clinical subtype",
         "['Childhood']",
         "['Not applicable', 'X-linked recessive']"
        ],
        [
         "40",
         "48",
         "Congenital bilateral absence of vas deferens",
         "Morphological anomaly",
         "['Adolescent', 'Adult']",
         "['Multigenic/multifactorial']"
        ],
        [
         "41",
         "49",
         "Penile agenesis",
         "Morphological anomaly",
         "['Antenatal', 'Neonatal']",
         null
        ],
        [
         "42",
         "50",
         "Aicardi syndrome",
         "Disease",
         "['Neonatal']",
         "['X-linked dominant']"
        ],
        [
         "43",
         "51",
         "Aicardi-Goutières syndrome",
         "Disease",
         "['Infancy', 'Neonatal']",
         "['Autosomal dominant', 'Autosomal recessive']"
        ],
        [
         "44",
         "52",
         "Alagille syndrome",
         "Malformation syndrome",
         "['All ages']",
         "['Autosomal dominant']"
        ],
        [
         "45",
         "53",
         "Albers-Schönberg osteopetrosis",
         "Malformation syndrome",
         "['Childhood']",
         "['Autosomal dominant']"
        ],
        [
         "46",
         "54",
         "X-linked recessive ocular albinism",
         "Disease",
         "['Infancy', 'Neonatal']",
         "['X-linked recessive']"
        ],
        [
         "47",
         "55",
         "Oculocutaneous albinism",
         "Clinical group",
         "['Neonatal']",
         "['Autosomal recessive']"
        ],
        [
         "48",
         "56",
         "Alkaptonuria",
         "Disease",
         "['Adult', 'Infancy']",
         "['Autosomal recessive']"
        ],
        [
         "49",
         "57",
         "Glycogen storage disease due to aldolase A deficiency",
         "Disease",
         "['Neonatal']",
         "['Autosomal recessive']"
        ]
       ],
       "shape": {
        "columns": 5,
        "rows": 6994
       }
      },
      "text/html": [
       "<div>\n",
       "<style scoped>\n",
       "    .dataframe tbody tr th:only-of-type {\n",
       "        vertical-align: middle;\n",
       "    }\n",
       "\n",
       "    .dataframe tbody tr th {\n",
       "        vertical-align: top;\n",
       "    }\n",
       "\n",
       "    .dataframe thead th {\n",
       "        text-align: right;\n",
       "    }\n",
       "</style>\n",
       "<table border=\"1\" class=\"dataframe\">\n",
       "  <thead>\n",
       "    <tr style=\"text-align: right;\">\n",
       "      <th></th>\n",
       "      <th>ORPHAcode</th>\n",
       "      <th>nombre_enfermedad</th>\n",
       "      <th>tipo_enfermedad</th>\n",
       "      <th>edad_media_inicio</th>\n",
       "      <th>tipo_herencia</th>\n",
       "    </tr>\n",
       "  </thead>\n",
       "  <tbody>\n",
       "    <tr>\n",
       "      <th>0</th>\n",
       "      <td>5</td>\n",
       "      <td>Long chain 3-hydroxyacyl-CoA dehydrogenase def...</td>\n",
       "      <td>Disease</td>\n",
       "      <td>['Infancy', 'Neonatal']</td>\n",
       "      <td>['Autosomal recessive']</td>\n",
       "    </tr>\n",
       "    <tr>\n",
       "      <th>1</th>\n",
       "      <td>6</td>\n",
       "      <td>3-methylcrotonyl-CoA carboxylase deficiency</td>\n",
       "      <td>Disease</td>\n",
       "      <td>['All ages']</td>\n",
       "      <td>['Autosomal recessive']</td>\n",
       "    </tr>\n",
       "    <tr>\n",
       "      <th>2</th>\n",
       "      <td>7</td>\n",
       "      <td>3C syndrome</td>\n",
       "      <td>Malformation syndrome</td>\n",
       "      <td>['Antenatal', 'Infancy', 'Neonatal']</td>\n",
       "      <td>['Autosomal recessive', 'X-linked recessive']</td>\n",
       "    </tr>\n",
       "    <tr>\n",
       "      <th>3</th>\n",
       "      <td>8</td>\n",
       "      <td>47,XYY syndrome</td>\n",
       "      <td>Malformation syndrome</td>\n",
       "      <td>['All ages']</td>\n",
       "      <td>['Not applicable', 'Unknown']</td>\n",
       "    </tr>\n",
       "    <tr>\n",
       "      <th>4</th>\n",
       "      <td>9</td>\n",
       "      <td>Tetrasomy X syndrome</td>\n",
       "      <td>Malformation syndrome</td>\n",
       "      <td>['Infancy', 'Neonatal']</td>\n",
       "      <td>NaN</td>\n",
       "    </tr>\n",
       "    <tr>\n",
       "      <th>...</th>\n",
       "      <td>...</td>\n",
       "      <td>...</td>\n",
       "      <td>...</td>\n",
       "      <td>...</td>\n",
       "      <td>...</td>\n",
       "    </tr>\n",
       "    <tr>\n",
       "      <th>6989</th>\n",
       "      <td>689231</td>\n",
       "      <td>IFH1-related hereditary spastic paraplegia</td>\n",
       "      <td>Disease</td>\n",
       "      <td>NaN</td>\n",
       "      <td>['Autosomal dominant']</td>\n",
       "    </tr>\n",
       "    <tr>\n",
       "      <th>6990</th>\n",
       "      <td>689234</td>\n",
       "      <td>RNASEH2B-related hereditary spastic paraplegia</td>\n",
       "      <td>Disease</td>\n",
       "      <td>NaN</td>\n",
       "      <td>['Autosomal recessive']</td>\n",
       "    </tr>\n",
       "    <tr>\n",
       "      <th>6991</th>\n",
       "      <td>689397</td>\n",
       "      <td>Poirier-Bienvenue neurodevelopmental syndrome</td>\n",
       "      <td>Malformation syndrome</td>\n",
       "      <td>NaN</td>\n",
       "      <td>['Autosomal recessive']</td>\n",
       "    </tr>\n",
       "    <tr>\n",
       "      <th>6992</th>\n",
       "      <td>689408</td>\n",
       "      <td>Shashi-Pena syndrome</td>\n",
       "      <td>Malformation syndrome</td>\n",
       "      <td>NaN</td>\n",
       "      <td>['Autosomal dominant']</td>\n",
       "    </tr>\n",
       "    <tr>\n",
       "      <th>6993</th>\n",
       "      <td>689422</td>\n",
       "      <td>Okur-Chung neurodevelopmental syndrome</td>\n",
       "      <td>Malformation syndrome</td>\n",
       "      <td>NaN</td>\n",
       "      <td>['Autosomal dominant']</td>\n",
       "    </tr>\n",
       "  </tbody>\n",
       "</table>\n",
       "<p>6994 rows × 5 columns</p>\n",
       "</div>"
      ],
      "text/plain": [
       "      ORPHAcode                                  nombre_enfermedad  \\\n",
       "0             5  Long chain 3-hydroxyacyl-CoA dehydrogenase def...   \n",
       "1             6        3-methylcrotonyl-CoA carboxylase deficiency   \n",
       "2             7                                        3C syndrome   \n",
       "3             8                                    47,XYY syndrome   \n",
       "4             9                               Tetrasomy X syndrome   \n",
       "...         ...                                                ...   \n",
       "6989     689231         IFH1-related hereditary spastic paraplegia   \n",
       "6990     689234     RNASEH2B-related hereditary spastic paraplegia   \n",
       "6991     689397      Poirier-Bienvenue neurodevelopmental syndrome   \n",
       "6992     689408                               Shashi-Pena syndrome   \n",
       "6993     689422             Okur-Chung neurodevelopmental syndrome   \n",
       "\n",
       "            tipo_enfermedad                     edad_media_inicio  \\\n",
       "0                   Disease               ['Infancy', 'Neonatal']   \n",
       "1                   Disease                          ['All ages']   \n",
       "2     Malformation syndrome  ['Antenatal', 'Infancy', 'Neonatal']   \n",
       "3     Malformation syndrome                          ['All ages']   \n",
       "4     Malformation syndrome               ['Infancy', 'Neonatal']   \n",
       "...                     ...                                   ...   \n",
       "6989                Disease                                   NaN   \n",
       "6990                Disease                                   NaN   \n",
       "6991  Malformation syndrome                                   NaN   \n",
       "6992  Malformation syndrome                                   NaN   \n",
       "6993  Malformation syndrome                                   NaN   \n",
       "\n",
       "                                      tipo_herencia  \n",
       "0                           ['Autosomal recessive']  \n",
       "1                           ['Autosomal recessive']  \n",
       "2     ['Autosomal recessive', 'X-linked recessive']  \n",
       "3                     ['Not applicable', 'Unknown']  \n",
       "4                                               NaN  \n",
       "...                                             ...  \n",
       "6989                         ['Autosomal dominant']  \n",
       "6990                        ['Autosomal recessive']  \n",
       "6991                        ['Autosomal recessive']  \n",
       "6992                         ['Autosomal dominant']  \n",
       "6993                         ['Autosomal dominant']  \n",
       "\n",
       "[6994 rows x 5 columns]"
      ]
     },
     "execution_count": 248,
     "metadata": {},
     "output_type": "execute_result"
    }
   ],
   "source": [
    "historia = orphadata['df_rd_history']\n",
    "historia = historia.drop(columns=['data', 'Date', 'OrphanetURL', 'DisorderGroup'])\n",
    "historia = historia.rename(columns={'AverageAgeOfOnset': 'edad_media_inicio', 'TypeOfInheritance': 'tipo_herencia', 'Typology': 'tipo_enfermedad', 'Preferred term': 'nombre_enfermedad'})\n",
    "historia = historia[['ORPHAcode', 'nombre_enfermedad', 'tipo_enfermedad', 'edad_media_inicio', 'tipo_herencia']]\n",
    "historia"
   ]
  },
  {
   "cell_type": "code",
   "execution_count": 256,
   "id": "e7803cdf",
   "metadata": {},
   "outputs": [
    {
     "name": "stdout",
     "output_type": "stream",
     "text": [
      "<class 'pandas.core.frame.DataFrame'>\n",
      "RangeIndex: 6994 entries, 0 to 6993\n",
      "Data columns (total 5 columns):\n",
      " #   Column             Non-Null Count  Dtype \n",
      "---  ------             --------------  ----- \n",
      " 0   ORPHAcode          6994 non-null   int64 \n",
      " 1   nombre_enfermedad  6994 non-null   object\n",
      " 2   tipo_enfermedad    6994 non-null   object\n",
      " 3   edad_media_inicio  6665 non-null   object\n",
      " 4   tipo_herencia      5639 non-null   object\n",
      "dtypes: int64(1), object(4)\n",
      "memory usage: 273.3+ KB\n"
     ]
    }
   ],
   "source": [
    "historia.info()"
   ]
  },
  {
   "cell_type": "markdown",
   "id": "31207236",
   "metadata": {},
   "source": [
    "# Dataframes listos para análisis exploratorio"
   ]
  },
  {
   "cell_type": "code",
   "execution_count": 262,
   "id": "9aaec240",
   "metadata": {},
   "outputs": [
    {
     "name": "stdout",
     "output_type": "stream",
     "text": [
      "<class 'pandas.core.frame.DataFrame'>\n",
      "Index: 9673 entries, 41 to 864\n",
      "Data columns (total 2 columns):\n",
      " #   Column             Non-Null Count  Dtype \n",
      "---  ------             --------------  ----- \n",
      " 0   ORPHAcode          9673 non-null   int64 \n",
      " 1   nombre_enfermedad  9673 non-null   object\n",
      "dtypes: int64(1), object(1)\n",
      "memory usage: 226.7+ KB\n",
      "None\n",
      "\n",
      "\n",
      "<class 'pandas.core.frame.DataFrame'>\n",
      "Index: 27613 entries, 0 to 29043\n",
      "Data columns (total 4 columns):\n",
      " #   Column             Non-Null Count  Dtype \n",
      "---  ------             --------------  ----- \n",
      " 0   clase_id           27613 non-null  Int64 \n",
      " 1   clase              27613 non-null  object\n",
      " 2   ORPHAcode          27613 non-null  int64 \n",
      " 3   nombre_enfermedad  27613 non-null  object\n",
      "dtypes: Int64(1), int64(1), object(2)\n",
      "memory usage: 1.1+ MB\n",
      "None\n",
      "\n",
      "\n",
      "<class 'pandas.core.frame.DataFrame'>\n",
      "RangeIndex: 16119 entries, 0 to 16118\n",
      "Data columns (total 9 columns):\n",
      " #   Column                         Non-Null Count  Dtype  \n",
      "---  ------                         --------------  -----  \n",
      " 0   ORPHAcode                      16119 non-null  int64  \n",
      " 1   nombre_enfermedad              16119 non-null  object \n",
      " 2   tipo_enfermedad                16119 non-null  object \n",
      " 3   prevalencia_tipo               16119 non-null  object \n",
      " 4   prevalencia_final              14138 non-null  float64\n",
      " 5   region_prevalencia             16119 non-null  object \n",
      " 6   calidad_prevalencia            16119 non-null  object \n",
      " 7   estado_validacion_prevalencia  16116 non-null  object \n",
      " 8   fuente                         16117 non-null  object \n",
      "dtypes: float64(1), int64(1), object(7)\n",
      "memory usage: 1.1+ MB\n",
      "None\n",
      "\n",
      "\n",
      "<class 'pandas.core.frame.DataFrame'>\n",
      "RangeIndex: 6994 entries, 0 to 6993\n",
      "Data columns (total 5 columns):\n",
      " #   Column             Non-Null Count  Dtype \n",
      "---  ------             --------------  ----- \n",
      " 0   ORPHAcode          6994 non-null   int64 \n",
      " 1   nombre_enfermedad  6994 non-null   object\n",
      " 2   tipo_enfermedad    6994 non-null   object\n",
      " 3   edad_media_inicio  6665 non-null   object\n",
      " 4   tipo_herencia      5639 non-null   object\n",
      "dtypes: int64(1), object(4)\n",
      "memory usage: 273.3+ KB\n",
      "None\n",
      "\n",
      "\n",
      "<class 'pandas.core.frame.DataFrame'>\n",
      "Index: 8194 entries, 4637 to 6585\n",
      "Data columns (total 3 columns):\n",
      " #   Column       Non-Null Count  Dtype \n",
      "---  ------       --------------  ----- \n",
      " 0   ORPHAcode    8193 non-null   Int64 \n",
      " 1   simbolo_gen  8194 non-null   object\n",
      " 2   fuente_info  7441 non-null   object\n",
      "dtypes: Int64(1), object(2)\n",
      "memory usage: 264.1+ KB\n",
      "None\n",
      "\n",
      "\n",
      "<class 'pandas.core.frame.DataFrame'>\n",
      "Index: 4477 entries, 2333 to 507\n",
      "Data columns (total 6 columns):\n",
      " #   Column       Non-Null Count  Dtype \n",
      "---  ------       --------------  ----- \n",
      " 0   hgnc_id      4476 non-null   Int64 \n",
      " 1   simbolo_gen  4477 non-null   object\n",
      " 2   nombre_gen   4477 non-null   object\n",
      " 3   tipo_gen     4476 non-null   object\n",
      " 4   sinonimos    3940 non-null   object\n",
      " 5   locus        4474 non-null   object\n",
      "dtypes: Int64(1), object(5)\n",
      "memory usage: 249.2+ KB\n",
      "None\n",
      "\n",
      "\n",
      "<class 'pandas.core.frame.DataFrame'>\n",
      "RangeIndex: 114961 entries, 0 to 114960\n",
      "Data columns (total 3 columns):\n",
      " #   Column       Non-Null Count   Dtype \n",
      "---  ------       --------------   ----- \n",
      " 0   ORPHAcode    114961 non-null  int64 \n",
      " 1   fenotipo_id  114961 non-null  object\n",
      " 2   frecuencia   114961 non-null  object\n",
      "dtypes: int64(1), object(2)\n",
      "memory usage: 2.6+ MB\n",
      "None\n",
      "\n",
      "\n",
      "<class 'pandas.core.frame.DataFrame'>\n",
      "RangeIndex: 114961 entries, 0 to 114960\n",
      "Data columns (total 2 columns):\n",
      " #   Column       Non-Null Count   Dtype \n",
      "---  ------       --------------   ----- \n",
      " 0   fenotipo_id  114961 non-null  object\n",
      " 1   fenotipo     114961 non-null  object\n",
      "dtypes: object(2)\n",
      "memory usage: 1.8+ MB\n",
      "None\n",
      "\n",
      "\n"
     ]
    }
   ],
   "source": [
    "print(enfermedades.info())\n",
    "print(\"\\n\")\n",
    "print(clasificacion.info())\n",
    "print(\"\\n\")\n",
    "print(epidemiologia.info())\n",
    "print(\"\\n\")\n",
    "print(historia.info())\n",
    "print(\"\\n\")\n",
    "print(enfermedad_gen.info())\n",
    "print(\"\\n\")\n",
    "print(genes.info())\n",
    "print(\"\\n\")\n",
    "print(enfermedad_fenotipo.info())\n",
    "print(\"\\n\")\n",
    "print(fenotipos.info())\n",
    "print(\"\\n\")"
   ]
  },
  {
   "cell_type": "markdown",
   "id": "743822f4",
   "metadata": {},
   "source": [
    "# Limpieza"
   ]
  },
  {
   "cell_type": "markdown",
   "id": "7eb62e86",
   "metadata": {},
   "source": [
    "##### Tabla *enfermedades*"
   ]
  },
  {
   "cell_type": "code",
   "execution_count": null,
   "id": "0f81537f",
   "metadata": {},
   "outputs": [
    {
     "name": "stdout",
     "output_type": "stream",
     "text": [
      "(9673, 2)\n",
      "9673\n",
      "ORPHAcode            0\n",
      "nombre_enfermedad    0\n",
      "dtype: int64\n",
      "41       Long chain 3-hydroxyacyl-CoA dehydrogenase def...\n",
      "4661           3-methylcrotonyl-CoA carboxylase deficiency\n",
      "1170                                           3C syndrome\n",
      "3208                                       47,XYY syndrome\n",
      "3200                                  Tetrasomy X syndrome\n",
      "                               ...                        \n",
      "3495                                  Shashi-Pena syndrome\n",
      "3493                Okur-Chung neurodevelopmental syndrome\n",
      "21752                                Adenoid ameloblastoma\n",
      "355      Structural heart defects-renal anomalies syndrome\n",
      "864      Microphthalmia-motor delay-language delay-brai...\n",
      "Name: nombre_enfermedad, Length: 9673, dtype: object\n"
     ]
    }
   ],
   "source": [
    "print(enfermedades.shape)\n",
    "print(len(enfermedades['ORPHAcode'].unique()))      # 9673 es el total de entradas, no hay valores repetidos\n",
    "print(enfermedades.isnull().sum())      # 0 0\n",
    "print(enfermedades['nombre_enfermedad'])    # Voy a mantener los nombres en inglés y dejarlos como están escritos"
   ]
  },
  {
   "cell_type": "markdown",
   "id": "498f4ed3",
   "metadata": {},
   "source": [
    "##### Tabla *clasificacion*"
   ]
  },
  {
   "cell_type": "code",
   "execution_count": null,
   "id": "d505674e",
   "metadata": {},
   "outputs": [
    {
     "name": "stdout",
     "output_type": "stream",
     "text": [
      "(27613, 4)\n",
      "clase_id             0\n",
      "clase                0\n",
      "ORPHAcode            0\n",
      "nombre_enfermedad    0\n",
      "dtype: int64\n",
      "17940\n"
     ]
    }
   ],
   "source": [
    "print(clasificacion.shape)      # (27613, 4)\n",
    "print(clasificacion.isnull().sum())     # 0 0 0 0\n",
    "print(clasificacion['ORPHAcode'].duplicated().sum())    # 17940 son demasiados duplicados --> porque las enfermedades pueden caber en varias clasificaciones"
   ]
  },
  {
   "cell_type": "code",
   "execution_count": 286,
   "id": "9e36d835",
   "metadata": {},
   "outputs": [
    {
     "name": "stdout",
     "output_type": "stream",
     "text": [
      "35\n",
      "35\n"
     ]
    }
   ],
   "source": [
    "print(len(clasificacion['clase_id'].unique()))\n",
    "print(len(clasificacion['clase'].unique()))"
   ]
  },
  {
   "cell_type": "code",
   "execution_count": null,
   "id": "b9a57381",
   "metadata": {},
   "outputs": [],
   "source": [
    "clasificacion.loc[:, \"clase\"] = clasificacion[\"clase\"].str.replace(\n",
    "    \"Orphanet classification of \", \"\", regex=False\n",
    ").str.capitalize()"
   ]
  },
  {
   "cell_type": "markdown",
   "id": "4adcd3b3",
   "metadata": {},
   "source": [
    "##### Tabla *epidemiologia*"
   ]
  },
  {
   "cell_type": "code",
   "execution_count": null,
   "id": "6a95a4d8",
   "metadata": {},
   "outputs": [],
   "source": []
  },
  {
   "cell_type": "markdown",
   "id": "08c15a75",
   "metadata": {},
   "source": [
    "##### Tabla *historia*"
   ]
  },
  {
   "cell_type": "code",
   "execution_count": null,
   "id": "cd722e4f",
   "metadata": {},
   "outputs": [],
   "source": []
  },
  {
   "cell_type": "markdown",
   "id": "cc3d61ba",
   "metadata": {},
   "source": [
    "##### Tabla *enfermedad_gen*"
   ]
  },
  {
   "cell_type": "code",
   "execution_count": null,
   "id": "d9ec162a",
   "metadata": {},
   "outputs": [],
   "source": []
  },
  {
   "cell_type": "markdown",
   "id": "0bfa0b2a",
   "metadata": {},
   "source": [
    "##### Tabla *genes*"
   ]
  },
  {
   "cell_type": "code",
   "execution_count": null,
   "id": "52d68cb1",
   "metadata": {},
   "outputs": [],
   "source": []
  },
  {
   "cell_type": "markdown",
   "id": "71bfe651",
   "metadata": {},
   "source": [
    "##### Tabla *enfermedad_fenotipo*"
   ]
  },
  {
   "cell_type": "code",
   "execution_count": null,
   "id": "38c9ca46",
   "metadata": {},
   "outputs": [],
   "source": []
  },
  {
   "cell_type": "markdown",
   "id": "96c44b69",
   "metadata": {},
   "source": [
    "##### Tabla *fenotipos*"
   ]
  },
  {
   "cell_type": "code",
   "execution_count": null,
   "id": "37d54bf4",
   "metadata": {},
   "outputs": [],
   "source": []
  },
  {
   "cell_type": "markdown",
   "id": "62311233",
   "metadata": {},
   "source": [
    "# Visualizaciones"
   ]
  },
  {
   "cell_type": "code",
   "execution_count": 297,
   "id": "76363afb",
   "metadata": {},
   "outputs": [
    {
     "data": {
      "image/png": "[encoded data removed]",
      "text/plain": [
       "<Figure size 1200x600 with 1 Axes>"
      ]
     },
     "metadata": {},
     "output_type": "display_data"
    }
   ],
   "source": [
    "# Suponiendo que df es tu DataFrame original\n",
    "conteo_clases = clasificacion.groupby(\"clase\")[\"nombre_enfermedad\"].count().sort_values()\n",
    "\n",
    "# Graficar el pastel\n",
    "conteo_clases.plot.barh(\n",
    "    figsize=(12, 6),\n",
    "    legend=False,\n",
    "    title=\"Distribución de enfermedades por clase\"\n",
    ")\n",
    "\n",
    "plt.ylabel(\"\")  # Ocultar la etiqueta del eje y\n",
    "plt.tight_layout()\n",
    "plt.show()\n"
   ]
  },
  {
   "cell_type": "code",
   "execution_count": null,
   "id": "146d79f8",
   "metadata": {},
   "outputs": [
    {
     "name": "stdout",
     "output_type": "stream",
     "text": [
      "   ORPHAcode                                              clase\n",
      "0          5  [Orphanet classification of rare cardiac disea...\n",
      "1          6  [Orphanet classification of rare inborn errors...\n",
      "2          7  [Orphanet classification of rare developmental...\n",
      "3          8  [Orphanet classification of rare developmental...\n",
      "4          9  [Orphanet classification of rare developmental...\n"
     ]
    }
   ],
   "source": [
    "# Suponiendo que 'clasificacion' es tu DataFrame con 4 columnas\n",
    "clasificaciones_agregadas = clasificacion.groupby('ORPHAcode')['clase'].apply(list).reset_index()\n",
    "\n",
    "print(clasificaciones_agregadas.head())"
   ]
  },
  {
   "cell_type": "code",
   "execution_count": 273,
   "id": "b15321c4",
   "metadata": {},
   "outputs": [
    {
     "name": "stdout",
     "output_type": "stream",
     "text": [
      "   ORPHAcode  cantidad_clasificaciones\n",
      "0          5                         7\n",
      "1          6                         2\n",
      "2          7                         3\n",
      "3          8                         2\n",
      "4          9                         5\n"
     ]
    },
    {
     "data": {
      "image/png": "[encoded data removed]",
      "text/plain": [
       "<Figure size 640x480 with 1 Axes>"
      ]
     },
     "metadata": {},
     "output_type": "display_data"
    }
   ],
   "source": [
    "conteo_clasificacion = clasificacion.groupby('ORPHAcode').size().reset_index(name='cantidad_clasificaciones')\n",
    "\n",
    "print(conteo_clasificacion.head())\n",
    "\n",
    "# Opcional: Graficar la distribución del número de clasificaciones\n",
    "import matplotlib.pyplot as plt\n",
    "\n",
    "plt.hist(conteo_clasificacion['cantidad_clasificaciones'], bins=range(1, conteo_clasificacion['cantidad_clasificaciones'].max() + 1), edgecolor='black')\n",
    "plt.xlabel('Número de clasificaciones por enfermedad')\n",
    "plt.ylabel('Frecuencia')\n",
    "plt.title('Distribución de la cantidad de clasificaciones')\n",
    "plt.show()\n"
   ]
  }
 ],
 "metadata": {
  "kernelspec": {
   "display_name": "Python 3",
   "language": "python",
   "name": "python3"
  },
  "language_info": {
   "codemirror_mode": {
    "name": "ipython",
    "version": 3
   },
   "file_extension": ".py",
   "mimetype": "text/x-python",
   "name": "python",
   "nbconvert_exporter": "python",
   "pygments_lexer": "ipython3",
   "version": "3.13.2"
  }
 },
 "nbformat": 4,
 "nbformat_minor": 5
}
