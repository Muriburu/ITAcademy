{
 "cells": [
  {
   "cell_type": "markdown",
   "metadata": {},
   "source": [
    "# **Tarea S701 - Estructuras de datos y de control**"
   ]
  },
  {
   "cell_type": "markdown",
   "metadata": {},
   "source": [
    "### **Nivel 1**"
   ]
  },
  {
   "cell_type": "markdown",
   "metadata": {},
   "source": [
    "#### **Ejercicio 1**\n",
    "\n",
    "Calculadora de l'índex de massa corporal\n",
    "\n",
    "Escriu una funció que calculi l'IMC ingressat per l'usuari/ària, és a dir, qui ho executi haurà d'ingressar aquestes dades. Pots obtenir més informació del seu càlcul en:\n",
    "\n",
    "-> Índice de masa corporal IMC que es y como se calcula | https://muysalud.com/salud/indice-de-masa-corporal-imc-que-es-y-como-se-calcula/\n",
    "\n",
    "La funció ha de classificar el resultat en les seves respectives categories"
   ]
  },
  {
   "cell_type": "code",
   "execution_count": 108,
   "metadata": {},
   "outputs": [
    {
     "name": "stdout",
     "output_type": "stream",
     "text": [
      "Su IMC es de 22.9 y corresponde con un peso normal (18.5 - 24.9)\n"
     ]
    }
   ],
   "source": [
    "\"\"\" \n",
    "Obtención de variables peso y altura\n",
    "    input: peso en kg\n",
    "    input: altura en m\n",
    "\n",
    "Cálculo \n",
    "    IMC = peso / altura^2\n",
    "\n",
    "If y elif con rangos:\n",
    "    Bajo peso: < 18.5\n",
    "    Peso normal: 18.5 - 24.9\n",
    "    Sobrepeso: 25 - 29.9\n",
    "    Obesidad: > 30\n",
    "\"\"\"\n",
    "\n",
    "# Simple, sin inputs:\n",
    "\n",
    "def calculo_imc(peso, altura):\n",
    "    imc = round(peso/(altura**2), 1)\n",
    "    if imc < 18.5:\n",
    "        print(f\"Su IMC es de {imc} y corresponde con un bajo peso (< 18.5)\")\n",
    "    elif imc < 25:\n",
    "        print(f\"Su IMC es de {imc} y corresponde con un peso normal (18.5 - 24.9)\")\n",
    "    elif imc < 30:\n",
    "        print(f\"Su IMC es de {imc} y corresponde con un sobrepeso (18.5 - 24.9)\")\n",
    "    else:\n",
    "        print(f\"Su IMC es de {imc} y corresponde con obesidad (> 30)\")\n",
    "\n",
    "calculo_imc(70, 1.75)"
   ]
  },
  {
   "cell_type": "code",
   "execution_count": null,
   "metadata": {},
   "outputs": [
    {
     "name": "stdout",
     "output_type": "stream",
     "text": [
      "Su IMC es de 22.9 y corresponde con un peso normal (18.5 - 24.9)\n"
     ]
    }
   ],
   "source": [
    "# Con inputs y mejoras con definición de las categorías\n",
    "\n",
    "def calculo_imc2():\n",
    "    try:\n",
    "        peso = float(input(\"Por favor, ingrese su peso en kilogramos: \"))\n",
    "        altura = float(input(\"Ahora, ingrese su altura en metros: \"))\n",
    "        \n",
    "        if peso <= 0 or altura <= 0:\n",
    "            print(\"Por favor, ingrese valores mayores a 0.\")\n",
    "            return\n",
    "        \n",
    "        imc = round(peso / (altura ** 2), 1)\n",
    "\n",
    "        if imc < 18.5:\n",
    "            categoria = \"bajo peso (< 18.5)\"\n",
    "        elif imc < 25:\n",
    "            categoria = \"un peso normal (18.5 - 24.9)\"\n",
    "        elif imc < 30:\n",
    "            categoria = \"sobrepeso (25 - 29.9)\"\n",
    "        else:\n",
    "            categoria = \"obesidad (> 30)\"\n",
    "\n",
    "        print(f\"Su IMC es de {imc} y corresponde con {categoria}\")\n",
    "\n",
    "    except ValueError:\n",
    "        print(\"Error: Ingrese valores numéricos válidos.\")\n",
    "\n",
    "calculo_imc2()\n"
   ]
  },
  {
   "cell_type": "markdown",
   "metadata": {},
   "source": [
    "#### **Ejercicio 2**\n",
    "\n",
    "Convertidor de temperatures.\n",
    "\n",
    "Existeixen diverses unitats de temperatura utilitzades en diferents contextos i regions. Les més comunes són Celsius (°C), Fahrenheit (°F) i Kelvin (K). També existeixen altres unitats com Rankine (°Ra) i Réaumur (°Re). Selecciona almenys 2 conversors, de tal manera que en introduir una temperatura retorni, com a mínim, dues conversions."
   ]
  },
  {
   "cell_type": "code",
   "execution_count": 115,
   "metadata": {},
   "outputs": [
    {
     "name": "stdout",
     "output_type": "stream",
     "text": [
      "25.5 ºC = 77.9 ºF = 298.65 K\n",
      "10 ºC = 50.0 ºF = 283.15 K\n",
      "30 ºC = 86.0 ºF = 303.15 K\n"
     ]
    }
   ],
   "source": [
    "\"\"\" \n",
    "Definir un conversor que convierta a dos unidades diferentes\n",
    "por ej. de celsius a fahrenheit y kelvin\n",
    "\"\"\"\n",
    "\n",
    "def from_celsius_to_fahr_and_kel(celsius:float):\n",
    "    fahrenheit = celsius * 9 / 5 + 32\n",
    "    kelvin = celsius + 273.15\n",
    "    print(f\"{celsius} ºC = {fahrenheit} ºF = {kelvin} K\")\n",
    "\n",
    "from_celsius_to_fahr_and_kel(25.5)\n",
    "from_celsius_to_fahr_and_kel(10)\n",
    "from_celsius_to_fahr_and_kel(30)\n"
   ]
  },
  {
   "cell_type": "markdown",
   "metadata": {},
   "source": [
    "#### **Ejercicio 3**\n",
    "\n",
    "Comptador de paraules d'un text.\n",
    "\n",
    "Escriu una funció que donat un text, mostri les vegades que apareix cada paraula."
   ]
  },
  {
   "cell_type": "code",
   "execution_count": null,
   "metadata": {},
   "outputs": [
    {
     "name": "stdout",
     "output_type": "stream",
     "text": [
      "Tú me quieres alba,\n",
      "me quieres de espumas,\n",
      "me quieres de nácar.\n",
      "Que sea azucena\n",
      "Sobre todas, casta.\n",
      "De perfume tenue.\n",
      "Corola cerrada .\n",
      "\n",
      "Ni un rayo de luna\n",
      "filtrado me haya.\n",
      "Ni una margarita\n",
      "se diga mi hermana.\n",
      "Tú me quieres nívea,\n",
      "tú me quieres blanca,\n",
      "tú me quieres alba.\n",
      "\n",
      "Tú que hubiste todas\n",
      "las copas a mano,\n",
      "de frutos y mieles\n",
      "los labios morados.\n",
      "Tú que en el banquete\n",
      "cubierto de pámpanos\n",
      "dejaste las carnes\n",
      "festejando a Baco.\n",
      "Tú que en los jardines\n",
      "negros del Engaño\n",
      "vestido de rojo\n",
      "corriste al Estrago.\n",
      "\n",
      "Tú que el esqueleto\n",
      "conservas intacto\n",
      "no sé todavía\n",
      "por cuáles milagros,\n",
      "me pretendes blanca\n",
      "(Dios te lo perdone),\n",
      "me pretendes casta\n",
      "(Dios te lo perdone),\n",
      "¡me pretendes alba!\n",
      "\n",
      "Huye hacia los bosques,\n",
      "vete a la montaña;\n",
      "límpiate la boca;\n",
      "vive en las cabañas;\n",
      "toca con las manos\n",
      "la tierra mojada;\n",
      "alimenta el cuerpo\n",
      "con raíz amarga;\n",
      "bebe de las rocas;\n",
      "duerme sobre escarcha;\n",
      "renueva tejidos\n",
      "con salitre y agua:\n",
      "\n",
      "Habla con los pájaros\n",
      "y lévate al alba.\n",
      "Y cuando las carnes\n",
      "te sean tornadas,\n",
      "y cuando hayas puesto\n",
      "en ellas el alma\n",
      "que por las alcobas\n",
      "se quedó enredada,\n",
      "entonces, buen hombre,\n",
      "preténdeme blanca,\n",
      "preténdeme nívea,\n",
      "preténdeme casta.\n"
     ]
    }
   ],
   "source": [
    "# Abro y leo el archivo de texto\n",
    "filepath = \"C:/Users/maria/ITAcademy/Sprint 7 - Python Nocions i coneixements bàsics/data/tu_me_quieres_blanca.txt\"\n",
    "file = open(filepath, \"r\", encoding=\"utf-8\")                            # necesito todos los caracteres, utf-8\n",
    "print(file.read())"
   ]
  },
  {
   "cell_type": "code",
   "execution_count": null,
   "metadata": {},
   "outputs": [
    {
     "data": {
      "text/plain": [
       "{'tú': 8,\n",
       " 'me': 10,\n",
       " 'quieres': 6,\n",
       " 'alba': 4,\n",
       " 'de': 8,\n",
       " 'espumas': 1,\n",
       " 'nácar': 1,\n",
       " 'que': 6,\n",
       " 'sea': 1,\n",
       " 'azucena': 1,\n",
       " 'sobre': 2,\n",
       " 'todas': 2,\n",
       " 'casta': 3,\n",
       " 'perfume': 1,\n",
       " 'tenue': 1,\n",
       " 'corola': 1,\n",
       " 'cerrada': 1,\n",
       " 'ni': 2,\n",
       " 'un': 1,\n",
       " 'rayo': 1,\n",
       " 'luna': 1,\n",
       " 'filtrado': 1,\n",
       " 'haya': 1,\n",
       " 'una': 1,\n",
       " 'margarita': 1,\n",
       " 'se': 2,\n",
       " 'diga': 1,\n",
       " 'mi': 1,\n",
       " 'hermana': 1,\n",
       " 'nívea': 2,\n",
       " 'blanca': 3,\n",
       " 'hubiste': 1,\n",
       " 'las': 7,\n",
       " 'copas': 1,\n",
       " 'a': 3,\n",
       " 'mano': 1,\n",
       " 'frutos': 1,\n",
       " 'y': 5,\n",
       " 'mieles': 1,\n",
       " 'los': 4,\n",
       " 'labios': 1,\n",
       " 'morados': 1,\n",
       " 'en': 4,\n",
       " 'el': 4,\n",
       " 'banquete': 1,\n",
       " 'cubierto': 1,\n",
       " 'pámpanos': 1,\n",
       " 'dejaste': 1,\n",
       " 'carnes': 2,\n",
       " 'festejando': 1,\n",
       " 'baco': 1,\n",
       " 'jardines': 1,\n",
       " 'negros': 1,\n",
       " 'del': 1,\n",
       " 'engaño': 1,\n",
       " 'vestido': 1,\n",
       " 'rojo': 1,\n",
       " 'corriste': 1,\n",
       " 'al': 2,\n",
       " 'estrago': 1,\n",
       " 'esqueleto': 1,\n",
       " 'conservas': 1,\n",
       " 'intacto': 1,\n",
       " 'no': 1,\n",
       " 'sé': 1,\n",
       " 'todavía': 1,\n",
       " 'por': 2,\n",
       " 'cuáles': 1,\n",
       " 'milagros': 1,\n",
       " 'pretendes': 3,\n",
       " 'dios': 2,\n",
       " 'te': 3,\n",
       " 'lo': 2,\n",
       " 'perdone': 2,\n",
       " 'huye': 1,\n",
       " 'hacia': 1,\n",
       " 'bosques': 1,\n",
       " 'vete': 1,\n",
       " 'la': 3,\n",
       " 'montaña': 1,\n",
       " 'límpiate': 1,\n",
       " 'boca': 1,\n",
       " 'vive': 1,\n",
       " 'cabañas': 1,\n",
       " 'toca': 1,\n",
       " 'con': 4,\n",
       " 'manos': 1,\n",
       " 'tierra': 1,\n",
       " 'mojada': 1,\n",
       " 'alimenta': 1,\n",
       " 'cuerpo': 1,\n",
       " 'raíz': 1,\n",
       " 'amarga': 1,\n",
       " 'bebe': 1,\n",
       " 'rocas': 1,\n",
       " 'duerme': 1,\n",
       " 'escarcha': 1,\n",
       " 'renueva': 1,\n",
       " 'tejidos': 1,\n",
       " 'salitre': 1,\n",
       " 'agua': 1,\n",
       " 'habla': 1,\n",
       " 'pájaros': 1,\n",
       " 'lévate': 1,\n",
       " 'cuando': 2,\n",
       " 'sean': 1,\n",
       " 'tornadas': 1,\n",
       " 'hayas': 1,\n",
       " 'puesto': 1,\n",
       " 'ellas': 1,\n",
       " 'alma': 1,\n",
       " 'alcobas': 1,\n",
       " 'quedó': 1,\n",
       " 'enredada': 1,\n",
       " 'entonces': 1,\n",
       " 'buen': 1,\n",
       " 'hombre': 1,\n",
       " 'preténdeme': 3}"
      ]
     },
     "execution_count": 112,
     "metadata": {},
     "output_type": "execute_result"
    }
   ],
   "source": [
    "import re\n",
    "\n",
    "filepath = \"C:/Users/maria/ITAcademy/Sprint 7 - Python Nocions i coneixements bàsics/data/tu_me_quieres_blanca.txt\"\n",
    "\n",
    "def contar_palabras(filepath):\n",
    "        fp = open(filepath, \"r\", encoding=\"utf-8\") \n",
    "        dict_contador = {}                                      # inicializo contador vacío\n",
    "        texto_entero = fp.read().lower()                        # leo el texto y lo convierto todo a minúsulas para procesarlo\n",
    "        texto_limpio = re.sub(r'[^\\w\\s]', \"\", texto_entero)     # elimino los caracteres especiales con una expresión regular\n",
    "        texto_palabras = texto_limpio.split()                   # separo el texto en una lista de palabras\n",
    "        for palabra in texto_palabras:\n",
    "                if palabra in dict_contador:\n",
    "                        dict_contador[palabra] += 1\n",
    "                else:\n",
    "                        dict_contador[palabra] = 1\n",
    "        return dict_contador\n",
    "dict_contador = contar_palabras(filepath)\n",
    "dict_contador"
   ]
  },
  {
   "attachments": {
    "image.png": {
     "image/png": "[encoded data removed]"
    }
   },
   "cell_type": "markdown",
   "metadata": {},
   "source": [
    "#### **Ejercicio 4**\n",
    "\n",
    "Diccionari invers.\n",
    "\n",
    "Resulta que el client té una enquesta molt antiga que s'emmagatzema en un diccionari i els resultats els necessita al revés, és a dir, intercanviats les claus i els valors. Els valors i claus en el diccionari original són únics; si aquest no és el cas, la funció hauria d'imprimir un missatge d'advertiment.\n",
    "\n",
    "![image.png](attachment:image.png)"
   ]
  },
  {
   "cell_type": "code",
   "execution_count": null,
   "metadata": {},
   "outputs": [
    {
     "name": "stdout",
     "output_type": "stream",
     "text": [
      "{'tú': 8, 'me': 9, 'quieres': 6, 'alba,': 1, 'de': 8, 'espumas,': 1, 'nácar.': 1, 'que': 6, 'sea': 1, 'azucena': 1, 'sobre': 2, 'todas,': 1, 'casta.': 2, 'perfume': 1, 'tenue.': 1, 'corola': 1, 'cerrada': 1, '.': 1, 'ni': 2, 'un': 1, 'rayo': 1, 'luna': 1, 'filtrado': 1, 'haya.': 1, 'una': 1, 'margarita': 1, 'se': 2, 'diga': 1, 'mi': 1, 'hermana.': 1, 'nívea,': 2, 'blanca,': 2, 'alba.': 2, 'hubiste': 1, 'todas': 1, 'las': 7, 'copas': 1, 'a': 3, 'mano,': 1, 'frutos': 1, 'y': 5, 'mieles': 1, 'los': 4, 'labios': 1, 'morados.': 1, 'en': 4, 'el': 4, 'banquete': 1, 'cubierto': 1, 'pámpanos': 1, 'dejaste': 1, 'carnes': 2, 'festejando': 1, 'baco.': 1, 'jardines': 1, 'negros': 1, 'del': 1, 'engaño': 1, 'vestido': 1, 'rojo': 1, 'corriste': 1, 'al': 2, 'estrago.': 1, 'esqueleto': 1, 'conservas': 1, 'intacto': 1, 'no': 1, 'sé': 1, 'todavía': 1, 'por': 2, 'cuáles': 1, 'milagros,': 1, 'pretendes': 3, 'blanca': 1, '(dios': 2, 'te': 3, 'lo': 2, 'perdone),': 2, 'casta': 1, '¡me': 1, 'alba!': 1, 'huye': 1, 'hacia': 1, 'bosques,': 1, 'vete': 1, 'la': 3, 'montaña;': 1, 'límpiate': 1, 'boca;': 1, 'vive': 1, 'cabañas;': 1, 'toca': 1, 'con': 4, 'manos': 1, 'tierra': 1, 'mojada;': 1, 'alimenta': 1, 'cuerpo': 1, 'raíz': 1, 'amarga;': 1, 'bebe': 1, 'rocas;': 1, 'duerme': 1, 'escarcha;': 1, 'renueva': 1, 'tejidos': 1, 'salitre': 1, 'agua:': 1, 'habla': 1, 'pájaros': 1, 'lévate': 1, 'cuando': 2, 'sean': 1, 'tornadas,': 1, 'hayas': 1, 'puesto': 1, 'ellas': 1, 'alma': 1, 'alcobas': 1, 'quedó': 1, 'enredada,': 1, 'entonces,': 1, 'buen': 1, 'hombre,': 1, 'preténdeme': 3}\n",
      "{'a': 1, 'b': 2, 'c': 3}\n",
      "Reverted dicto2:  {1: 'a', 2: 'b', 3: 'c'}\n"
     ]
    },
    {
     "ename": "ValueError",
     "evalue": "Error: multiple keys for one value",
     "output_type": "error",
     "traceback": [
      "\u001b[1;31m---------------------------------------------------------------------------\u001b[0m",
      "\u001b[1;31mValueError\u001b[0m                                Traceback (most recent call last)",
      "Cell \u001b[1;32mIn[33], line 18\u001b[0m\n\u001b[0;32m     15\u001b[0m     \u001b[38;5;28;01mreturn\u001b[39;00m {v: k \u001b[38;5;28;01mfor\u001b[39;00m k, v \u001b[38;5;129;01min\u001b[39;00m dictionary\u001b[38;5;241m.\u001b[39mitems()}\n\u001b[0;32m     17\u001b[0m \u001b[38;5;28mprint\u001b[39m(\u001b[38;5;124m\"\u001b[39m\u001b[38;5;124mReverted dicto2: \u001b[39m\u001b[38;5;124m\"\u001b[39m, get_reverse_dict(dicto2))            \u001b[38;5;66;03m#sin error\u001b[39;00m\n\u001b[1;32m---> 18\u001b[0m \u001b[38;5;28mprint\u001b[39m(\u001b[43mget_reverse_dict\u001b[49m\u001b[43m(\u001b[49m\u001b[43mdict_contador\u001b[49m\u001b[43m)\u001b[49m)     \u001b[38;5;66;03m#con error\u001b[39;00m\n",
      "Cell \u001b[1;32mIn[33], line 11\u001b[0m, in \u001b[0;36mget_reverse_dict\u001b[1;34m(dictionary)\u001b[0m\n\u001b[0;32m      9\u001b[0m \u001b[38;5;28;01mfor\u001b[39;00m value \u001b[38;5;129;01min\u001b[39;00m dictionary\u001b[38;5;241m.\u001b[39mvalues():\n\u001b[0;32m     10\u001b[0m     \u001b[38;5;28;01mif\u001b[39;00m value \u001b[38;5;129;01min\u001b[39;00m seen_values:\n\u001b[1;32m---> 11\u001b[0m         \u001b[38;5;28;01mraise\u001b[39;00m \u001b[38;5;167;01mValueError\u001b[39;00m(\u001b[38;5;124m\"\u001b[39m\u001b[38;5;124mError: multiple keys for one value\u001b[39m\u001b[38;5;124m\"\u001b[39m)\n\u001b[0;32m     12\u001b[0m     seen_values\u001b[38;5;241m.\u001b[39mappend(value)\n\u001b[0;32m     14\u001b[0m \u001b[38;5;66;03m# Invertir el diccionario\u001b[39;00m\n",
      "\u001b[1;31mValueError\u001b[0m: Error: multiple keys for one value"
     ]
    }
   ],
   "source": [
    "\"\"\"Tengo que guardar el diccionario generado en una variable para poder trabajar con él.\n",
    "Para imprimir el diccionario inverso usaré la siguiente función {v: k for k, v in dictionary.items()}, que es intercambiar k por v en los ítems del diccionario.\n",
    "\"\"\"\n",
    "\n",
    "# Defino dos diccionarios diferentes para comprobar la función\n",
    "print(dict_contador)\n",
    "dicto2 = {'a':1, 'b':2, 'c':3}\n",
    "print(dicto2)\n",
    "\n",
    "def get_reverse_dict(dictionary:dict):\n",
    "    # Verificar si los valores son únicos\n",
    "    seen_values = list()     # Conjunto vacío para almacenar los valores revisados\n",
    "    for value in dictionary.values():\n",
    "        if value in seen_values:\n",
    "            raise ValueError(\"Error: multiple keys for one value\")\n",
    "        seen_values.append(value)\n",
    "    \n",
    "    # Invertir el diccionario\n",
    "    return {v: k for k, v in dictionary.items()}\n",
    "\n",
    "print(\"Reverted dicto2: \", get_reverse_dict(dicto2))            #sin error\n",
    "print(get_reverse_dict(dict_contador))                          #con error"
   ]
  },
  {
   "cell_type": "code",
   "execution_count": 114,
   "metadata": {},
   "outputs": [
    {
     "name": "stdout",
     "output_type": "stream",
     "text": [
      "{1: 'a', 2: 'b', 3: 'c'}\n"
     ]
    },
    {
     "ename": "ValueError",
     "evalue": "Error: multiple keys for one value",
     "output_type": "error",
     "traceback": [
      "\u001b[1;31m---------------------------------------------------------------------------\u001b[0m",
      "\u001b[1;31mValueError\u001b[0m                                Traceback (most recent call last)",
      "Cell \u001b[1;32mIn[114], line 5\u001b[0m\n\u001b[0;32m      3\u001b[0m dictionary_2 \u001b[38;5;241m=\u001b[39m {\u001b[38;5;124m'\u001b[39m\u001b[38;5;124mx\u001b[39m\u001b[38;5;124m'\u001b[39m: \u001b[38;5;124m'\u001b[39m\u001b[38;5;124mapple\u001b[39m\u001b[38;5;124m'\u001b[39m, \u001b[38;5;124m'\u001b[39m\u001b[38;5;124my\u001b[39m\u001b[38;5;124m'\u001b[39m: \u001b[38;5;124m'\u001b[39m\u001b[38;5;124mbanana\u001b[39m\u001b[38;5;124m'\u001b[39m, \u001b[38;5;124m'\u001b[39m\u001b[38;5;124mz\u001b[39m\u001b[38;5;124m'\u001b[39m:\u001b[38;5;124m'\u001b[39m\u001b[38;5;124mbanana\u001b[39m\u001b[38;5;124m'\u001b[39m}\n\u001b[0;32m      4\u001b[0m \u001b[38;5;28mprint\u001b[39m(get_reverse_dict(dictionary_1))\n\u001b[1;32m----> 5\u001b[0m \u001b[38;5;28mprint\u001b[39m(\u001b[43mget_reverse_dict\u001b[49m\u001b[43m(\u001b[49m\u001b[43mdictionary_2\u001b[49m\u001b[43m)\u001b[49m)\n",
      "Cell \u001b[1;32mIn[33], line 11\u001b[0m, in \u001b[0;36mget_reverse_dict\u001b[1;34m(dictionary)\u001b[0m\n\u001b[0;32m      9\u001b[0m \u001b[38;5;28;01mfor\u001b[39;00m value \u001b[38;5;129;01min\u001b[39;00m dictionary\u001b[38;5;241m.\u001b[39mvalues():\n\u001b[0;32m     10\u001b[0m     \u001b[38;5;28;01mif\u001b[39;00m value \u001b[38;5;129;01min\u001b[39;00m seen_values:\n\u001b[1;32m---> 11\u001b[0m         \u001b[38;5;28;01mraise\u001b[39;00m \u001b[38;5;167;01mValueError\u001b[39;00m(\u001b[38;5;124m\"\u001b[39m\u001b[38;5;124mError: multiple keys for one value\u001b[39m\u001b[38;5;124m\"\u001b[39m)\n\u001b[0;32m     12\u001b[0m     seen_values\u001b[38;5;241m.\u001b[39mappend(value)\n\u001b[0;32m     14\u001b[0m \u001b[38;5;66;03m# Invertir el diccionario\u001b[39;00m\n",
      "\u001b[1;31mValueError\u001b[0m: Error: multiple keys for one value"
     ]
    }
   ],
   "source": [
    "# Con los ejemplos propuestos:\n",
    "dictionary_1 = {'a':1, 'b':2,'c':3}\n",
    "dictionary_2 = {'x': 'apple', 'y': 'banana', 'z':'banana'}\n",
    "print(get_reverse_dict(dictionary_1))\n",
    "print(get_reverse_dict(dictionary_2))"
   ]
  },
  {
   "cell_type": "markdown",
   "metadata": {},
   "source": [
    "### **Nivel 2**"
   ]
  },
  {
   "attachments": {
    "image.png": {
     "image/png": "[encoded data removed]"
    }
   },
   "cell_type": "markdown",
   "metadata": {},
   "source": [
    "#### **Ejercicio 1**\n",
    "\n",
    "Diccionari invers amb duplicats\n",
    "\n",
    "Continuant amb l'exercici 4 del nivell 1: al client es va oblidar de comentar un detall i resulta que els valors en el diccionari original poden duplicar-se i més, per la qual cosa les claus intercanviades poden tenir duplicats. En aquest cas, en l'exercici anterior imprimies un missatge d'advertiment, ara, els valors del diccionari resultant hauran d'emmagatzemar-se com una llista. Tingues en compte que si és un valor únic no ha de ser una llista.\n",
    "\n",
    "![image.png](attachment:image.png)"
   ]
  },
  {
   "cell_type": "code",
   "execution_count": null,
   "metadata": {},
   "outputs": [
    {
     "data": {
      "text/plain": [
       "{'apple': ['x'], 'banana': ['y', 'z']}"
      ]
     },
     "execution_count": 113,
     "metadata": {},
     "output_type": "execute_result"
    }
   ],
   "source": [
    "def get_reversed_dict_with_duplicates(dictionary:dict):\n",
    "    reversed_dictionary = {}        # diccionario vacío donde añadir los k-v una vex revertidos\n",
    "    for key, value in dictionary.items():\n",
    "        if value in reversed_dictionary:\n",
    "            reversed_dictionary[value].append(key)\n",
    "        else:\n",
    "            reversed_dictionary[value] = [key]\n",
    "    return reversed_dictionary\n",
    "get_reversed_dict_with_duplicates(dict_contador)\n",
    "\n",
    "# Compruebo con el diccionario del ejemplo\n",
    "get_reversed_dict_with_duplicates(dictionary_2)"
   ]
  },
  {
   "attachments": {
    "image.png": {
     "image/png": "[encoded data removed]"
    }
   },
   "cell_type": "markdown",
   "metadata": {},
   "source": [
    "#### **Ejercicio 2**\n",
    "\n",
    "Conversió de tipus de dades\n",
    "\n",
    "El client rep una llista de dades i necessita generar dues llistes, la primera on estaran tots els elements que es van poder convertir en flotants i l'altra on estan els elements que no es van poder convertir. Exemple de la llista que rep el client: [ '1.3', 'one' , '1e10' , 'seven', '3-1/2', ('2',1,1.4,'not-a-number'), [1,2,'3','3.4']]\n",
    "\n",
    "![image.png](attachment:image.png)"
   ]
  },
  {
   "cell_type": "code",
   "execution_count": null,
   "metadata": {},
   "outputs": [
    {
     "data": {
      "text/plain": [
       "([],\n",
       " ['1.3',\n",
       "  'one',\n",
       "  '1e10',\n",
       "  'seven',\n",
       "  '3-1/2',\n",
       "  ('2', 1, 1.4, 'not-a-number'),\n",
       "  [1, 2, '3', '3.4']])"
      ]
     },
     "execution_count": 31,
     "metadata": {},
     "output_type": "execute_result"
    }
   ],
   "source": [
    "\"\"\"Convertir a float y separar\"\"\"\n",
    "\n",
    "lista_cliente = [ '1.3', 'one' , '1e10' , 'seven', '3-1/2', ('2',1,1.4,'not-a-number'), [1,2,'3','3.4']]\n",
    "\n",
    "def separar_floats(lista):\n",
    "    lista_float = []\n",
    "    lista_no_float = []\n",
    "    for elemento in lista:\n",
    "        if type(elemento) is float:\n",
    "            lista_float.append(elemento)\n",
    "        else:\n",
    "            lista_no_float.append(elemento)\n",
    "    return (lista_float, lista_no_float)\n",
    "\n",
    "separar_floats(lista_cliente)"
   ]
  },
  {
   "cell_type": "code",
   "execution_count": null,
   "metadata": {},
   "outputs": [
    {
     "data": {
      "text/plain": [
       "([1.3, 10000000000.0],\n",
       " [1.3,\n",
       "  'one',\n",
       "  10000000000.0,\n",
       "  'seven',\n",
       "  '3-1/2',\n",
       "  ('2', 1, 1.4, 'not-a-number'),\n",
       "  [1, 2, '3', '3.4']])"
      ]
     },
     "execution_count": 34,
     "metadata": {},
     "output_type": "execute_result"
    }
   ],
   "source": [
    "\"\"\"Convertir a float y separar\"\"\"\n",
    "\n",
    "lista_cliente = [ '1.3', 'one' , '1e10' , 'seven', '3-1/2', ('2',1,1.4,'not-a-number'), [1,2,'3','3.4']]\n",
    "\n",
    "def separar_floats(lista):\n",
    "    lista_float = []\n",
    "    lista_no_float = []\n",
    "    for elemento in lista:\n",
    "        try:\n",
    "            elementof = float(elemento)\n",
    "            if type(elementof) is float:\n",
    "                lista_float.append(elementof)\n",
    "            #else:\n",
    "            lista_no_float.append(elementof)\n",
    "        except (ValueError, TypeError):                             #except (ValueError):\n",
    "            lista_no_float.append(elemento)\n",
    "\n",
    "    return (lista_float, lista_no_float)\n",
    "\n",
    "separar_floats(lista_cliente)\n",
    "\n",
    "# Hay elementos que son tuplas o listas y no los recorre correctamente. RESOLVER."
   ]
  },
  {
   "cell_type": "code",
   "execution_count": null,
   "metadata": {},
   "outputs": [
    {
     "data": {
      "text/plain": [
       "([1.3, 10000000000.0, 2.0, 1.0, 1.4, 1.0, 2.0, 3.0, 3.4],\n",
       " ['one', 'seven', '3-1/2', 'not-a-number'])"
      ]
     },
     "execution_count": 30,
     "metadata": {},
     "output_type": "execute_result"
    }
   ],
   "source": [
    "\"\"\"Convertir a float y separar\"\"\"\n",
    "\n",
    "lista_cliente = [ '1.3', 'one' , '1e10' , 'seven', '3-1/2', ('2',1,1.4,'not-a-number'), [1,2,'3','3.4']]\n",
    "\n",
    "def separar_floats(lista):\n",
    "    lista_float = []\n",
    "    lista_no_float = []\n",
    "    \n",
    "    def procesar_elemento(elemento):                         #Try except para intentar convertir el elemento a float o clasificarlo como no convertible.\n",
    "        try:\n",
    "            lista_float.append(float(elemento))\n",
    "        except (ValueError, TypeError):                      #Error si no se puede convertir a float. TIENEN QUE ESTAR LOS DOS PARA QUE FUNCIONE\n",
    "            if isinstance(elemento, (list, tuple, set)):     #Si el elemento es una lista, tupla o set, procesar sus subelementos\n",
    "                for subelemento in elemento:\n",
    "                    procesar_elemento(subelemento)\n",
    "            else:\n",
    "                lista_no_float.append(elemento)\n",
    "\n",
    "    for item in lista:\n",
    "        procesar_elemento(item)\n",
    "\n",
    "    return (lista_float, lista_no_float)\n",
    "\n",
    "separar_floats(lista_cliente)"
   ]
  },
  {
   "cell_type": "markdown",
   "metadata": {},
   "source": [
    "### **Nivel 3**"
   ]
  },
  {
   "attachments": {
    "image-2.png": {
     "image/png": "[encoded data removed]"
    }
   },
   "cell_type": "markdown",
   "metadata": {},
   "source": [
    "#### **Ejercicio 1**\n",
    "\n",
    "Comptador i endreçador de paraules d'un text.\n",
    "\n",
    "El client va quedar content amb el comptador de paraules, però ara vol llegir arxius TXT i que calculi la freqüència de cada paraula ordenades dins de les entrades habituals del diccionari segons la lletra amb la qual comencen, és a dir, les claus han d'anar de la A a la Z i dins de la A hem d'anar de la A la Z. Per exemple, per a l'arxiu \"tu_me_quieres_blanca.txt\" la sortida esperada seria:\n",
    "\n",
    "![image-2.png](attachment:image-2.png)"
   ]
  },
  {
   "cell_type": "code",
   "execution_count": null,
   "metadata": {},
   "outputs": [
    {
     "data": {
      "text/plain": [
       "[('a',\n",
       "  {'alba': 4,\n",
       "   'azucena': 1,\n",
       "   'a': 3,\n",
       "   'al': 2,\n",
       "   'alimenta': 1,\n",
       "   'amarga': 1,\n",
       "   'agua': 1,\n",
       "   'alma': 1,\n",
       "   'alcobas': 1}),\n",
       " ('b',\n",
       "  {'blanca': 3,\n",
       "   'banquete': 1,\n",
       "   'baco': 1,\n",
       "   'bosques': 1,\n",
       "   'boca': 1,\n",
       "   'bebe': 1,\n",
       "   'buen': 1}),\n",
       " ('c',\n",
       "  {'casta': 3,\n",
       "   'corola': 1,\n",
       "   'cerrada': 1,\n",
       "   'copas': 1,\n",
       "   'cubierto': 1,\n",
       "   'carnes': 2,\n",
       "   'corriste': 1,\n",
       "   'conservas': 1,\n",
       "   'cuáles': 1,\n",
       "   'cabañas': 1,\n",
       "   'con': 4,\n",
       "   'cuerpo': 1,\n",
       "   'cuando': 2}),\n",
       " ('d', {'de': 8, 'diga': 1, 'dejaste': 1, 'del': 1, 'dios': 2, 'duerme': 1}),\n",
       " ('e',\n",
       "  {'espumas': 1,\n",
       "   'en': 4,\n",
       "   'el': 4,\n",
       "   'engaño': 1,\n",
       "   'estrago': 1,\n",
       "   'esqueleto': 1,\n",
       "   'escarcha': 1,\n",
       "   'ellas': 1,\n",
       "   'enredada': 1,\n",
       "   'entonces': 1}),\n",
       " ('f', {'filtrado': 1, 'frutos': 1, 'festejando': 1}),\n",
       " ('h',\n",
       "  {'haya': 1,\n",
       "   'hermana': 1,\n",
       "   'hubiste': 1,\n",
       "   'huye': 1,\n",
       "   'hacia': 1,\n",
       "   'habla': 1,\n",
       "   'hayas': 1,\n",
       "   'hombre': 1}),\n",
       " ('i', {'intacto': 1}),\n",
       " ('j', {'jardines': 1}),\n",
       " ('l',\n",
       "  {'luna': 1,\n",
       "   'las': 7,\n",
       "   'los': 4,\n",
       "   'labios': 1,\n",
       "   'lo': 2,\n",
       "   'la': 3,\n",
       "   'límpiate': 1,\n",
       "   'lévate': 1}),\n",
       " ('m',\n",
       "  {'me': 10,\n",
       "   'margarita': 1,\n",
       "   'mi': 1,\n",
       "   'mano': 1,\n",
       "   'mieles': 1,\n",
       "   'morados': 1,\n",
       "   'milagros': 1,\n",
       "   'montaña': 1,\n",
       "   'manos': 1,\n",
       "   'mojada': 1}),\n",
       " ('n', {'nácar': 1, 'ni': 2, 'nívea': 2, 'negros': 1, 'no': 1}),\n",
       " ('p',\n",
       "  {'perfume': 1,\n",
       "   'pámpanos': 1,\n",
       "   'por': 2,\n",
       "   'pretendes': 3,\n",
       "   'perdone': 2,\n",
       "   'pájaros': 1,\n",
       "   'puesto': 1,\n",
       "   'preténdeme': 3}),\n",
       " ('q', {'quieres': 6, 'que': 6, 'quedó': 1}),\n",
       " ('r', {'rayo': 1, 'rojo': 1, 'raíz': 1, 'rocas': 1, 'renueva': 1}),\n",
       " ('s', {'sea': 1, 'sobre': 2, 'se': 2, 'sé': 1, 'salitre': 1, 'sean': 1}),\n",
       " ('t',\n",
       "  {'tú': 8,\n",
       "   'todas': 2,\n",
       "   'tenue': 1,\n",
       "   'todavía': 1,\n",
       "   'te': 3,\n",
       "   'toca': 1,\n",
       "   'tierra': 1,\n",
       "   'tejidos': 1,\n",
       "   'tornadas': 1}),\n",
       " ('u', {'un': 1, 'una': 1}),\n",
       " ('v', {'vestido': 1, 'vete': 1, 'vive': 1}),\n",
       " ('y', {'y': 5})]"
      ]
     },
     "execution_count": 107,
     "metadata": {},
     "output_type": "execute_result"
    }
   ],
   "source": [
    "\"\"\"\" \n",
    "Podemos partir del contador del primer ejercicio, pero en este caso tenemos que crear diccionarios de cada letra dentro del diccionario global.\n",
    "Ordenar alfabéticamente.\n",
    "Nested dictionary --> https://www.w3schools.com/python/python_dictionaries_nested.asp\n",
    "Bucle for para seleccionar la primera letra de las palabras --> clave del diccionario exterior.\n",
    "Luego con un if, recorro las palabras que empiezan por esa letra y las añado como valores a esas claves.\n",
    "Ordenar por sorted()\n",
    "Complicado? Sí, pero vamo' hacerlo\n",
    "\"\"\"\n",
    "\n",
    "\n",
    "def contador_palabras_anidado(diccionario):\n",
    "    dict_anidado = {}\n",
    "    for key, value in diccionario.items():\n",
    "        letra_inicial = key[0]\n",
    "        if letra_inicial not in dict_anidado:\n",
    "            dict_anidado[letra_inicial] = {}\n",
    "        if value not in dict_anidado[letra_inicial]:\n",
    "            dict_anidado[letra_inicial][key] = value\n",
    "    return sorted(dict_anidado.items())\n",
    "    \n",
    "\n",
    "contador_palabras_anidado(dict_contador)"
   ]
  }
 ],
 "metadata": {
  "kernelspec": {
   "display_name": "Python 3",
   "language": "python",
   "name": "python3"
  },
  "language_info": {
   "codemirror_mode": {
    "name": "ipython",
    "version": 3
   },
   "file_extension": ".py",
   "mimetype": "text/x-python",
   "name": "python",
   "nbconvert_exporter": "python",
   "pygments_lexer": "ipython3",
   "version": "3.12.9"
  }
 },
 "nbformat": 4,
 "nbformat_minor": 2
}
