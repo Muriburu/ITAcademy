{
 "cells": [
  {
   "cell_type": "markdown",
   "metadata": {},
   "source": [
    "# **Tarea S801 - Visualitzacions en Python**\n",
    "\n",
    "Aquesta pràctica permetrà explorar com es poden utilitzar eines de visualització avançades en Python per a interpretar i presentar dades de manera efectiva, proporcionant una oportunitat valuosa per a millorar les habilitats analítiques i tècniques."
   ]
  },
  {
   "cell_type": "markdown",
   "metadata": {},
   "source": [
    "### **Nivel 1**\n",
    "\n",
    "Realitza la connexió en Python amb el MySQL Workbench per a carregar tota la informació que tens en les taules.\n",
    "\n",
    "Realitzaràs una visualització per a cada exercici. Comenta el que et crida l'atenció de graficar aquesta variable, justifica l'elecció del gràfic i interpreta els resultats en funció de les teves dades."
   ]
  },
  {
   "cell_type": "code",
   "execution_count": 198,
   "metadata": {},
   "outputs": [],
   "source": [
    "\"\"\"1º Importo las librerías que creo que puedo necesitar en esta tarea.\"\"\"\n",
    "\n",
    "import mysql.connector\n",
    "from mysql.connector import Error\n",
    "import pandas as pd\n",
    "import numpy as np\n",
    "import matplotlib.pyplot as plt\n",
    "import seaborn as sns\n",
    "import plotly\n",
    "import plotly.express as px\n",
    "import plotly.graph_objects as go\n",
    "import squarify"
   ]
  },
  {
   "cell_type": "code",
   "execution_count": 5,
   "metadata": {},
   "outputs": [
    {
     "name": "stdout",
     "output_type": "stream",
     "text": [
      "Connected to MySQL Server version  8.0.39\n",
      "You're connected to database:  ('new_transactions',)\n",
      "MySQL connection is closed\n"
     ]
    },
    {
     "data": {
      "text/plain": [
       "'Conexión a SQL sin errores'"
      ]
     },
     "execution_count": 5,
     "metadata": {},
     "output_type": "execute_result"
    }
   ],
   "source": [
    "try:\n",
    "    connection = mysql.connector.connect(host='localhost',\n",
    "                                         database= 'new_transactions',\n",
    "                                         user= 'root',\n",
    "                                         password='Gregorio@00')\n",
    "    if connection.is_connected():\n",
    "        db_Info = connection.get_server_info()\n",
    "        print(\"Connected to MySQL Server version \", db_Info)\n",
    "        cursor = connection.cursor()\n",
    "        cursor.execute(\"select database();\")\n",
    "        record = cursor.fetchone()\n",
    "        print(\"You're connected to database: \", record)\n",
    "\n",
    "except Error as e:\n",
    "    print(\"Error while connecting to MySQL\", e)\n",
    "finally:\n",
    "    if connection.is_connected():\n",
    "        cursor.close()\n",
    "        connection.close()\n",
    "        print(\"MySQL connection is closed\")\n",
    "\n",
    "\"\"\"Conexión a SQL sin errores\"\"\""
   ]
  },
  {
   "cell_type": "code",
   "execution_count": 7,
   "metadata": {},
   "outputs": [
    {
     "name": "stdout",
     "output_type": "stream",
     "text": [
      "[('card_status',), ('companies',), ('credit_cards',), ('data_users',), ('products',), ('trans_prod',), ('transactions',)]\n"
     ]
    },
    {
     "name": "stderr",
     "output_type": "stream",
     "text": [
      "C:\\Users\\maria\\AppData\\Local\\Temp\\ipykernel_22808\\580628673.py:25: UserWarning: pandas only supports SQLAlchemy connectable (engine/connection) or database string URI or sqlite3 DBAPI2 connection. Other DBAPI2 objects are not tested. Please consider using SQLAlchemy.\n",
      "  dict_transactions[elem[0]] = pd.read_sql(query, conexion)\n"
     ]
    }
   ],
   "source": [
    "\"\"\"Para guardar todos las tablas en un dataframe, puedo crear un diccionario.\n",
    "dataframe = {}\n",
    "Con un bucle for puedo recorrer las tablas con una query e ir guardándolas:\n",
    "query = \"SELECT * FROM {tabla}\n",
    "Ver cómo se guardan las tablas, si están numeradas las puedo recorrer sin problemas.\"\"\"\n",
    "\n",
    "import mysql.connector\n",
    "import pandas as pd\n",
    "\n",
    "conexion = mysql.connector.connect(host='localhost',\n",
    "                               database='new_transactions',\n",
    "                               user='root',\n",
    "                               password='Gregorio@00')\n",
    "\n",
    "# Guardar tablas en un diccionario\n",
    "cursor = conexion.cursor()\n",
    "cursor.execute(\"SHOW TABLES;\")\n",
    "tables= cursor.fetchall()\n",
    "print(tables)               # Para ver cómo están guardadas las tablas --> están guardadas como tuplas, elem[0] de cada tupla es una tabla\n",
    "\n",
    "dict_transactions = {}      # defino el diccionario donde guardaré las tablas\n",
    "\n",
    "for elem in tables:         # recorro cada tabla y la voy añadiendo al diccionario --> diccionario anidado\n",
    "    query = \"SELECT * FROM \" + elem[0]\n",
    "    dict_transactions[elem[0]] = pd.read_sql(query, conexion)"
   ]
  },
  {
   "cell_type": "code",
   "execution_count": null,
   "metadata": {},
   "outputs": [],
   "source": [
    "\"\"\" print(dict_transactions['transactions'].info())\n",
    "print(dict_transactions['card_status'].info())\n",
    "print(dict_transactions['companies'].info())\n",
    "print(dict_transactions['data_users'].info())\n",
    "print(dict_transactions['products'].info())\n",
    "print(dict_transactions['trans_prod'].info()) \"\"\""
   ]
  },
  {
   "cell_type": "code",
   "execution_count": null,
   "metadata": {},
   "outputs": [
    {
     "data": {
      "text/plain": [
       "dict_keys(['card_status', 'companies', 'credit_cards', 'data_users', 'products', 'trans_prod', 'transactions'])"
      ]
     },
     "execution_count": 31,
     "metadata": {},
     "output_type": "execute_result"
    }
   ],
   "source": [
    "# Compruebo las claves de mi diccionario\n",
    "dict_transactions.keys()"
   ]
  },
  {
   "cell_type": "code",
   "execution_count": 11,
   "metadata": {},
   "outputs": [
    {
     "data": {
      "text/plain": [
       "pandas._libs.tslibs.timestamps.Timestamp"
      ]
     },
     "execution_count": 11,
     "metadata": {},
     "output_type": "execute_result"
    }
   ],
   "source": [
    "type(dict_transactions['transactions']['timestamp'][0])"
   ]
  },
  {
   "cell_type": "code",
   "execution_count": 13,
   "metadata": {},
   "outputs": [
    {
     "data": {
      "text/plain": [
       "pandas._libs.tslibs.timestamps.Timestamp"
      ]
     },
     "execution_count": 13,
     "metadata": {},
     "output_type": "execute_result"
    }
   ],
   "source": [
    "dict_transactions['transactions']['timestamp'] = pd.to_datetime(dict_transactions['transactions']['timestamp'])\n",
    "type(dict_transactions['transactions']['timestamp'][0])"
   ]
  },
  {
   "cell_type": "code",
   "execution_count": 195,
   "metadata": {},
   "outputs": [
    {
     "data": {
      "application/vnd.microsoft.datawrangler.viewer.v0+json": {
       "columns": [
        {
         "name": "index",
         "rawType": "int64",
         "type": "integer"
        },
        {
         "name": "transaction_id",
         "rawType": "object",
         "type": "string"
        },
        {
         "name": "credit_card_id",
         "rawType": "object",
         "type": "string"
        },
        {
         "name": "company_id",
         "rawType": "object",
         "type": "string"
        },
        {
         "name": "timestamp",
         "rawType": "datetime64[ns]",
         "type": "datetime"
        },
        {
         "name": "amount",
         "rawType": "float64",
         "type": "float"
        },
        {
         "name": "declined",
         "rawType": "int64",
         "type": "integer"
        },
        {
         "name": "product_list",
         "rawType": "object",
         "type": "string"
        },
        {
         "name": "user_id",
         "rawType": "int64",
         "type": "integer"
        },
        {
         "name": "lat",
         "rawType": "float64",
         "type": "float"
        },
        {
         "name": "longitude",
         "rawType": "float64",
         "type": "float"
        },
        {
         "name": "year_month",
         "rawType": "period[M]",
         "type": "unknown"
        },
        {
         "name": "year",
         "rawType": "int64",
         "type": "integer"
        },
        {
         "name": "month",
         "rawType": "int64",
         "type": "integer"
        },
        {
         "name": "day",
         "rawType": "int64",
         "type": "integer"
        }
       ],
       "conversionMethod": "pd.DataFrame",
       "ref": "8b1a295b-5c5b-409c-b31a-4538edbdf990",
       "rows": [
        [
         "0",
         "02C6201E-D90A-1859-B4EE-88D2986D3B02",
         "CcU-2938",
         "b-2362",
         "2021-08-28 23:42:24",
         "466.92",
         "0",
         "71, 1, 19",
         "92",
         "81.9185",
         "-12.5276",
         "2021-08",
         "2021",
         "8",
         "28"
        ],
        [
         "1",
         "0466A42E-47CF-8D24-FD01-C0B689713128",
         "CcU-4219",
         "b-2302",
         "2021-07-26 07:29:18",
         "49.53",
         "0",
         "47, 97, 43",
         "170",
         "-43.9695",
         "-117.525",
         "2021-07",
         "2021",
         "7",
         "26"
        ],
        [
         "2",
         "063FBA79-99EC-66FB-29F7-25726D1764A5",
         "CcU-2987",
         "b-2250",
         "2022-01-06 21:25:27",
         "92.61",
         "0",
         "47, 67, 31, 5",
         "275",
         "-81.2227",
         "-129.05",
         "2022-01",
         "2022",
         "1",
         "6"
        ],
        [
         "3",
         "0668296C-CDB9-A883-76BC-2E4C44F8C8AE",
         "CcU-3743",
         "b-2618",
         "2022-01-26 02:07:14",
         "394.18",
         "0",
         "89, 83, 79",
         "265",
         "-34.3593",
         "-100.556",
         "2022-01",
         "2022",
         "1",
         "26"
        ],
        [
         "4",
         "06CD9AA5-9B42-D684-DDDD-A5E394FEBA99",
         "CcU-2959",
         "b-2346",
         "2021-10-26 23:00:01",
         "279.93",
         "0",
         "43, 31",
         "92",
         "33.7381",
         "158.298",
         "2021-10",
         "2021",
         "10",
         "26"
        ],
        [
         "5",
         "07A46D48-31A3-7E87-65B9-0DA902AD109F",
         "CcU-3225",
         "b-2386",
         "2021-06-28 21:11:42",
         "340.87",
         "1",
         "47, 23",
         "272",
         "38.8342",
         "92.1905",
         "2021-06",
         "2021",
         "6",
         "28"
        ],
        [
         "6",
         "09DE92CE-6F27-2BB7-13B5-9385B2B3B8E2",
         "CcU-3071",
         "b-2298",
         "2021-05-11 20:40:06",
         "303.05",
         "1",
         "67, 7",
         "275",
         "71.1706",
         "10.5757",
         "2021-05",
         "2021",
         "5",
         "11"
        ],
        [
         "7",
         "0A476ED9-0C13-1962-F87B-D3563924B539",
         "CcU-4359",
         "b-2302",
         "2022-02-26 20:33:54",
         "430.49",
         "0",
         "29, 41, 11",
         "221",
         "-56.4901",
         "114.801",
         "2022-02",
         "2022",
         "2",
         "26"
        ],
        [
         "8",
         "0BEB80B7-9D66-1707-CE4B-9DC7E71914B5",
         "CcU-3141",
         "b-2338",
         "2022-03-04 14:54:35",
         "288.81",
         "1",
         "19, 41, 29, 3",
         "272",
         "23.3264",
         "-13.6037",
         "2022-03",
         "2022",
         "3",
         "4"
        ],
        [
         "9",
         "0C7C3A33-9947-3BC1-846D-7BE3D0D17598",
         "CcU-3309",
         "b-2434",
         "2021-04-10 20:58:41",
         "103.44",
         "1",
         "89, 31",
         "272",
         "63.3615",
         "-68.6667",
         "2021-04",
         "2021",
         "4",
         "10"
        ]
       ],
       "shape": {
        "columns": 14,
        "rows": 10
       }
      },
      "text/html": [
       "<div>\n",
       "<style scoped>\n",
       "    .dataframe tbody tr th:only-of-type {\n",
       "        vertical-align: middle;\n",
       "    }\n",
       "\n",
       "    .dataframe tbody tr th {\n",
       "        vertical-align: top;\n",
       "    }\n",
       "\n",
       "    .dataframe thead th {\n",
       "        text-align: right;\n",
       "    }\n",
       "</style>\n",
       "<table border=\"1\" class=\"dataframe\">\n",
       "  <thead>\n",
       "    <tr style=\"text-align: right;\">\n",
       "      <th></th>\n",
       "      <th>transaction_id</th>\n",
       "      <th>credit_card_id</th>\n",
       "      <th>company_id</th>\n",
       "      <th>timestamp</th>\n",
       "      <th>amount</th>\n",
       "      <th>declined</th>\n",
       "      <th>product_list</th>\n",
       "      <th>user_id</th>\n",
       "      <th>lat</th>\n",
       "      <th>longitude</th>\n",
       "      <th>year_month</th>\n",
       "      <th>year</th>\n",
       "      <th>month</th>\n",
       "      <th>day</th>\n",
       "    </tr>\n",
       "  </thead>\n",
       "  <tbody>\n",
       "    <tr>\n",
       "      <th>0</th>\n",
       "      <td>02C6201E-D90A-1859-B4EE-88D2986D3B02</td>\n",
       "      <td>CcU-2938</td>\n",
       "      <td>b-2362</td>\n",
       "      <td>2021-08-28 23:42:24</td>\n",
       "      <td>466.92</td>\n",
       "      <td>0</td>\n",
       "      <td>71, 1, 19</td>\n",
       "      <td>92</td>\n",
       "      <td>81.9185</td>\n",
       "      <td>-12.5276</td>\n",
       "      <td>2021-08</td>\n",
       "      <td>2021</td>\n",
       "      <td>8</td>\n",
       "      <td>28</td>\n",
       "    </tr>\n",
       "    <tr>\n",
       "      <th>1</th>\n",
       "      <td>0466A42E-47CF-8D24-FD01-C0B689713128</td>\n",
       "      <td>CcU-4219</td>\n",
       "      <td>b-2302</td>\n",
       "      <td>2021-07-26 07:29:18</td>\n",
       "      <td>49.53</td>\n",
       "      <td>0</td>\n",
       "      <td>47, 97, 43</td>\n",
       "      <td>170</td>\n",
       "      <td>-43.9695</td>\n",
       "      <td>-117.5250</td>\n",
       "      <td>2021-07</td>\n",
       "      <td>2021</td>\n",
       "      <td>7</td>\n",
       "      <td>26</td>\n",
       "    </tr>\n",
       "    <tr>\n",
       "      <th>2</th>\n",
       "      <td>063FBA79-99EC-66FB-29F7-25726D1764A5</td>\n",
       "      <td>CcU-2987</td>\n",
       "      <td>b-2250</td>\n",
       "      <td>2022-01-06 21:25:27</td>\n",
       "      <td>92.61</td>\n",
       "      <td>0</td>\n",
       "      <td>47, 67, 31, 5</td>\n",
       "      <td>275</td>\n",
       "      <td>-81.2227</td>\n",
       "      <td>-129.0500</td>\n",
       "      <td>2022-01</td>\n",
       "      <td>2022</td>\n",
       "      <td>1</td>\n",
       "      <td>6</td>\n",
       "    </tr>\n",
       "    <tr>\n",
       "      <th>3</th>\n",
       "      <td>0668296C-CDB9-A883-76BC-2E4C44F8C8AE</td>\n",
       "      <td>CcU-3743</td>\n",
       "      <td>b-2618</td>\n",
       "      <td>2022-01-26 02:07:14</td>\n",
       "      <td>394.18</td>\n",
       "      <td>0</td>\n",
       "      <td>89, 83, 79</td>\n",
       "      <td>265</td>\n",
       "      <td>-34.3593</td>\n",
       "      <td>-100.5560</td>\n",
       "      <td>2022-01</td>\n",
       "      <td>2022</td>\n",
       "      <td>1</td>\n",
       "      <td>26</td>\n",
       "    </tr>\n",
       "    <tr>\n",
       "      <th>4</th>\n",
       "      <td>06CD9AA5-9B42-D684-DDDD-A5E394FEBA99</td>\n",
       "      <td>CcU-2959</td>\n",
       "      <td>b-2346</td>\n",
       "      <td>2021-10-26 23:00:01</td>\n",
       "      <td>279.93</td>\n",
       "      <td>0</td>\n",
       "      <td>43, 31</td>\n",
       "      <td>92</td>\n",
       "      <td>33.7381</td>\n",
       "      <td>158.2980</td>\n",
       "      <td>2021-10</td>\n",
       "      <td>2021</td>\n",
       "      <td>10</td>\n",
       "      <td>26</td>\n",
       "    </tr>\n",
       "    <tr>\n",
       "      <th>5</th>\n",
       "      <td>07A46D48-31A3-7E87-65B9-0DA902AD109F</td>\n",
       "      <td>CcU-3225</td>\n",
       "      <td>b-2386</td>\n",
       "      <td>2021-06-28 21:11:42</td>\n",
       "      <td>340.87</td>\n",
       "      <td>1</td>\n",
       "      <td>47, 23</td>\n",
       "      <td>272</td>\n",
       "      <td>38.8342</td>\n",
       "      <td>92.1905</td>\n",
       "      <td>2021-06</td>\n",
       "      <td>2021</td>\n",
       "      <td>6</td>\n",
       "      <td>28</td>\n",
       "    </tr>\n",
       "    <tr>\n",
       "      <th>6</th>\n",
       "      <td>09DE92CE-6F27-2BB7-13B5-9385B2B3B8E2</td>\n",
       "      <td>CcU-3071</td>\n",
       "      <td>b-2298</td>\n",
       "      <td>2021-05-11 20:40:06</td>\n",
       "      <td>303.05</td>\n",
       "      <td>1</td>\n",
       "      <td>67, 7</td>\n",
       "      <td>275</td>\n",
       "      <td>71.1706</td>\n",
       "      <td>10.5757</td>\n",
       "      <td>2021-05</td>\n",
       "      <td>2021</td>\n",
       "      <td>5</td>\n",
       "      <td>11</td>\n",
       "    </tr>\n",
       "    <tr>\n",
       "      <th>7</th>\n",
       "      <td>0A476ED9-0C13-1962-F87B-D3563924B539</td>\n",
       "      <td>CcU-4359</td>\n",
       "      <td>b-2302</td>\n",
       "      <td>2022-02-26 20:33:54</td>\n",
       "      <td>430.49</td>\n",
       "      <td>0</td>\n",
       "      <td>29, 41, 11</td>\n",
       "      <td>221</td>\n",
       "      <td>-56.4901</td>\n",
       "      <td>114.8010</td>\n",
       "      <td>2022-02</td>\n",
       "      <td>2022</td>\n",
       "      <td>2</td>\n",
       "      <td>26</td>\n",
       "    </tr>\n",
       "    <tr>\n",
       "      <th>8</th>\n",
       "      <td>0BEB80B7-9D66-1707-CE4B-9DC7E71914B5</td>\n",
       "      <td>CcU-3141</td>\n",
       "      <td>b-2338</td>\n",
       "      <td>2022-03-04 14:54:35</td>\n",
       "      <td>288.81</td>\n",
       "      <td>1</td>\n",
       "      <td>19, 41, 29, 3</td>\n",
       "      <td>272</td>\n",
       "      <td>23.3264</td>\n",
       "      <td>-13.6037</td>\n",
       "      <td>2022-03</td>\n",
       "      <td>2022</td>\n",
       "      <td>3</td>\n",
       "      <td>4</td>\n",
       "    </tr>\n",
       "    <tr>\n",
       "      <th>9</th>\n",
       "      <td>0C7C3A33-9947-3BC1-846D-7BE3D0D17598</td>\n",
       "      <td>CcU-3309</td>\n",
       "      <td>b-2434</td>\n",
       "      <td>2021-04-10 20:58:41</td>\n",
       "      <td>103.44</td>\n",
       "      <td>1</td>\n",
       "      <td>89, 31</td>\n",
       "      <td>272</td>\n",
       "      <td>63.3615</td>\n",
       "      <td>-68.6667</td>\n",
       "      <td>2021-04</td>\n",
       "      <td>2021</td>\n",
       "      <td>4</td>\n",
       "      <td>10</td>\n",
       "    </tr>\n",
       "  </tbody>\n",
       "</table>\n",
       "</div>"
      ],
      "text/plain": [
       "                         transaction_id credit_card_id company_id  \\\n",
       "0  02C6201E-D90A-1859-B4EE-88D2986D3B02       CcU-2938     b-2362   \n",
       "1  0466A42E-47CF-8D24-FD01-C0B689713128       CcU-4219     b-2302   \n",
       "2  063FBA79-99EC-66FB-29F7-25726D1764A5       CcU-2987     b-2250   \n",
       "3  0668296C-CDB9-A883-76BC-2E4C44F8C8AE       CcU-3743     b-2618   \n",
       "4  06CD9AA5-9B42-D684-DDDD-A5E394FEBA99       CcU-2959     b-2346   \n",
       "5  07A46D48-31A3-7E87-65B9-0DA902AD109F       CcU-3225     b-2386   \n",
       "6  09DE92CE-6F27-2BB7-13B5-9385B2B3B8E2       CcU-3071     b-2298   \n",
       "7  0A476ED9-0C13-1962-F87B-D3563924B539       CcU-4359     b-2302   \n",
       "8  0BEB80B7-9D66-1707-CE4B-9DC7E71914B5       CcU-3141     b-2338   \n",
       "9  0C7C3A33-9947-3BC1-846D-7BE3D0D17598       CcU-3309     b-2434   \n",
       "\n",
       "            timestamp  amount  declined   product_list  user_id      lat  \\\n",
       "0 2021-08-28 23:42:24  466.92         0      71, 1, 19       92  81.9185   \n",
       "1 2021-07-26 07:29:18   49.53         0     47, 97, 43      170 -43.9695   \n",
       "2 2022-01-06 21:25:27   92.61         0  47, 67, 31, 5      275 -81.2227   \n",
       "3 2022-01-26 02:07:14  394.18         0     89, 83, 79      265 -34.3593   \n",
       "4 2021-10-26 23:00:01  279.93         0         43, 31       92  33.7381   \n",
       "5 2021-06-28 21:11:42  340.87         1         47, 23      272  38.8342   \n",
       "6 2021-05-11 20:40:06  303.05         1          67, 7      275  71.1706   \n",
       "7 2022-02-26 20:33:54  430.49         0     29, 41, 11      221 -56.4901   \n",
       "8 2022-03-04 14:54:35  288.81         1  19, 41, 29, 3      272  23.3264   \n",
       "9 2021-04-10 20:58:41  103.44         1         89, 31      272  63.3615   \n",
       "\n",
       "   longitude year_month  year  month  day  \n",
       "0   -12.5276    2021-08  2021      8   28  \n",
       "1  -117.5250    2021-07  2021      7   26  \n",
       "2  -129.0500    2022-01  2022      1    6  \n",
       "3  -100.5560    2022-01  2022      1   26  \n",
       "4   158.2980    2021-10  2021     10   26  \n",
       "5    92.1905    2021-06  2021      6   28  \n",
       "6    10.5757    2021-05  2021      5   11  \n",
       "7   114.8010    2022-02  2022      2   26  \n",
       "8   -13.6037    2022-03  2022      3    4  \n",
       "9   -68.6667    2021-04  2021      4   10  "
      ]
     },
     "execution_count": 195,
     "metadata": {},
     "output_type": "execute_result"
    }
   ],
   "source": [
    "# Creo columna year\n",
    "dict_transactions['transactions']['year'] = dict_transactions['transactions']['timestamp'].apply(lambda x: x.year)\n",
    "\n",
    "# Columna month\n",
    "dict_transactions['transactions']['month'] = dict_transactions['transactions']['timestamp'].apply(lambda x: x.month)\n",
    "\n",
    "# Columna day\n",
    "dict_transactions['transactions']['day'] = dict_transactions['transactions']['timestamp'].apply(lambda x: x.day)\n",
    "\n",
    "dict_transactions['transactions'].head(10)"
   ]
  },
  {
   "cell_type": "markdown",
   "metadata": {},
   "source": [
    "#### **Ejercicio 1**\n",
    "\n",
    "Una variable numèrica."
   ]
  },
  {
   "cell_type": "code",
   "execution_count": 143,
   "metadata": {},
   "outputs": [
    {
     "data": {
      "application/vnd.microsoft.datawrangler.viewer.v0+json": {
       "columns": [
        {
         "name": "index",
         "rawType": "int64",
         "type": "integer"
        },
        {
         "name": "year_month",
         "rawType": "period[M]",
         "type": "unknown"
        },
        {
         "name": "amount",
         "rawType": "float64",
         "type": "float"
        }
       ],
       "conversionMethod": "pd.DataFrame",
       "ref": "701465f8-02e3-44be-9f04-8893ffcff58b",
       "rows": [
        [
         "0",
         "2021-03",
         "5711.35"
        ],
        [
         "1",
         "2021-04",
         "13507.68"
        ],
        [
         "2",
         "2021-05",
         "11659.27"
        ],
        [
         "3",
         "2021-06",
         "10817.81"
        ],
        [
         "4",
         "2021-07",
         "9931.77"
        ],
        [
         "5",
         "2021-08",
         "13900.24"
        ],
        [
         "6",
         "2021-09",
         "9524.43"
        ],
        [
         "7",
         "2021-10",
         "10765.57"
        ],
        [
         "8",
         "2021-11",
         "7675.74"
        ],
        [
         "9",
         "2021-12",
         "14177.16"
        ],
        [
         "10",
         "2022-01",
         "8236.31"
        ],
        [
         "11",
         "2022-02",
         "10077.55"
        ],
        [
         "12",
         "2022-03",
         "3520.71"
        ]
       ],
       "shape": {
        "columns": 2,
        "rows": 13
       }
      },
      "text/html": [
       "<div>\n",
       "<style scoped>\n",
       "    .dataframe tbody tr th:only-of-type {\n",
       "        vertical-align: middle;\n",
       "    }\n",
       "\n",
       "    .dataframe tbody tr th {\n",
       "        vertical-align: top;\n",
       "    }\n",
       "\n",
       "    .dataframe thead th {\n",
       "        text-align: right;\n",
       "    }\n",
       "</style>\n",
       "<table border=\"1\" class=\"dataframe\">\n",
       "  <thead>\n",
       "    <tr style=\"text-align: right;\">\n",
       "      <th></th>\n",
       "      <th>year_month</th>\n",
       "      <th>amount</th>\n",
       "    </tr>\n",
       "  </thead>\n",
       "  <tbody>\n",
       "    <tr>\n",
       "      <th>0</th>\n",
       "      <td>2021-03</td>\n",
       "      <td>5711.35</td>\n",
       "    </tr>\n",
       "    <tr>\n",
       "      <th>1</th>\n",
       "      <td>2021-04</td>\n",
       "      <td>13507.68</td>\n",
       "    </tr>\n",
       "    <tr>\n",
       "      <th>2</th>\n",
       "      <td>2021-05</td>\n",
       "      <td>11659.27</td>\n",
       "    </tr>\n",
       "    <tr>\n",
       "      <th>3</th>\n",
       "      <td>2021-06</td>\n",
       "      <td>10817.81</td>\n",
       "    </tr>\n",
       "    <tr>\n",
       "      <th>4</th>\n",
       "      <td>2021-07</td>\n",
       "      <td>9931.77</td>\n",
       "    </tr>\n",
       "    <tr>\n",
       "      <th>5</th>\n",
       "      <td>2021-08</td>\n",
       "      <td>13900.24</td>\n",
       "    </tr>\n",
       "    <tr>\n",
       "      <th>6</th>\n",
       "      <td>2021-09</td>\n",
       "      <td>9524.43</td>\n",
       "    </tr>\n",
       "    <tr>\n",
       "      <th>7</th>\n",
       "      <td>2021-10</td>\n",
       "      <td>10765.57</td>\n",
       "    </tr>\n",
       "    <tr>\n",
       "      <th>8</th>\n",
       "      <td>2021-11</td>\n",
       "      <td>7675.74</td>\n",
       "    </tr>\n",
       "    <tr>\n",
       "      <th>9</th>\n",
       "      <td>2021-12</td>\n",
       "      <td>14177.16</td>\n",
       "    </tr>\n",
       "    <tr>\n",
       "      <th>10</th>\n",
       "      <td>2022-01</td>\n",
       "      <td>8236.31</td>\n",
       "    </tr>\n",
       "    <tr>\n",
       "      <th>11</th>\n",
       "      <td>2022-02</td>\n",
       "      <td>10077.55</td>\n",
       "    </tr>\n",
       "    <tr>\n",
       "      <th>12</th>\n",
       "      <td>2022-03</td>\n",
       "      <td>3520.71</td>\n",
       "    </tr>\n",
       "  </tbody>\n",
       "</table>\n",
       "</div>"
      ],
      "text/plain": [
       "   year_month    amount\n",
       "0     2021-03   5711.35\n",
       "1     2021-04  13507.68\n",
       "2     2021-05  11659.27\n",
       "3     2021-06  10817.81\n",
       "4     2021-07   9931.77\n",
       "5     2021-08  13900.24\n",
       "6     2021-09   9524.43\n",
       "7     2021-10  10765.57\n",
       "8     2021-11   7675.74\n",
       "9     2021-12  14177.16\n",
       "10    2022-01   8236.31\n",
       "11    2022-02  10077.55\n",
       "12    2022-03   3520.71"
      ]
     },
     "execution_count": 143,
     "metadata": {},
     "output_type": "execute_result"
    }
   ],
   "source": [
    "\"\"\"Voy a representar las compras mensuales hechas desde los 3 países\"\"\"\n",
    "\n",
    "# Solo transacciones aceptadas y hacer una copia explícita para evitar el warning\n",
    "accepted_transactions = dict_transactions['transactions'].loc[dict_transactions['transactions']['declined'] == 0].copy()\n",
    "\n",
    "# Creo columna year_month\n",
    "accepted_transactions['year_month'] = accepted_transactions['timestamp'].dt.to_period('M')\n",
    "\n",
    "# Agrupar por mes y sumar las cantidades\n",
    "monthly_total_accepted_transactions = round(accepted_transactions.groupby([\"year_month\"], as_index=False)[\"amount\"].sum(), 2)\n",
    "\n",
    "monthly_total_accepted_transactions"
   ]
  },
  {
   "cell_type": "code",
   "execution_count": null,
   "metadata": {},
   "outputs": [
    {
     "data": {
      "image/png": "[encoded data removed]",
      "text/plain": [
       "<Figure size 1000x500 with 1 Axes>"
      ]
     },
     "metadata": {},
     "output_type": "display_data"
    }
   ],
   "source": [
    "x = monthly_total_accepted_transactions[\"year_month\"].astype(str)           # Necesito convertirlo a string para representarlo\n",
    "y = monthly_total_accepted_transactions[\"amount\"]\n",
    "\n",
    "# Gráfico\n",
    "plt.figure(figsize=(10, 5))\n",
    "plt.plot(x, y, color=\"darkseagreen\",  marker='o' )\n",
    "plt.title(\"Total Sales Per Month\")\n",
    "plt.xlabel(\"Year and Month\")\n",
    "plt.ylabel(\"Total Sales ($)\")\n",
    "plt.xticks(rotation=45)\n",
    "plt.ylim(0, 16000)\n",
    "\n",
    "# Etiquetas de valores\n",
    "for i, v in enumerate(y):\n",
    "    plt.text(x[i], v + 750, f\"$ {v:,.0f}\", ha='center', fontsize=9, color='darkgreen')\n",
    "\n",
    "# Mostrar\n",
    "plt.show()"
   ]
  },
  {
   "cell_type": "markdown",
   "metadata": {},
   "source": [
    "---"
   ]
  },
  {
   "cell_type": "markdown",
   "metadata": {},
   "source": [
    "#### **Ejercicio 2**\n",
    "\n",
    "Dues variables numèriques."
   ]
  },
  {
   "cell_type": "code",
   "execution_count": null,
   "metadata": {},
   "outputs": [],
   "source": [
    "plt.figure(figsize=(7, 5))\n",
    "\n",
    "sns.scatterplot\n",
    "\n",
    "plt.show()"
   ]
  },
  {
   "cell_type": "code",
   "execution_count": 194,
   "metadata": {},
   "outputs": [
    {
     "data": {
      "application/vnd.plotly.v1+json": {
       "config": {
        "plotlyServerURL": "https://plot.ly"
       },
       "data": [
        {
         "marker": {
          "color": "#cb1dd1",
          "line": {
           "color": "black",
           "width": 1
          },
          "opacity": 0.8,
          "size": 12
         },
         "mode": "markers",
         "type": "scatter",
         "x": [
          466.92,
          49.53,
          92.61,
          394.18,
          279.93,
          430.49,
          447.11,
          465.31,
          293.57,
          157.2,
          172.01,
          17.97,
          309.45,
          388.04,
          395.43,
          404.16,
          37.55,
          240.29,
          447.11,
          231.26,
          414.36,
          249.91,
          297.59,
          497.84,
          371.57,
          486.83,
          494.17,
          140.31,
          208,
          285.24,
          238.16,
          268.48,
          391.38,
          237.04,
          58.16,
          305.02,
          372.58,
          29.63,
          200.04,
          306.96,
          371.35,
          476.33,
          195.06,
          208.47,
          462.35,
          395.48,
          32.36,
          440.13,
          274.15,
          432.55,
          415.11,
          479.52,
          87.44,
          119.68,
          196.71,
          43.9,
          425.64,
          487.64,
          245.25,
          46.25,
          253.49,
          499.23,
          381.17,
          122.63,
          238.99,
          427.71,
          324.34,
          83.19,
          30.76,
          43.22,
          383.73,
          258.18,
          28.95,
          305.47,
          33.81,
          363.51,
          475.06,
          406.13,
          91.59,
          483.96,
          423.71,
          86.69,
          324.91,
          275.45,
          303.6,
          167.36,
          494.82,
          458.66,
          492.19,
          325.93,
          236.19,
          271.27,
          360.05,
          451.66,
          307.79,
          427.96,
          154.94,
          468.49,
          441.27,
          477.1,
          221.78,
          143.89,
          278.83,
          267.84,
          417.7,
          33.1,
          478.54,
          393.42,
          50.99,
          358.36,
          45.63,
          335.54,
          193.33,
          432.21,
          458.74,
          60.93,
          58.28,
          59.67,
          176.34,
          133.39,
          64.15,
          471.98,
          149.89,
          339.62,
          416.66,
          376.41,
          266.9,
          411.81,
          47.53,
          63.12,
          451.94,
          304.43,
          15.9,
          365.83,
          378.86,
          409.68,
          437.72,
          325.89,
          447.06,
          239.36,
          481.86,
          234.52,
          270.62,
          273.05,
          186.12,
          412.48,
          485.05,
          227.44,
          89.22,
          30.15,
          474.7,
          42.82,
          163.4,
          466.66,
          67.65,
          164.32,
          420.95,
          304.63,
          61.37,
          425.41,
          492.42,
          396.15,
          133.8,
          389.7,
          481.75,
          253.68,
          414.53,
          368.94,
          346.1,
          22.92,
          203.23,
          399.71,
          357.08,
          125.08,
          477.51,
          34.55,
          89.18,
          297.16,
          387.27,
          140.67,
          476.75,
          329.72,
          433.66,
          143.24,
          141.95,
          430.2,
          486.54,
          233.45,
          327.56,
          352.85,
          384.05,
          329.03,
          440.09,
          399.33,
          20.33,
          108.51,
          257.44,
          317.41,
          186.94,
          384.48,
          424.78,
          163.79,
          155.44,
          441.63,
          174.55,
          52.97,
          239.87,
          352.24,
          169.1,
          163.51,
          70.79,
          183.84,
          183.6,
          109.8,
          237.34,
          121.15,
          239.14,
          155.57,
          389.62,
          400.63,
          92.18,
          442.32,
          159.14,
          158.89,
          205.11,
          312.5,
          71.47,
          22.16,
          69.15,
          144.75,
          409.94,
          245.96,
          185.83,
          260.23,
          295.35,
          235.27,
          212.41,
          170.15,
          428.4,
          202.94,
          192.86,
          179.18,
          306.94,
          409.04,
          223.67,
          134.84,
          58.95,
          131.02,
          109.19,
          411.7,
          23.86,
          413.5,
          415.42,
          412.56,
          248.11,
          415.26,
          172.74,
          337.22,
          321.39,
          156.23,
          123.09,
          278.51,
          181.87,
          136.28,
          54.17,
          441.43,
          179.4,
          341.44,
          325.69,
          20.44,
          192.13,
          412.86,
          391.62,
          444,
          63.93,
          472.18,
          380.79,
          193.64,
          20.93,
          318.91,
          444.16,
          256.1,
          372.23,
          384.1,
          56.27,
          183.11,
          448.44,
          308.12,
          178.59,
          111.51,
          408.58,
          95.59,
          126.77,
          368.83,
          84.2,
          37.99,
          422.63,
          175.13,
          125.91,
          384.42,
          277.38,
          241.48,
          460.82,
          292.62,
          109.78,
          451.29,
          58.14,
          418.45,
          83.87,
          420.59,
          336.19,
          436.59,
          252.96,
          122.9,
          355.63,
          390.1,
          95.69,
          45.04,
          458.68,
          221.11,
          60.99,
          384.03,
          354.45,
          330.07,
          263.59,
          428.86,
          129.5,
          397.29,
          320.52,
          22.19,
          466.46,
          132.8,
          114.58,
          398.82,
          320.14,
          465.97,
          45.36,
          492.25,
          158.5,
          164.86,
          140.98,
          113.23,
          421,
          356.85,
          233.47,
          400.52,
          210.54,
          479,
          424.18,
          328.64,
          455.64,
          308.99,
          474.76,
          187.19,
          111.64,
          411.64,
          123.25,
          458.52,
          462.74,
          344.32,
          54.45,
          223.57,
          346.46,
          368.86,
          80.34,
          485.31,
          283.97,
          253.23,
          171.43,
          18.41,
          354.28,
          410.49,
          420.06,
          247.13,
          219.7,
          444.82,
          325.08,
          24.5,
          15.05,
          23.35,
          390.67,
          300.77,
          171.43,
          25.78,
          26.21,
          423.27,
          280.34,
          21.97,
          173.34,
          286.85,
          55.5,
          289.04,
          261.35,
          257.36,
          107.3,
          226.1,
          93.78,
          33.4,
          406.11,
          151.15,
          132.09,
          77.16,
          20.35,
          379.14,
          234.74,
          393.51,
          432.22,
          116.94,
          37.8,
          290.47,
          312.47,
          152.42,
          339.88,
          419.97,
          93.03,
          165.38,
          223.53,
          330.9,
          266.37,
          298.62,
          283.15,
          82.43,
          309.22,
          302.82,
          124.06,
          121.54,
          101.32,
          63.77,
          257.24,
          324.43,
          176.2,
          47,
          125.11,
          71.55,
          452.66,
          175.73,
          279.35,
          164.88,
          248.61,
          238.78,
          341.67,
          105.42,
          36.83,
          463,
          51.01,
          224.62,
          264.41,
          153.33,
          471.47,
          256.27,
          350.28,
          220.85,
          266.09,
          273.84,
          317.04,
          199.83,
          293.49,
          203.6,
          26.22,
          63.08,
          199.81,
          461.83,
          295.55,
          169.52,
          478.87,
          320.29,
          110.1,
          26.96,
          113.49,
          69.98,
          54.35,
          166.23,
          38.03,
          471.78,
          370.01,
          371.88,
          227.29,
          293.94,
          105.51,
          316.74,
          274.28,
          394.59,
          229.65,
          385.28,
          146.34,
          267.52,
          182.01,
          227.05,
          294.13,
          148.97,
          18.08,
          135.93,
          151.32,
          149.84,
          304.95,
          335.56,
          78.29,
          200.72,
          42.32,
          219.83
         ],
         "y": [
          161.11,
          9.24,
          171.13,
          71.89,
          171.22,
          136.6,
          63.33,
          32.37,
          76.4,
          119.52,
          49.7,
          181.6,
          139.59,
          147.53,
          194.29,
          180.91,
          91.89,
          148.91,
          60.33,
          91.96,
          96.9,
          150.02,
          169.96,
          48.99,
          157.53,
          53.01,
          172.93,
          127.44,
          167.2,
          79.53,
          85.02,
          178.28,
          127.09,
          128.48,
          107.17,
          96.22,
          26.66,
          55.43,
          196.65,
          73.31,
          141.01,
          83.51,
          59.8,
          105.48,
          92.65,
          58.78,
          82.15,
          21.53,
          53.31,
          124.04,
          30.14,
          31.52,
          137.81,
          13.14,
          3.83,
          167.07,
          170.76,
          130.59,
          114.77,
          68.38,
          28.01,
          188.94,
          188.58,
          195.62,
          121.91,
          2.12,
          195.94,
          167.37,
          57.25,
          6.93,
          103.73,
          161.6,
          114.09,
          158.29,
          9.46,
          65.07,
          150.5,
          178.85,
          132.86,
          14.1,
          15.87,
          12.45,
          26.51,
          92.91,
          62.62,
          189.21,
          96.26,
          167.15,
          172.78,
          39.73,
          59.76,
          168.49,
          192.6,
          51.94,
          6.9,
          20.92,
          65.25,
          38.33,
          151.78,
          40.43
         ]
        }
       ],
       "layout": {
        "height": 600,
        "template": {
         "data": {
          "bar": [
           {
            "error_x": {
             "color": "#2a3f5f"
            },
            "error_y": {
             "color": "#2a3f5f"
            },
            "marker": {
             "line": {
              "color": "#E5ECF6",
              "width": 0.5
             },
             "pattern": {
              "fillmode": "overlay",
              "size": 10,
              "solidity": 0.2
             }
            },
            "type": "bar"
           }
          ],
          "barpolar": [
           {
            "marker": {
             "line": {
              "color": "#E5ECF6",
              "width": 0.5
             },
             "pattern": {
              "fillmode": "overlay",
              "size": 10,
              "solidity": 0.2
             }
            },
            "type": "barpolar"
           }
          ],
          "carpet": [
           {
            "aaxis": {
             "endlinecolor": "#2a3f5f",
             "gridcolor": "white",
             "linecolor": "white",
             "minorgridcolor": "white",
             "startlinecolor": "#2a3f5f"
            },
            "baxis": {
             "endlinecolor": "#2a3f5f",
             "gridcolor": "white",
             "linecolor": "white",
             "minorgridcolor": "white",
             "startlinecolor": "#2a3f5f"
            },
            "type": "carpet"
           }
          ],
          "choropleth": [
           {
            "colorbar": {
             "outlinewidth": 0,
             "ticks": ""
            },
            "type": "choropleth"
           }
          ],
          "contour": [
           {
            "colorbar": {
             "outlinewidth": 0,
             "ticks": ""
            },
            "colorscale": [
             [
              0,
              "#0d0887"
             ],
             [
              0.1111111111111111,
              "#46039f"
             ],
             [
              0.2222222222222222,
              "#7201a8"
             ],
             [
              0.3333333333333333,
              "#9c179e"
             ],
             [
              0.4444444444444444,
              "#bd3786"
             ],
             [
              0.5555555555555556,
              "#d8576b"
             ],
             [
              0.6666666666666666,
              "#ed7953"
             ],
             [
              0.7777777777777778,
              "#fb9f3a"
             ],
             [
              0.8888888888888888,
              "#fdca26"
             ],
             [
              1,
              "#f0f921"
             ]
            ],
            "type": "contour"
           }
          ],
          "contourcarpet": [
           {
            "colorbar": {
             "outlinewidth": 0,
             "ticks": ""
            },
            "type": "contourcarpet"
           }
          ],
          "heatmap": [
           {
            "colorbar": {
             "outlinewidth": 0,
             "ticks": ""
            },
            "colorscale": [
             [
              0,
              "#0d0887"
             ],
             [
              0.1111111111111111,
              "#46039f"
             ],
             [
              0.2222222222222222,
              "#7201a8"
             ],
             [
              0.3333333333333333,
              "#9c179e"
             ],
             [
              0.4444444444444444,
              "#bd3786"
             ],
             [
              0.5555555555555556,
              "#d8576b"
             ],
             [
              0.6666666666666666,
              "#ed7953"
             ],
             [
              0.7777777777777778,
              "#fb9f3a"
             ],
             [
              0.8888888888888888,
              "#fdca26"
             ],
             [
              1,
              "#f0f921"
             ]
            ],
            "type": "heatmap"
           }
          ],
          "heatmapgl": [
           {
            "colorbar": {
             "outlinewidth": 0,
             "ticks": ""
            },
            "colorscale": [
             [
              0,
              "#0d0887"
             ],
             [
              0.1111111111111111,
              "#46039f"
             ],
             [
              0.2222222222222222,
              "#7201a8"
             ],
             [
              0.3333333333333333,
              "#9c179e"
             ],
             [
              0.4444444444444444,
              "#bd3786"
             ],
             [
              0.5555555555555556,
              "#d8576b"
             ],
             [
              0.6666666666666666,
              "#ed7953"
             ],
             [
              0.7777777777777778,
              "#fb9f3a"
             ],
             [
              0.8888888888888888,
              "#fdca26"
             ],
             [
              1,
              "#f0f921"
             ]
            ],
            "type": "heatmapgl"
           }
          ],
          "histogram": [
           {
            "marker": {
             "pattern": {
              "fillmode": "overlay",
              "size": 10,
              "solidity": 0.2
             }
            },
            "type": "histogram"
           }
          ],
          "histogram2d": [
           {
            "colorbar": {
             "outlinewidth": 0,
             "ticks": ""
            },
            "colorscale": [
             [
              0,
              "#0d0887"
             ],
             [
              0.1111111111111111,
              "#46039f"
             ],
             [
              0.2222222222222222,
              "#7201a8"
             ],
             [
              0.3333333333333333,
              "#9c179e"
             ],
             [
              0.4444444444444444,
              "#bd3786"
             ],
             [
              0.5555555555555556,
              "#d8576b"
             ],
             [
              0.6666666666666666,
              "#ed7953"
             ],
             [
              0.7777777777777778,
              "#fb9f3a"
             ],
             [
              0.8888888888888888,
              "#fdca26"
             ],
             [
              1,
              "#f0f921"
             ]
            ],
            "type": "histogram2d"
           }
          ],
          "histogram2dcontour": [
           {
            "colorbar": {
             "outlinewidth": 0,
             "ticks": ""
            },
            "colorscale": [
             [
              0,
              "#0d0887"
             ],
             [
              0.1111111111111111,
              "#46039f"
             ],
             [
              0.2222222222222222,
              "#7201a8"
             ],
             [
              0.3333333333333333,
              "#9c179e"
             ],
             [
              0.4444444444444444,
              "#bd3786"
             ],
             [
              0.5555555555555556,
              "#d8576b"
             ],
             [
              0.6666666666666666,
              "#ed7953"
             ],
             [
              0.7777777777777778,
              "#fb9f3a"
             ],
             [
              0.8888888888888888,
              "#fdca26"
             ],
             [
              1,
              "#f0f921"
             ]
            ],
            "type": "histogram2dcontour"
           }
          ],
          "mesh3d": [
           {
            "colorbar": {
             "outlinewidth": 0,
             "ticks": ""
            },
            "type": "mesh3d"
           }
          ],
          "parcoords": [
           {
            "line": {
             "colorbar": {
              "outlinewidth": 0,
              "ticks": ""
             }
            },
            "type": "parcoords"
           }
          ],
          "pie": [
           {
            "automargin": true,
            "type": "pie"
           }
          ],
          "scatter": [
           {
            "fillpattern": {
             "fillmode": "overlay",
             "size": 10,
             "solidity": 0.2
            },
            "type": "scatter"
           }
          ],
          "scatter3d": [
           {
            "line": {
             "colorbar": {
              "outlinewidth": 0,
              "ticks": ""
             }
            },
            "marker": {
             "colorbar": {
              "outlinewidth": 0,
              "ticks": ""
             }
            },
            "type": "scatter3d"
           }
          ],
          "scattercarpet": [
           {
            "marker": {
             "colorbar": {
              "outlinewidth": 0,
              "ticks": ""
             }
            },
            "type": "scattercarpet"
           }
          ],
          "scattergeo": [
           {
            "marker": {
             "colorbar": {
              "outlinewidth": 0,
              "ticks": ""
             }
            },
            "type": "scattergeo"
           }
          ],
          "scattergl": [
           {
            "marker": {
             "colorbar": {
              "outlinewidth": 0,
              "ticks": ""
             }
            },
            "type": "scattergl"
           }
          ],
          "scattermapbox": [
           {
            "marker": {
             "colorbar": {
              "outlinewidth": 0,
              "ticks": ""
             }
            },
            "type": "scattermapbox"
           }
          ],
          "scatterpolar": [
           {
            "marker": {
             "colorbar": {
              "outlinewidth": 0,
              "ticks": ""
             }
            },
            "type": "scatterpolar"
           }
          ],
          "scatterpolargl": [
           {
            "marker": {
             "colorbar": {
              "outlinewidth": 0,
              "ticks": ""
             }
            },
            "type": "scatterpolargl"
           }
          ],
          "scatterternary": [
           {
            "marker": {
             "colorbar": {
              "outlinewidth": 0,
              "ticks": ""
             }
            },
            "type": "scatterternary"
           }
          ],
          "surface": [
           {
            "colorbar": {
             "outlinewidth": 0,
             "ticks": ""
            },
            "colorscale": [
             [
              0,
              "#0d0887"
             ],
             [
              0.1111111111111111,
              "#46039f"
             ],
             [
              0.2222222222222222,
              "#7201a8"
             ],
             [
              0.3333333333333333,
              "#9c179e"
             ],
             [
              0.4444444444444444,
              "#bd3786"
             ],
             [
              0.5555555555555556,
              "#d8576b"
             ],
             [
              0.6666666666666666,
              "#ed7953"
             ],
             [
              0.7777777777777778,
              "#fb9f3a"
             ],
             [
              0.8888888888888888,
              "#fdca26"
             ],
             [
              1,
              "#f0f921"
             ]
            ],
            "type": "surface"
           }
          ],
          "table": [
           {
            "cells": {
             "fill": {
              "color": "#EBF0F8"
             },
             "line": {
              "color": "white"
             }
            },
            "header": {
             "fill": {
              "color": "#C8D4E3"
             },
             "line": {
              "color": "white"
             }
            },
            "type": "table"
           }
          ]
         },
         "layout": {
          "annotationdefaults": {
           "arrowcolor": "#2a3f5f",
           "arrowhead": 0,
           "arrowwidth": 1
          },
          "autotypenumbers": "strict",
          "coloraxis": {
           "colorbar": {
            "outlinewidth": 0,
            "ticks": ""
           }
          },
          "colorscale": {
           "diverging": [
            [
             0,
             "#8e0152"
            ],
            [
             0.1,
             "#c51b7d"
            ],
            [
             0.2,
             "#de77ae"
            ],
            [
             0.3,
             "#f1b6da"
            ],
            [
             0.4,
             "#fde0ef"
            ],
            [
             0.5,
             "#f7f7f7"
            ],
            [
             0.6,
             "#e6f5d0"
            ],
            [
             0.7,
             "#b8e186"
            ],
            [
             0.8,
             "#7fbc41"
            ],
            [
             0.9,
             "#4d9221"
            ],
            [
             1,
             "#276419"
            ]
           ],
           "sequential": [
            [
             0,
             "#0d0887"
            ],
            [
             0.1111111111111111,
             "#46039f"
            ],
            [
             0.2222222222222222,
             "#7201a8"
            ],
            [
             0.3333333333333333,
             "#9c179e"
            ],
            [
             0.4444444444444444,
             "#bd3786"
            ],
            [
             0.5555555555555556,
             "#d8576b"
            ],
            [
             0.6666666666666666,
             "#ed7953"
            ],
            [
             0.7777777777777778,
             "#fb9f3a"
            ],
            [
             0.8888888888888888,
             "#fdca26"
            ],
            [
             1,
             "#f0f921"
            ]
           ],
           "sequentialminus": [
            [
             0,
             "#0d0887"
            ],
            [
             0.1111111111111111,
             "#46039f"
            ],
            [
             0.2222222222222222,
             "#7201a8"
            ],
            [
             0.3333333333333333,
             "#9c179e"
            ],
            [
             0.4444444444444444,
             "#bd3786"
            ],
            [
             0.5555555555555556,
             "#d8576b"
            ],
            [
             0.6666666666666666,
             "#ed7953"
            ],
            [
             0.7777777777777778,
             "#fb9f3a"
            ],
            [
             0.8888888888888888,
             "#fdca26"
            ],
            [
             1,
             "#f0f921"
            ]
           ]
          },
          "colorway": [
           "#636efa",
           "#EF553B",
           "#00cc96",
           "#ab63fa",
           "#FFA15A",
           "#19d3f3",
           "#FF6692",
           "#B6E880",
           "#FF97FF",
           "#FECB52"
          ],
          "font": {
           "color": "#2a3f5f"
          },
          "geo": {
           "bgcolor": "white",
           "lakecolor": "white",
           "landcolor": "#E5ECF6",
           "showlakes": true,
           "showland": true,
           "subunitcolor": "white"
          },
          "hoverlabel": {
           "align": "left"
          },
          "hovermode": "closest",
          "mapbox": {
           "style": "light"
          },
          "paper_bgcolor": "white",
          "plot_bgcolor": "#E5ECF6",
          "polar": {
           "angularaxis": {
            "gridcolor": "white",
            "linecolor": "white",
            "ticks": ""
           },
           "bgcolor": "#E5ECF6",
           "radialaxis": {
            "gridcolor": "white",
            "linecolor": "white",
            "ticks": ""
           }
          },
          "scene": {
           "xaxis": {
            "backgroundcolor": "#E5ECF6",
            "gridcolor": "white",
            "gridwidth": 2,
            "linecolor": "white",
            "showbackground": true,
            "ticks": "",
            "zerolinecolor": "white"
           },
           "yaxis": {
            "backgroundcolor": "#E5ECF6",
            "gridcolor": "white",
            "gridwidth": 2,
            "linecolor": "white",
            "showbackground": true,
            "ticks": "",
            "zerolinecolor": "white"
           },
           "zaxis": {
            "backgroundcolor": "#E5ECF6",
            "gridcolor": "white",
            "gridwidth": 2,
            "linecolor": "white",
            "showbackground": true,
            "ticks": "",
            "zerolinecolor": "white"
           }
          },
          "shapedefaults": {
           "line": {
            "color": "#2a3f5f"
           }
          },
          "ternary": {
           "aaxis": {
            "gridcolor": "white",
            "linecolor": "white",
            "ticks": ""
           },
           "baxis": {
            "gridcolor": "white",
            "linecolor": "white",
            "ticks": ""
           },
           "bgcolor": "#E5ECF6",
           "caxis": {
            "gridcolor": "white",
            "linecolor": "white",
            "ticks": ""
           }
          },
          "title": {
           "x": 0.05
          },
          "xaxis": {
           "automargin": true,
           "gridcolor": "white",
           "linecolor": "white",
           "ticks": "",
           "title": {
            "standoff": 15
           },
           "zerolinecolor": "white",
           "zerolinewidth": 2
          },
          "yaxis": {
           "automargin": true,
           "gridcolor": "white",
           "linecolor": "white",
           "ticks": "",
           "title": {
            "standoff": 15
           },
           "zerolinecolor": "white",
           "zerolinewidth": 2
          }
         }
        },
        "title": {
         "text": "Product price ($) vs. Total sales amount ($)"
        },
        "width": 800,
        "xaxis": {
         "title": {
          "text": "Sales amount by transaction ($)"
         }
        },
        "yaxis": {
         "title": {
          "text": "Product price ($)"
         }
        }
       }
      }
     },
     "metadata": {},
     "output_type": "display_data"
    }
   ],
   "source": [
    "fig = go.Figure()\n",
    "\n",
    "# Add the scatter trace\n",
    "fig.add_trace(go.Scatter( \n",
    "    x= accepted_transactions['amount'],\n",
    "    y= dict_transactions['products']['price'],\n",
    "    mode='markers', \n",
    "    marker=dict(\n",
    "        size=12, # Size\n",
    "        color='#cb1dd1', # Color\n",
    "        opacity=0.8, # Point transparency \n",
    "        line=dict(width=1, color='black') # Properties of the edges\n",
    "    ),\n",
    "))\n",
    "\n",
    "# Customize the layout\n",
    "fig.update_layout(\n",
    "    title='Product price ($) vs. Total sales amount ($)', # Title\n",
    "    xaxis_title='Sales amount by transaction ($)', # x-axis name\n",
    "    yaxis_title='Product price ($)', # y-axis name\n",
    "    width=800,  # Set the width of the figure to 800 pixels\n",
    "    height=600,  # Set the height of the figure to 600 pixels\n",
    ")"
   ]
  },
  {
   "cell_type": "markdown",
   "metadata": {},
   "source": [
    "No hay relación entre el precio de los productos y el total de las transacciones en las que aparecen."
   ]
  },
  {
   "cell_type": "markdown",
   "metadata": {},
   "source": [
    "---"
   ]
  },
  {
   "cell_type": "markdown",
   "metadata": {},
   "source": [
    "#### **Ejercicio 3**\n",
    "\n",
    "Una variable categòrica."
   ]
  },
  {
   "cell_type": "code",
   "execution_count": 134,
   "metadata": {},
   "outputs": [
    {
     "data": {
      "image/png": "[encoded data removed]",
      "text/plain": [
       "<Figure size 700x500 with 1 Axes>"
      ]
     },
     "metadata": {},
     "output_type": "display_data"
    }
   ],
   "source": [
    "plt.figure(figsize=(7, 5))\n",
    "\n",
    "# Compras por país\n",
    "sns.barplot(x= dict_transactions['data_users']['country'], y= accepted_transactions['amount'], color=\"slateblue\", estimator= np.mean)\n",
    "plt.title(\"Distribution of accepted purchases amount\")\n",
    "plt.xlabel(\"Countries that buy\")\n",
    "plt.ylabel(\"Purchases amount ($)\")\n",
    "\n",
    "plt.show()"
   ]
  },
  {
   "cell_type": "code",
   "execution_count": 201,
   "metadata": {},
   "outputs": [
    {
     "data": {
      "image/png": "[encoded data removed]",
      "text/plain": [
       "<Figure size 1000x500 with 1 Axes>"
      ]
     },
     "metadata": {},
     "output_type": "display_data"
    }
   ],
   "source": [
    "plt.figure(figsize=(10, 5))\n",
    "\n",
    "# Ventas por país\n",
    "sns.barplot(x=dict_transactions['companies']['country'], y= accepted_transactions['amount'], color=\"darkseagreen\", estimator=\"mean\", errorbar=(\"ci\", 50))\n",
    "plt.title(\"Distribution of accepted sales amounts by country\")\n",
    "plt.xlabel(\"Countries that sell products\")\n",
    "plt.ylabel(\"Sales amount ($)\")\n",
    "plt.xticks(rotation=90)\n",
    "\n",
    "plt.show()"
   ]
  },
  {
   "cell_type": "code",
   "execution_count": 203,
   "metadata": {},
   "outputs": [
    {
     "data": {
      "image/png": "[encoded data removed]",
      "text/plain": [
       "<Figure size 1000x400 with 1 Axes>"
      ]
     },
     "metadata": {},
     "output_type": "display_data"
    }
   ],
   "source": [
    "# Agrupo por país y sumo las ventas\n",
    "country_amounts = accepted_transactions.groupby(dict_transactions['companies']['country'])['amount'].sum().reset_index()\n",
    "\n",
    "# create a figure\n",
    "fig, ax = plt.subplots(figsize=(10,4))\n",
    "ax.set_axis_off()\n",
    "\n",
    "# add treemap\n",
    "squarify.plot(\n",
    "   sizes=country_amounts['amount'],\n",
    "   label=country_amounts['country'],\n",
    "   ax=ax\n",
    ")\n",
    "\n",
    "# display plot\n",
    "plt.show()"
   ]
  },
  {
   "cell_type": "markdown",
   "metadata": {},
   "source": [
    "---"
   ]
  },
  {
   "cell_type": "markdown",
   "metadata": {},
   "source": [
    "#### **Ejercicio 4**\n",
    "\n",
    "Una variable categòrica i una numèrica."
   ]
  },
  {
   "cell_type": "code",
   "execution_count": null,
   "metadata": {},
   "outputs": [],
   "source": []
  },
  {
   "cell_type": "markdown",
   "metadata": {},
   "source": [
    "---"
   ]
  },
  {
   "cell_type": "markdown",
   "metadata": {},
   "source": [
    "#### **Ejercicio 5**\n",
    "\n",
    "Dues variables categòriques."
   ]
  },
  {
   "cell_type": "code",
   "execution_count": null,
   "metadata": {},
   "outputs": [
    {
     "name": "stderr",
     "output_type": "stream",
     "text": [
      "C:\\Users\\maria\\AppData\\Local\\Temp\\ipykernel_22808\\2694378967.py:6: FutureWarning:\n",
      "\n",
      "A grouping was used that is not in the columns of the DataFrame and so was excluded from the result. This grouping will be included in a future version of pandas. Add the grouping as a column of the DataFrame to silence this warning.\n",
      "\n",
      "C:\\Users\\maria\\AppData\\Local\\Temp\\ipykernel_22808\\2694378967.py:8: FutureWarning:\n",
      "\n",
      "A grouping was used that is not in the columns of the DataFrame and so was excluded from the result. This grouping will be included in a future version of pandas. Add the grouping as a column of the DataFrame to silence this warning.\n",
      "\n"
     ]
    }
   ],
   "source": [
    "# top bar -> sum all values to find y position of the bars\n",
    "all_transactions = dict_transactions['transactions']['amount'].sum()\n",
    "country_sales = dict_transactions['companies']['country']\n",
    "\n",
    "accepted_transactions = dict_transactions['transactions'].loc[dict_transactions['transactions']['declined'] == 0].copy()\n",
    "accepted_transactions_by_country = round(accepted_transactions.groupby(dict_transactions['companies']['country'], as_index=False)[\"amount\"].sum(), 2)\n",
    "\n",
    "declined_transactions = dict_transactions['transactions'].loc[dict_transactions['transactions']['declined'] == 1].copy()\n",
    "declined_transactions_by_country = round(declined_transactions.groupby(dict_transactions['companies']['country'], as_index=False)[\"amount\"].sum(), 2)"
   ]
  },
  {
   "cell_type": "code",
   "execution_count": 193,
   "metadata": {},
   "outputs": [
    {
     "data": {
      "image/png": "[encoded data removed]",
      "text/plain": [
       "<Figure size 1000x800 with 1 Axes>"
      ]
     },
     "metadata": {},
     "output_type": "display_data"
    }
   ],
   "source": [
    "\"\"\"Transacciones aceptadas y rechazadas por país\"\"\"\n",
    "\n",
    "# set the figure size\n",
    "plt.figure(figsize=(10, 8))\n",
    "\n",
    "# Create accepted bars\n",
    "plt.bar(x=accepted_transactions_by_country.index, height=accepted_transactions_by_country['amount'], color='darkseagreen', label='Accepted')\n",
    "# Create declined bars\n",
    "plt.bar(x=declined_transactions_by_country.index, height=declined_transactions_by_country['amount'], color='indianred', label='Declined')\n",
    "# Custom X axis\n",
    "plt.xticks(rotation=90, fontweight='bold')\n",
    "plt.xlabel(\"Country\")\n",
    "plt.ylabel(\"Transactions ($)\")\n",
    "plt.title(\"Accepted and Declined Transactions by Country\")\n",
    "plt.legend()\n",
    "\n",
    "# Show graphic\n",
    "plt.show()"
   ]
  },
  {
   "cell_type": "markdown",
   "metadata": {},
   "source": [
    "# Cambiar los índices de los países por sus nombres y poner etiquetas de valores"
   ]
  },
  {
   "cell_type": "markdown",
   "metadata": {},
   "source": [
    "---"
   ]
  },
  {
   "cell_type": "markdown",
   "metadata": {},
   "source": [
    "#### **Ejercicio 6**\n",
    "\n",
    "Tres variables."
   ]
  },
  {
   "cell_type": "markdown",
   "metadata": {},
   "source": [
    "---"
   ]
  },
  {
   "cell_type": "markdown",
   "metadata": {},
   "source": [
    "#### **Ejercicio 7**\n",
    "\n",
    "Graficar un Pairplot."
   ]
  },
  {
   "cell_type": "code",
   "execution_count": null,
   "metadata": {},
   "outputs": [],
   "source": []
  },
  {
   "cell_type": "markdown",
   "metadata": {},
   "source": [
    "***\n",
    "***"
   ]
  },
  {
   "cell_type": "markdown",
   "metadata": {},
   "source": [
    "### **Nivel 2**"
   ]
  },
  {
   "cell_type": "markdown",
   "metadata": {},
   "source": [
    "#### **Ejercicio 1**\n",
    "\n",
    "Correlació de totes les variables numèriques."
   ]
  },
  {
   "cell_type": "code",
   "execution_count": null,
   "metadata": {},
   "outputs": [
    {
     "name": "stdout",
     "output_type": "stream",
     "text": [
      "             amount  declined   user_id       lat  longitude      year  \\\n",
      "amount     1.000000 -0.037882 -0.035354  0.078116   0.043439 -0.088487   \n",
      "declined  -0.037882  1.000000  0.414293  0.010402  -0.002523 -0.037207   \n",
      "user_id   -0.035354  0.414293  1.000000 -0.004486   0.017145  0.027736   \n",
      "lat        0.078116  0.010402 -0.004486  1.000000  -0.006894 -0.024211   \n",
      "longitude  0.043439 -0.002523  0.017145 -0.006894   1.000000 -0.048819   \n",
      "year      -0.088487 -0.037207  0.027736 -0.024211  -0.048819  1.000000   \n",
      "month      0.054914 -0.038702 -0.091357  0.013557   0.021973 -0.655303   \n",
      "day        0.051248  0.011546 -0.030009  0.025323  -0.009681 -0.129569   \n",
      "\n",
      "              month       day  \n",
      "amount     0.054914  0.051248  \n",
      "declined  -0.038702  0.011546  \n",
      "user_id   -0.091357 -0.030009  \n",
      "lat        0.013557  0.025323  \n",
      "longitude  0.021973 -0.009681  \n",
      "year      -0.655303 -0.129569  \n",
      "month      1.000000  0.015286  \n",
      "day        0.015286  1.000000  \n"
     ]
    },
    {
     "data": {
      "image/png": "[encoded data removed]",
      "text/plain": [
       "<Figure size 640x480 with 2 Axes>"
      ]
     },
     "metadata": {},
     "output_type": "display_data"
    }
   ],
   "source": [
    "numerical_cols = dict_transactions['transactions'].select_dtypes(include=['float64', 'int64'])\n",
    "\n",
    "correlation = numerical_cols.corr()\n",
    "print(correlation)\n",
    "\n",
    "sns.heatmap(correlation, cmap=\"coolwarm\", annot=True, fmt=\".2f\", linewidths=0.5)\n",
    "plt.title(\"Correlation Heatmap - Numerical Features\", fontweight=\"bold\")\n",
    "\n",
    "plt.show()"
   ]
  },
  {
   "cell_type": "markdown",
   "metadata": {},
   "source": [
    "---"
   ]
  },
  {
   "cell_type": "markdown",
   "metadata": {},
   "source": [
    "#### **Ejercicio 2**\n",
    "\n",
    "Implementa un jointplot."
   ]
  },
  {
   "cell_type": "code",
   "execution_count": null,
   "metadata": {},
   "outputs": [],
   "source": [
    "sns.jointplot(x=\"age\", y=\"fare\", data=titanic, hue='class', kind='scatter', palette='viridis', marker='o')\n",
    "plt.suptitle(\"Distribution of Titanic Fares by Age\", fontweight=\"bold\", y=1.02)\n",
    "plt.xlabel(\"Passenger's Age\")\n",
    "plt.ylabel(\"Passenger's Fare ($)\")\n",
    "plt.xlim(0, 90)\n",
    "plt.ylim(0, 600)\n",
    "plt.show()"
   ]
  },
  {
   "cell_type": "markdown",
   "metadata": {},
   "source": [
    "---\n",
    "---"
   ]
  },
  {
   "cell_type": "markdown",
   "metadata": {},
   "source": [
    "### **Nivel 3**"
   ]
  },
  {
   "cell_type": "markdown",
   "metadata": {},
   "source": [
    "#### **Ejercicio 1**\n",
    "\n",
    "Implementa un violinplot combinat amb un altre tipus de gràfic."
   ]
  },
  {
   "cell_type": "code",
   "execution_count": null,
   "metadata": {},
   "outputs": [],
   "source": []
  },
  {
   "cell_type": "markdown",
   "metadata": {},
   "source": [
    "---"
   ]
  },
  {
   "cell_type": "markdown",
   "metadata": {},
   "source": [
    "#### **Ejercicio 2**\n",
    "\n",
    "Genera un FacetGrid per a visualitzar múltiples aspectes de les dades simultàniament."
   ]
  },
  {
   "cell_type": "code",
   "execution_count": 112,
   "metadata": {},
   "outputs": [
    {
     "data": {
      "image/png": "[encoded data removed]",
      "text/plain": [
       "<Figure size 1200x500 with 2 Axes>"
      ]
     },
     "metadata": {},
     "output_type": "display_data"
    },
    {
     "data": {
      "image/png": "[encoded data removed]",
      "text/plain": [
       "<Figure size 1200x500 with 2 Axes>"
      ]
     },
     "metadata": {},
     "output_type": "display_data"
    }
   ],
   "source": [
    "import seaborn as sns\n",
    "\n",
    "plt.figure(figsize=(12, 5))\n",
    "\n",
    "# Histograma de amount\n",
    "plt.subplot(1, 2, 1)        # Dos gráficos al mismo nivel (uno al lado del otro), el de la izquierda\n",
    "sns.histplot(accepted_transactions['amount'], bins=30, kde=True, color=\"blue\")\n",
    "plt.title(\"Distribution of accepted transaction amounts\")\n",
    "plt.xlabel(\"Amount ($)\")\n",
    "plt.ylabel(\"Count\")\n",
    "\n",
    "# Histograma de price\n",
    "plt.subplot(1, 2, 2)        # Dos gráficos al mismo nivel (uno al lado del otro), el de la derecha\n",
    "sns.histplot(dict_transactions['products']['price'], bins=30, kde=True, color=\"green\")\n",
    "plt.title(\"Product price distribution\")\n",
    "plt.xlabel(\"Priced ($)\")\n",
    "plt.ylabel(\"Count\")\n",
    "\n",
    "plt.tight_layout()\n",
    "plt.show()\n",
    "\n",
    "plt.figure(figsize=(12, 5))\n",
    "\n",
    "# Boxplot de amount\n",
    "plt.subplot(1, 2, 1)\n",
    "sns.boxplot(x=accepted_transactions['amount'], color=\"slateblue\")\n",
    "plt.title(\"Distribution of transaction amounts\")\n",
    "plt.xlabel(\"Amount ($)\")\n",
    "\n",
    "# Boxplot de price\n",
    "plt.subplot(1, 2, 2)\n",
    "sns.boxplot(x=dict_transactions['products']['price'], color=\"darkseagreen\")\n",
    "plt.title(\"Product price distribution\")\n",
    "plt.xlabel(\"Price ($)\")\n",
    "\n",
    "plt.tight_layout()\n",
    "plt.show()\n"
   ]
  }
 ],
 "metadata": {
  "kernelspec": {
   "display_name": "Python 3",
   "language": "python",
   "name": "python3"
  },
  "language_info": {
   "codemirror_mode": {
    "name": "ipython",
    "version": 3
   },
   "file_extension": ".py",
   "mimetype": "text/x-python",
   "name": "python",
   "nbconvert_exporter": "python",
   "pygments_lexer": "ipython3",
   "version": "3.12.9"
  }
 },
 "nbformat": 4,
 "nbformat_minor": 2
}
